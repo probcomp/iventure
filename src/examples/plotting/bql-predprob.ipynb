{
 "cells": [
  {
   "cell_type": "code",
   "execution_count": 1,
   "metadata": {},
   "outputs": [
    {
     "name": "stdout",
     "output_type": "stream",
     "text": [
      "session_id: fsaad@probcomp-1.csail.mit.edu_2017-12-17T11:01:50.651828_6\n"
     ]
    }
   ],
   "source": [
    "%load_ext iventure.magics"
   ]
  },
  {
   "cell_type": "code",
   "execution_count": 5,
   "metadata": {},
   "outputs": [
    {
     "data": {
      "text/plain": [
       "u'Loaded: :memory:'"
      ]
     },
     "execution_count": 5,
     "metadata": {},
     "output_type": "execute_result"
    }
   ],
   "source": [
    "%bayesdb -j :memory:"
   ]
  },
  {
   "cell_type": "code",
   "execution_count": 6,
   "metadata": {},
   "outputs": [
    {
     "name": "stdout",
     "output_type": "stream",
     "text": [
      "Nullified 3032 cells\n"
     ]
    }
   ],
   "source": [
    "%bql CREATE TABLE satellites_t FROM 'resources/satellites.csv'\n",
    "%bql .nullify satellites_t NaN"
   ]
  },
  {
   "cell_type": "code",
   "execution_count": 8,
   "metadata": {},
   "outputs": [
    {
     "data": {
      "text/html": [
       "<div>\n",
       "<table border=\"1\" class=\"dataframe\">\n",
       "  <thead>\n",
       "    <tr style=\"text-align: right;\">\n",
       "      <th></th>\n",
       "    </tr>\n",
       "  </thead>\n",
       "  <tbody>\n",
       "  </tbody>\n",
       "</table>\n",
       "</div>"
      ],
      "text/plain": [
       "Empty DataFrame\n",
       "Columns: []\n",
       "Index: []"
      ]
     },
     "execution_count": 8,
     "metadata": {},
     "output_type": "execute_result"
    }
   ],
   "source": [
    "%%mml\n",
    "CREATE POPULATION satellites FOR satellites_t WITH SCHEMA(\n",
    "    GUESS STATTYPES OF (*);\n",
    ")"
   ]
  },
  {
   "cell_type": "code",
   "execution_count": 10,
   "metadata": {},
   "outputs": [
    {
     "data": {
      "text/html": [
       "<div>\n",
       "<table border=\"1\" class=\"dataframe\">\n",
       "  <thead>\n",
       "    <tr style=\"text-align: right;\">\n",
       "      <th></th>\n",
       "    </tr>\n",
       "  </thead>\n",
       "  <tbody>\n",
       "  </tbody>\n",
       "</table>\n",
       "</div>"
      ],
      "text/plain": [
       "Empty DataFrame\n",
       "Columns: []\n",
       "Index: []"
      ]
     },
     "execution_count": 10,
     "metadata": {},
     "output_type": "execute_result"
    }
   ],
   "source": [
    "%mml CREATE GENERATOR satellites_m FOR satellites;\n",
    "%mml INITIALIZE 16 MODELS FOR satellites_m;\n",
    "%mml ANALYZE satellites_m FOR 100 ITERATION (OPTIMIZED; QUIET);"
   ]
  },
  {
   "cell_type": "code",
   "execution_count": 11,
   "metadata": {},
   "outputs": [
    {
     "name": "stdout",
     "output_type": "stream",
     "text": [
      "Multiprocessing turned off from on.\n"
     ]
    }
   ],
   "source": [
    "%multiprocess off"
   ]
  },
  {
   "cell_type": "code",
   "execution_count": 12,
   "metadata": {},
   "outputs": [
    {
     "data": {
      "text/html": [
       "<div>\n",
       "<table border=\"1\" class=\"dataframe\">\n",
       "  <thead>\n",
       "    <tr style=\"text-align: right;\">\n",
       "      <th></th>\n",
       "      <th>name</th>\n",
       "      <th>apogee_km</th>\n",
       "      <th>perigee_km</th>\n",
       "      <th>period_minutes</th>\n",
       "    </tr>\n",
       "  </thead>\n",
       "  <tbody>\n",
       "    <tr>\n",
       "      <th>0</th>\n",
       "      <td>Advanced Orion 6 (NRO L-15, USA 237)</td>\n",
       "      <td>35805</td>\n",
       "      <td>35771</td>\n",
       "      <td>23.94</td>\n",
       "    </tr>\n",
       "    <tr>\n",
       "      <th>1</th>\n",
       "      <td>DSP 20 (USA 149) (Defense Support Program)</td>\n",
       "      <td>35909</td>\n",
       "      <td>35897</td>\n",
       "      <td>142.08</td>\n",
       "    </tr>\n",
       "    <tr>\n",
       "      <th>2</th>\n",
       "      <td>SDS III-6 (Satellite Data System) NRO L-27, Gr...</td>\n",
       "      <td>35803</td>\n",
       "      <td>35770</td>\n",
       "      <td>14.36</td>\n",
       "    </tr>\n",
       "    <tr>\n",
       "      <th>3</th>\n",
       "      <td>SDS III-7 (Satellite Data System) NRO L-38, Dr...</td>\n",
       "      <td>35805</td>\n",
       "      <td>35771</td>\n",
       "      <td>23.94</td>\n",
       "    </tr>\n",
       "    <tr>\n",
       "      <th>4</th>\n",
       "      <td>Sirius 1 (SD Radio 1)</td>\n",
       "      <td>47100</td>\n",
       "      <td>23783</td>\n",
       "      <td>1418.50</td>\n",
       "    </tr>\n",
       "    <tr>\n",
       "      <th>5</th>\n",
       "      <td>Van Allen Probe A (RBSP-A, Radiation Belt Stor...</td>\n",
       "      <td>30534</td>\n",
       "      <td>591</td>\n",
       "      <td>539.06</td>\n",
       "    </tr>\n",
       "    <tr>\n",
       "      <th>6</th>\n",
       "      <td>Van Allen Probe B (RBSP-B, Radiation Belt Stor...</td>\n",
       "      <td>30657</td>\n",
       "      <td>595</td>\n",
       "      <td>541.40</td>\n",
       "    </tr>\n",
       "  </tbody>\n",
       "</table>\n",
       "</div>"
      ],
      "text/plain": [
       "                                                name  apogee_km  perigee_km  \\\n",
       "0               Advanced Orion 6 (NRO L-15, USA 237)      35805       35771   \n",
       "1         DSP 20 (USA 149) (Defense Support Program)      35909       35897   \n",
       "2  SDS III-6 (Satellite Data System) NRO L-27, Gr...      35803       35770   \n",
       "3  SDS III-7 (Satellite Data System) NRO L-38, Dr...      35805       35771   \n",
       "4                              Sirius 1 (SD Radio 1)      47100       23783   \n",
       "5  Van Allen Probe A (RBSP-A, Radiation Belt Stor...      30534         591   \n",
       "6  Van Allen Probe B (RBSP-B, Radiation Belt Stor...      30657         595   \n",
       "\n",
       "   period_minutes  \n",
       "0           23.94  \n",
       "1          142.08  \n",
       "2           14.36  \n",
       "3           23.94  \n",
       "4         1418.50  \n",
       "5          539.06  \n",
       "6          541.40  "
      ]
     },
     "execution_count": 12,
     "metadata": {},
     "output_type": "execute_result"
    }
   ],
   "source": [
    "%%bql\n",
    "ESTIMATE\n",
    "    \"name\",\n",
    "    \"apogee_km\",\n",
    "    \"perigee_km\",\n",
    "    \"period_minutes\"\n",
    "FROM satellites\n",
    "WHERE (\n",
    "    PREDICTIVE PROBABILITY OF period_minutes\n",
    "    > PREDICTIVE PROBABILITY OF period_minutes GIVEN (\"apogee_km\", \"perigee_km\")\n",
    ");"
   ]
  }
 ],
 "metadata": {
  "anaconda-cloud": {},
  "kernelspec": {
   "display_name": "Python 2",
   "language": "python",
   "name": "python2"
  },
  "language_info": {
   "codemirror_mode": {
    "name": "ipython",
    "version": 2
   },
   "file_extension": ".py",
   "mimetype": "text/x-python",
   "name": "python",
   "nbconvert_exporter": "python",
   "pygments_lexer": "ipython2",
   "version": "2.7.12"
  }
 },
 "nbformat": 4,
 "nbformat_minor": 1
}
