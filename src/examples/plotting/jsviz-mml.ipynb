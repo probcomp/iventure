{
 "cells": [
  {
   "cell_type": "code",
   "execution_count": 2,
   "metadata": {},
   "outputs": [
    {
     "name": "stdout",
     "output_type": "stream",
     "text": [
      "session_id: fsaad_2017-06-20T19:42:12.782418_E\n"
     ]
    }
   ],
   "source": [
    "%load_ext iventure.magics"
   ]
  },
  {
   "cell_type": "code",
   "execution_count": 3,
   "metadata": {},
   "outputs": [
    {
     "data": {
      "application/javascript": [
       "//   Copyright (c) 2010-2016, MIT Probabilistic Computing Project\n",
       "//\n",
       "//   Licensed under the Apache License, Version 2.0 (the \"License\");\n",
       "//   you may not use this file except in compliance with the License.\n",
       "//   You may obtain a copy of the License at\n",
       "//\n",
       "//       http://www.apache.org/licenses/LICENSE-2.0\n",
       "//\n",
       "//   Unless required by applicable law or agreed to in writing, software\n",
       "//   distributed under the License is distributed on an \"AS IS\" BASIS,\n",
       "//   WITHOUT WARRANTIES OR CONDITIONS OF ANY KIND, either express or implied.\n",
       "//   See the License for the specific language governing permissions and\n",
       "//   limitations under the License.\n",
       "\n",
       "var myCell = element\n",
       "window.VizGPMReady = new Promise(resolve => {\n",
       "  $.getScript('https://probcomp-2.csail.mit.edu/vizgpm/vizgpm.js', function() {\n",
       "    myCell.append('Loaded VizGPM v' + VizGPM.version);\n",
       "    $.getScript('https://cdnjs.cloudflare.com/ajax/libs/lodash.js/4.17.4/lodash.js', function() {\n",
       "      myCell.append('Loaded lodash v' + _.VERSION);\n",
       "      VizGPM._ = _.noConflict();\n",
       "      resolve(VizGPM)\n",
       "    });\n",
       "  })\n",
       "})\n"
      ],
      "text/plain": [
       "<IPython.core.display.Javascript object>"
      ]
     },
     "execution_count": 3,
     "metadata": {},
     "output_type": "execute_result"
    }
   ],
   "source": [
    "%matplotlib inline\n",
    "%vizgpm inline"
   ]
  },
  {
   "cell_type": "code",
   "execution_count": 4,
   "metadata": {},
   "outputs": [
    {
     "data": {
      "text/plain": [
       "u'Loaded: resources/satellites.jsviz.bdb'"
      ]
     },
     "execution_count": 4,
     "metadata": {},
     "output_type": "execute_result"
    }
   ],
   "source": [
    "%bayesdb -j resources/satellites.jsviz.bdb"
   ]
  },
  {
   "cell_type": "code",
   "execution_count": 4,
   "metadata": {},
   "outputs": [
    {
     "name": "stdout",
     "output_type": "stream",
     "text": [
      "Nullified 3032 cells\n"
     ]
    }
   ],
   "source": [
    "%bql CREATE TABLE satellites_t FROM 'resources/satellites.csv'\n",
    "%bql .nullify satellites_t NaN"
   ]
  },
  {
   "cell_type": "code",
   "execution_count": 5,
   "metadata": {},
   "outputs": [
    {
     "data": {
      "text/html": [
       "<div>\n",
       "<table border=\"1\" class=\"dataframe\">\n",
       "  <thead>\n",
       "    <tr style=\"text-align: right;\">\n",
       "      <th></th>\n",
       "    </tr>\n",
       "  </thead>\n",
       "  <tbody>\n",
       "  </tbody>\n",
       "</table>\n",
       "</div>"
      ],
      "text/plain": [
       "Empty DataFrame\n",
       "Columns: []\n",
       "Index: []"
      ]
     },
     "execution_count": 5,
     "metadata": {},
     "output_type": "execute_result"
    }
   ],
   "source": [
    "%%mml\n",
    "CREATE POPULATION satellites FOR satellites_t WITH SCHEMA(\n",
    "    GUESS STATTYPES FOR (*);\n",
    ")"
   ]
  },
  {
   "cell_type": "code",
   "execution_count": 6,
   "metadata": {},
   "outputs": [
    {
     "data": {
      "text/html": [
       "<div>\n",
       "<table border=\"1\" class=\"dataframe\">\n",
       "  <thead>\n",
       "    <tr style=\"text-align: right;\">\n",
       "      <th></th>\n",
       "    </tr>\n",
       "  </thead>\n",
       "  <tbody>\n",
       "  </tbody>\n",
       "</table>\n",
       "</div>"
      ],
      "text/plain": [
       "Empty DataFrame\n",
       "Columns: []\n",
       "Index: []"
      ]
     },
     "execution_count": 6,
     "metadata": {},
     "output_type": "execute_result"
    }
   ],
   "source": [
    "%mml CREATE METAMODEL satellites_m FOR satellites WITH BASELINE crosscat;\n",
    "%mml INITIALIZE 16 MODELS FOR satellites_m;"
   ]
  },
  {
   "cell_type": "code",
   "execution_count": 7,
   "metadata": {
    "scrolled": false
   },
   "outputs": [
    {
     "name": "stdout",
     "output_type": "stream",
     "text": [
      "Completed: 100 iterations in 25.681725 seconds.\n",
      "Completed: 100 iterations in 26.083890 seconds.\n",
      "Completed: 100 iterations in 28.385625 seconds.\n",
      "Completed: 100 iterations in 28.238283 seconds.\n",
      "Completed: 100 iterations in 28.651527 seconds.\n",
      "Completed: 100 iterations in 28.798019 seconds.\n",
      "Completed: 100 iterations in 30.363632 seconds.\n",
      "Completed: 100 iterations in 30.088599 seconds.\n",
      "Completed: 100 iterations in 30.458555 seconds.\n",
      "Completed: 100 iterations in 30.868549 seconds.\n",
      "Completed: 100 iterations in 31.071760 seconds.\n",
      "Completed: 100 iterations in 31.845243 seconds.\n",
      "Completed: 100 iterations in 32.287313 seconds.\n",
      "Completed: 100 iterations in 32.626623 seconds.\n",
      "Completed: 100 iterations in 33.757823 seconds.\n",
      "Completed: 100 iterations in 37.052041 seconds.\n"
     ]
    },
    {
     "data": {
      "text/html": [
       "<div>\n",
       "<table border=\"1\" class=\"dataframe\">\n",
       "  <thead>\n",
       "    <tr style=\"text-align: right;\">\n",
       "      <th></th>\n",
       "    </tr>\n",
       "  </thead>\n",
       "  <tbody>\n",
       "  </tbody>\n",
       "</table>\n",
       "</div>"
      ],
      "text/plain": [
       "Empty DataFrame\n",
       "Columns: []\n",
       "Index: []"
      ]
     },
     "execution_count": 7,
     "metadata": {},
     "output_type": "execute_result"
    }
   ],
   "source": [
    "%mml ANALYZE satellites_m FOR 100 ITERATION WAIT (OPTIMIZED;);"
   ]
  },
  {
   "cell_type": "code",
   "execution_count": 8,
   "metadata": {},
   "outputs": [
    {
     "data": {
      "text/html": [
       "<div>\n",
       "<table border=\"1\" class=\"dataframe\">\n",
       "  <thead>\n",
       "    <tr style=\"text-align: right;\">\n",
       "      <th></th>\n",
       "      <th>name</th>\n",
       "      <th>purpose</th>\n",
       "      <th>class_of_orbit</th>\n",
       "    </tr>\n",
       "  </thead>\n",
       "  <tbody>\n",
       "    <tr>\n",
       "      <th>0</th>\n",
       "      <td>AAUSat-3</td>\n",
       "      <td>Technology Development</td>\n",
       "      <td>LEO</td>\n",
       "    </tr>\n",
       "    <tr>\n",
       "      <th>1</th>\n",
       "      <td>ABS-1 (LMI-1, Lockheed Martin-Intersputnik-1)</td>\n",
       "      <td>Communications</td>\n",
       "      <td>GEO</td>\n",
       "    </tr>\n",
       "    <tr>\n",
       "      <th>2</th>\n",
       "      <td>ABS-1A (Koreasat 2, Mugunghwa 2, ABS-1A)</td>\n",
       "      <td>Communications</td>\n",
       "      <td>GEO</td>\n",
       "    </tr>\n",
       "    <tr>\n",
       "      <th>3</th>\n",
       "      <td>ABS-2i (MBSat, Mobile Broadcasting Satellite, ...</td>\n",
       "      <td>Communications</td>\n",
       "      <td>GEO</td>\n",
       "    </tr>\n",
       "    <tr>\n",
       "      <th>4</th>\n",
       "      <td>ABS-7 (Koreasat 3, Mugungwha 3)</td>\n",
       "      <td>Communications</td>\n",
       "      <td>GEO</td>\n",
       "    </tr>\n",
       "    <tr>\n",
       "      <th>5</th>\n",
       "      <td>AcrimSat (Active Cavity Radiometer Irradiance ...</td>\n",
       "      <td>Solar Physics</td>\n",
       "      <td>LEO</td>\n",
       "    </tr>\n",
       "    <tr>\n",
       "      <th>6</th>\n",
       "      <td>Advanced Orion 2 (NROL 6, USA 139)</td>\n",
       "      <td>Electronic Surveillance</td>\n",
       "      <td>GEO</td>\n",
       "    </tr>\n",
       "    <tr>\n",
       "      <th>7</th>\n",
       "      <td>Advanced Orion 3 (NROL 19, USA 171)</td>\n",
       "      <td>Electronic Surveillance</td>\n",
       "      <td>GEO</td>\n",
       "    </tr>\n",
       "    <tr>\n",
       "      <th>8</th>\n",
       "      <td>Advanced Orion 4 (NRO L-26, USA 202)</td>\n",
       "      <td>Electronic Surveillance</td>\n",
       "      <td>GEO</td>\n",
       "    </tr>\n",
       "    <tr>\n",
       "      <th>9</th>\n",
       "      <td>Advanced Orion 5 (NRO L-32, USA 223)</td>\n",
       "      <td>Electronic Surveillance</td>\n",
       "      <td>GEO</td>\n",
       "    </tr>\n",
       "  </tbody>\n",
       "</table>\n",
       "</div>"
      ],
      "text/plain": [
       "                                                name                  purpose  \\\n",
       "0                                           AAUSat-3   Technology Development   \n",
       "1      ABS-1 (LMI-1, Lockheed Martin-Intersputnik-1)           Communications   \n",
       "2           ABS-1A (Koreasat 2, Mugunghwa 2, ABS-1A)           Communications   \n",
       "3  ABS-2i (MBSat, Mobile Broadcasting Satellite, ...           Communications   \n",
       "4                    ABS-7 (Koreasat 3, Mugungwha 3)           Communications   \n",
       "5  AcrimSat (Active Cavity Radiometer Irradiance ...            Solar Physics   \n",
       "6                 Advanced Orion 2 (NROL 6, USA 139)  Electronic Surveillance   \n",
       "7                Advanced Orion 3 (NROL 19, USA 171)  Electronic Surveillance   \n",
       "8               Advanced Orion 4 (NRO L-26, USA 202)  Electronic Surveillance   \n",
       "9               Advanced Orion 5 (NRO L-32, USA 223)  Electronic Surveillance   \n",
       "\n",
       "  class_of_orbit  \n",
       "0            LEO  \n",
       "1            GEO  \n",
       "2            GEO  \n",
       "3            GEO  \n",
       "4            GEO  \n",
       "5            LEO  \n",
       "6            GEO  \n",
       "7            GEO  \n",
       "8            GEO  \n",
       "9            GEO  "
      ]
     },
     "execution_count": 8,
     "metadata": {},
     "output_type": "execute_result"
    }
   ],
   "source": [
    "%bql SELECT name, purpose, class_of_orbit FROM satellites_t LIMIT 10;"
   ]
  },
  {
   "cell_type": "code",
   "execution_count": 9,
   "metadata": {
    "scrolled": false
   },
   "outputs": [
    {
     "data": {
      "application/javascript": [
       "//   Copyright (c) 2010-2016, MIT Probabilistic Computing Project\n",
       "//\n",
       "//   Licensed under the Apache License, Version 2.0 (the \"License\");\n",
       "//   you may not use this file except in compliance with the License.\n",
       "//   You may obtain a copy of the License at\n",
       "//\n",
       "//       http://www.apache.org/licenses/LICENSE-2.0\n",
       "//\n",
       "//   Unless required by applicable law or agreed to in writing, software\n",
       "//   distributed under the License is distributed on an \"AS IS\" BASIS,\n",
       "//   WITHOUT WARRANTIES OR CONDITIONS OF ANY KIND, either express or implied.\n",
       "//   See the License for the specific language governing permissions and\n",
       "//   limitations under the License.\n",
       "\n",
       "\n",
       "function heatmap(df, labels) {\n",
       "  var myCell = element.is('.output_subarea') ? element : element.next();\n",
       "  if (typeof VizGPMReady === 'undefined') {\n",
       "    throw new Error('VizGPM Display Library not loaded')\n",
       "  }\n",
       "\n",
       "  if (df.columns.length !== 3) {\n",
       "    throw new Error('Must be 3 columns of data');\n",
       "  }\n",
       "\n",
       "  const toggleClass = (element, className, state) => {\n",
       "    element.classList[state ? 'add' : 'remove'](className)\n",
       "  }\n",
       "\n",
       "  // convert the data to an MI object for VizGPM\n",
       "  var associations = {}\n",
       "  const columns = new Set();\n",
       "  for (const [col0, col1, value] of df.data) {\n",
       "    columns.add(col0);\n",
       "    columns.add(col1);\n",
       "    if (!associations[col0]) {\n",
       "      associations[col0] = {}\n",
       "    }\n",
       "    associations[col0][col1] = value\n",
       "  }\n",
       "\n",
       "  function between(col1, col2) {\n",
       "    return associations[col1][col2]\n",
       "  }\n",
       "\n",
       "  // This is what VizGPM expects for the mutual info charts\n",
       "  var mi = { target: labels || [...columns], between: between }\n",
       "\n",
       "  var container = $('<div style=\"display: flex; flex-direction: row;\">')\n",
       "    .appendTo(myCell);\n",
       "\n",
       "  var depProbContainer = $('<div style=\"flex: 1 1 100%;\">').appendTo(container);\n",
       "  var columnListContainer = $('<div style=\"flex: 0 0 200px;\">').appendTo(container);\n",
       "\n",
       "  $(\"<style>.vizgpm-column-list .selected-columns-list .details{display: none !important;}</style>\").appendTo(container);\n",
       "\n",
       "  VizGPMReady.then(function(VizGPM) {\n",
       "    const _ = VizGPM._;\n",
       "\n",
       "    const SP = VizGPM.StateProperty\n",
       "\n",
       "    const schema = [...columns].map(name => ({name}));\n",
       "\n",
       "    var stateManager = new VizGPM.StateManager({\n",
       "      [SP.SCHEMA]: {columns: schema},\n",
       "      columns: [...columns],\n",
       "      [SP.SELECTED_COLUMN_NAMES]: [],\n",
       "      [SP.GET_COLUMN_FUNCTION]: col =>\n",
       "        VizGPM.GpmHandler.prototype._getColumn.call(stateManager, col),\n",
       "    });\n",
       "\n",
       "    // var debug = $('<pre>').appendTo(element);\n",
       "    // stateManager.subscribe(function(newState) {\n",
       "    //   const showState = Object.assign({}, newState.state);\n",
       "    //   delete showState.schema;\n",
       "    //   delete showState.rows;\n",
       "    //   debug.text(JSON.stringify(showState, false, '  '))\n",
       "    // })\n",
       "\n",
       "    const chart = new VizGPM.ZoomableColumnAssociation({\n",
       "      root: depProbContainer[0],\n",
       "      stateManager: stateManager,\n",
       "      // subgridClass: SingleSelectSubgrid,\n",
       "      associationFn: function() {\n",
       "        return mi\n",
       "      },\n",
       "      // subgridConfig: {\n",
       "        // cellSelectedFn: ({ xColumn, yColumn, selectedColumns: [x, y = x] = [] }) =>\n",
       "          // xColumn === x && yColumn === y,\n",
       "      // },\n",
       "      // miniMapConfig: {\n",
       "        // cellSelectedFn: ({ xColumn, yColumn, selectedColumns: [x, y = x] = [] }) =>\n",
       "          // xColumn === x || yColumn === y,\n",
       "      // },\n",
       "    })\n",
       "\n",
       "    const columnList = new VizGPM.UI.ColumnList({\n",
       "      root: columnListContainer[0],\n",
       "      stateManager,\n",
       "    })\n",
       "  })\n",
       "}\n",
       "heatmap({\"columns\":[\"name0\",\"name1\",\"value\"],\"index\":[0,1,2,3,4,5,6,7,8,9,10,11,12,13,14,15,16,17,18,19,20,21,22,23,24,25,26,27,28,29,30,31,32,33,34,35,36,37,38,39,40,41,42,43,44,45,46,47,48,49,50,51,52,53,54,55,56,57,58,59,60,61,62,63,64,65,66,67,68,69,70,71,72,73,74,75,76,77,78,79,80,81,82,83,84,85,86,87,88,89,90,91,92,93,94,95,96,97,98,99,100,101,102,103,104,105,106,107,108,109,110,111,112,113,114,115,116,117,118,119,120,121,122,123,124,125,126,127,128,129,130,131,132,133,134,135,136,137,138,139,140,141,142,143,144,145,146,147,148,149,150,151,152,153,154,155,156,157,158,159,160,161,162,163,164,165,166,167,168,169,170,171,172,173,174,175,176,177,178,179,180,181,182,183,184,185,186,187,188,189,190,191,192,193,194,195,196,197,198,199,200,201,202,203,204,205,206,207,208,209,210,211,212,213,214,215,216,217,218,219,220,221,222,223,224,225,226,227,228,229,230,231,232,233,234,235,236,237,238,239,240,241,242,243,244,245,246,247,248,249,250,251,252,253,254,255,256,257,258,259,260,261,262,263,264,265,266,267,268,269,270,271,272,273,274,275,276,277,278,279,280,281,282,283,284,285,286,287,288,289,290,291,292,293,294,295,296,297,298,299,300,301,302,303,304,305,306,307,308,309,310,311,312,313,314,315,316,317,318,319,320,321,322,323,324,325,326,327,328,329,330,331,332,333,334,335,336,337,338,339,340,341,342,343,344,345,346,347,348,349,350,351,352,353,354,355,356,357,358,359,360,361,362,363,364,365,366,367,368,369,370,371,372,373,374,375,376,377,378,379,380,381,382,383,384,385,386,387,388,389,390,391,392,393,394,395,396,397,398,399,400,401,402,403,404,405,406,407,408,409,410,411,412,413,414,415,416,417,418,419,420,421,422,423,424,425,426,427,428,429,430,431,432,433,434,435,436,437,438,439,440,441,442,443,444,445,446,447,448,449,450,451,452,453,454,455,456,457,458,459,460,461,462,463,464,465,466,467,468,469,470,471,472,473,474,475,476,477,478,479,480,481,482,483],\"data\":[[\"country_of_operator\",\"country_of_operator\",1.0],[\"country_of_operator\",\"operator_owner\",0.25],[\"country_of_operator\",\"users\",0.1875],[\"country_of_operator\",\"purpose\",0.1875],[\"country_of_operator\",\"class_of_orbit\",0.0],[\"country_of_operator\",\"type_of_orbit\",0.3125],[\"country_of_operator\",\"perigee_km\",0.0],[\"country_of_operator\",\"apogee_km\",0.0],[\"country_of_operator\",\"eccentricity\",0.0625],[\"country_of_operator\",\"period_minutes\",0.0],[\"country_of_operator\",\"launch_mass_kg\",0.125],[\"country_of_operator\",\"dry_mass_kg\",0.125],[\"country_of_operator\",\"power_watts\",0.125],[\"country_of_operator\",\"date_of_launch\",0.375],[\"country_of_operator\",\"anticipated_lifetime\",0.125],[\"country_of_operator\",\"contractor\",0.8125],[\"country_of_operator\",\"country_of_contractor\",1.0],[\"country_of_operator\",\"launch_site\",0.1875],[\"country_of_operator\",\"launch_vehicle\",0.125],[\"country_of_operator\",\"source_used_for_orbital_data\",0.0],[\"country_of_operator\",\"longitude_radians_of_geo\",0.875],[\"country_of_operator\",\"inclination_radians\",0.125],[\"operator_owner\",\"country_of_operator\",0.25],[\"operator_owner\",\"operator_owner\",1.0],[\"operator_owner\",\"users\",0.9375],[\"operator_owner\",\"purpose\",0.8125],[\"operator_owner\",\"class_of_orbit\",0.75],[\"operator_owner\",\"type_of_orbit\",0.9375],[\"operator_owner\",\"perigee_km\",0.75],[\"operator_owner\",\"apogee_km\",0.75],[\"operator_owner\",\"eccentricity\",0.3125],[\"operator_owner\",\"period_minutes\",0.75],[\"operator_owner\",\"launch_mass_kg\",0.75],[\"operator_owner\",\"dry_mass_kg\",0.75],[\"operator_owner\",\"power_watts\",0.75],[\"operator_owner\",\"date_of_launch\",0.75],[\"operator_owner\",\"anticipated_lifetime\",0.8125],[\"operator_owner\",\"contractor\",0.4375],[\"operator_owner\",\"country_of_contractor\",0.25],[\"operator_owner\",\"launch_site\",0.9375],[\"operator_owner\",\"launch_vehicle\",0.875],[\"operator_owner\",\"source_used_for_orbital_data\",0.75],[\"operator_owner\",\"longitude_radians_of_geo\",0.1875],[\"operator_owner\",\"inclination_radians\",0.75],[\"users\",\"country_of_operator\",0.1875],[\"users\",\"operator_owner\",0.9375],[\"users\",\"users\",1.0],[\"users\",\"purpose\",0.875],[\"users\",\"class_of_orbit\",0.8125],[\"users\",\"type_of_orbit\",0.875],[\"users\",\"perigee_km\",0.8125],[\"users\",\"apogee_km\",0.8125],[\"users\",\"eccentricity\",0.3125],[\"users\",\"period_minutes\",0.8125],[\"users\",\"launch_mass_kg\",0.75],[\"users\",\"dry_mass_kg\",0.75],[\"users\",\"power_watts\",0.75],[\"users\",\"date_of_launch\",0.6875],[\"users\",\"anticipated_lifetime\",0.875],[\"users\",\"contractor\",0.375],[\"users\",\"country_of_contractor\",0.1875],[\"users\",\"launch_site\",0.875],[\"users\",\"launch_vehicle\",0.9375],[\"users\",\"source_used_for_orbital_data\",0.8125],[\"users\",\"longitude_radians_of_geo\",0.125],[\"users\",\"inclination_radians\",0.8125],[\"purpose\",\"country_of_operator\",0.1875],[\"purpose\",\"operator_owner\",0.8125],[\"purpose\",\"users\",0.875],[\"purpose\",\"purpose\",1.0],[\"purpose\",\"class_of_orbit\",0.8125],[\"purpose\",\"type_of_orbit\",0.875],[\"purpose\",\"perigee_km\",0.8125],[\"purpose\",\"apogee_km\",0.8125],[\"purpose\",\"eccentricity\",0.375],[\"purpose\",\"period_minutes\",0.8125],[\"purpose\",\"launch_mass_kg\",0.625],[\"purpose\",\"dry_mass_kg\",0.625],[\"purpose\",\"power_watts\",0.625],[\"purpose\",\"date_of_launch\",0.6875],[\"purpose\",\"anticipated_lifetime\",0.75],[\"purpose\",\"contractor\",0.375],[\"purpose\",\"country_of_contractor\",0.1875],[\"purpose\",\"launch_site\",0.75],[\"purpose\",\"launch_vehicle\",0.8125],[\"purpose\",\"source_used_for_orbital_data\",0.8125],[\"purpose\",\"longitude_radians_of_geo\",0.125],[\"purpose\",\"inclination_radians\",0.8125],[\"class_of_orbit\",\"country_of_operator\",0.0],[\"class_of_orbit\",\"operator_owner\",0.75],[\"class_of_orbit\",\"users\",0.8125],[\"class_of_orbit\",\"purpose\",0.8125],[\"class_of_orbit\",\"class_of_orbit\",1.0],[\"class_of_orbit\",\"type_of_orbit\",0.6875],[\"class_of_orbit\",\"perigee_km\",1.0],[\"class_of_orbit\",\"apogee_km\",1.0],[\"class_of_orbit\",\"eccentricity\",0.375],[\"class_of_orbit\",\"period_minutes\",1.0],[\"class_of_orbit\",\"launch_mass_kg\",0.625],[\"class_of_orbit\",\"dry_mass_kg\",0.625],[\"class_of_orbit\",\"power_watts\",0.6875],[\"class_of_orbit\",\"date_of_launch\",0.5],[\"class_of_orbit\",\"anticipated_lifetime\",0.8125],[\"class_of_orbit\",\"contractor\",0.1875],[\"class_of_orbit\",\"country_of_contractor\",0.0],[\"class_of_orbit\",\"launch_site\",0.75],[\"class_of_orbit\",\"launch_vehicle\",0.8125],[\"class_of_orbit\",\"source_used_for_orbital_data\",0.9375],[\"class_of_orbit\",\"longitude_radians_of_geo\",0.0625],[\"class_of_orbit\",\"inclination_radians\",0.875],[\"type_of_orbit\",\"country_of_operator\",0.3125],[\"type_of_orbit\",\"operator_owner\",0.9375],[\"type_of_orbit\",\"users\",0.875],[\"type_of_orbit\",\"purpose\",0.875],[\"type_of_orbit\",\"class_of_orbit\",0.6875],[\"type_of_orbit\",\"type_of_orbit\",1.0],[\"type_of_orbit\",\"perigee_km\",0.6875],[\"type_of_orbit\",\"apogee_km\",0.6875],[\"type_of_orbit\",\"eccentricity\",0.3125],[\"type_of_orbit\",\"period_minutes\",0.6875],[\"type_of_orbit\",\"launch_mass_kg\",0.6875],[\"type_of_orbit\",\"dry_mass_kg\",0.6875],[\"type_of_orbit\",\"power_watts\",0.6875],[\"type_of_orbit\",\"date_of_launch\",0.8125],[\"type_of_orbit\",\"anticipated_lifetime\",0.75],[\"type_of_orbit\",\"contractor\",0.5],[\"type_of_orbit\",\"country_of_contractor\",0.3125],[\"type_of_orbit\",\"launch_site\",0.875],[\"type_of_orbit\",\"launch_vehicle\",0.8125],[\"type_of_orbit\",\"source_used_for_orbital_data\",0.6875],[\"type_of_orbit\",\"longitude_radians_of_geo\",0.25],[\"type_of_orbit\",\"inclination_radians\",0.6875],[\"perigee_km\",\"country_of_operator\",0.0],[\"perigee_km\",\"operator_owner\",0.75],[\"perigee_km\",\"users\",0.8125],[\"perigee_km\",\"purpose\",0.8125],[\"perigee_km\",\"class_of_orbit\",1.0],[\"perigee_km\",\"type_of_orbit\",0.6875],[\"perigee_km\",\"perigee_km\",1.0],[\"perigee_km\",\"apogee_km\",1.0],[\"perigee_km\",\"eccentricity\",0.375],[\"perigee_km\",\"period_minutes\",1.0],[\"perigee_km\",\"launch_mass_kg\",0.625],[\"perigee_km\",\"dry_mass_kg\",0.625],[\"perigee_km\",\"power_watts\",0.6875],[\"perigee_km\",\"date_of_launch\",0.5],[\"perigee_km\",\"anticipated_lifetime\",0.8125],[\"perigee_km\",\"contractor\",0.1875],[\"perigee_km\",\"country_of_contractor\",0.0],[\"perigee_km\",\"launch_site\",0.75],[\"perigee_km\",\"launch_vehicle\",0.8125],[\"perigee_km\",\"source_used_for_orbital_data\",0.9375],[\"perigee_km\",\"longitude_radians_of_geo\",0.0625],[\"perigee_km\",\"inclination_radians\",0.875],[\"apogee_km\",\"country_of_operator\",0.0],[\"apogee_km\",\"operator_owner\",0.75],[\"apogee_km\",\"users\",0.8125],[\"apogee_km\",\"purpose\",0.8125],[\"apogee_km\",\"class_of_orbit\",1.0],[\"apogee_km\",\"type_of_orbit\",0.6875],[\"apogee_km\",\"perigee_km\",1.0],[\"apogee_km\",\"apogee_km\",1.0],[\"apogee_km\",\"eccentricity\",0.375],[\"apogee_km\",\"period_minutes\",1.0],[\"apogee_km\",\"launch_mass_kg\",0.625],[\"apogee_km\",\"dry_mass_kg\",0.625],[\"apogee_km\",\"power_watts\",0.6875],[\"apogee_km\",\"date_of_launch\",0.5],[\"apogee_km\",\"anticipated_lifetime\",0.8125],[\"apogee_km\",\"contractor\",0.1875],[\"apogee_km\",\"country_of_contractor\",0.0],[\"apogee_km\",\"launch_site\",0.75],[\"apogee_km\",\"launch_vehicle\",0.8125],[\"apogee_km\",\"source_used_for_orbital_data\",0.9375],[\"apogee_km\",\"longitude_radians_of_geo\",0.0625],[\"apogee_km\",\"inclination_radians\",0.875],[\"eccentricity\",\"country_of_operator\",0.0625],[\"eccentricity\",\"operator_owner\",0.3125],[\"eccentricity\",\"users\",0.3125],[\"eccentricity\",\"purpose\",0.375],[\"eccentricity\",\"class_of_orbit\",0.375],[\"eccentricity\",\"type_of_orbit\",0.3125],[\"eccentricity\",\"perigee_km\",0.375],[\"eccentricity\",\"apogee_km\",0.375],[\"eccentricity\",\"eccentricity\",1.0],[\"eccentricity\",\"period_minutes\",0.375],[\"eccentricity\",\"launch_mass_kg\",0.1875],[\"eccentricity\",\"dry_mass_kg\",0.1875],[\"eccentricity\",\"power_watts\",0.1875],[\"eccentricity\",\"date_of_launch\",0.25],[\"eccentricity\",\"anticipated_lifetime\",0.25],[\"eccentricity\",\"contractor\",0.125],[\"eccentricity\",\"country_of_contractor\",0.0625],[\"eccentricity\",\"launch_site\",0.25],[\"eccentricity\",\"launch_vehicle\",0.25],[\"eccentricity\",\"source_used_for_orbital_data\",0.375],[\"eccentricity\",\"longitude_radians_of_geo\",0.125],[\"eccentricity\",\"inclination_radians\",0.3125],[\"period_minutes\",\"country_of_operator\",0.0],[\"period_minutes\",\"operator_owner\",0.75],[\"period_minutes\",\"users\",0.8125],[\"period_minutes\",\"purpose\",0.8125],[\"period_minutes\",\"class_of_orbit\",1.0],[\"period_minutes\",\"type_of_orbit\",0.6875],[\"period_minutes\",\"perigee_km\",1.0],[\"period_minutes\",\"apogee_km\",1.0],[\"period_minutes\",\"eccentricity\",0.375],[\"period_minutes\",\"period_minutes\",1.0],[\"period_minutes\",\"launch_mass_kg\",0.625],[\"period_minutes\",\"dry_mass_kg\",0.625],[\"period_minutes\",\"power_watts\",0.6875],[\"period_minutes\",\"date_of_launch\",0.5],[\"period_minutes\",\"anticipated_lifetime\",0.8125],[\"period_minutes\",\"contractor\",0.1875],[\"period_minutes\",\"country_of_contractor\",0.0],[\"period_minutes\",\"launch_site\",0.75],[\"period_minutes\",\"launch_vehicle\",0.8125],[\"period_minutes\",\"source_used_for_orbital_data\",0.9375],[\"period_minutes\",\"longitude_radians_of_geo\",0.0625],[\"period_minutes\",\"inclination_radians\",0.875],[\"launch_mass_kg\",\"country_of_operator\",0.125],[\"launch_mass_kg\",\"operator_owner\",0.75],[\"launch_mass_kg\",\"users\",0.75],[\"launch_mass_kg\",\"purpose\",0.625],[\"launch_mass_kg\",\"class_of_orbit\",0.625],[\"launch_mass_kg\",\"type_of_orbit\",0.6875],[\"launch_mass_kg\",\"perigee_km\",0.625],[\"launch_mass_kg\",\"apogee_km\",0.625],[\"launch_mass_kg\",\"eccentricity\",0.1875],[\"launch_mass_kg\",\"period_minutes\",0.625],[\"launch_mass_kg\",\"launch_mass_kg\",1.0],[\"launch_mass_kg\",\"dry_mass_kg\",1.0],[\"launch_mass_kg\",\"power_watts\",0.9375],[\"launch_mass_kg\",\"date_of_launch\",0.75],[\"launch_mass_kg\",\"anticipated_lifetime\",0.6875],[\"launch_mass_kg\",\"contractor\",0.3125],[\"launch_mass_kg\",\"country_of_contractor\",0.125],[\"launch_mass_kg\",\"launch_site\",0.8125],[\"launch_mass_kg\",\"launch_vehicle\",0.8125],[\"launch_mass_kg\",\"source_used_for_orbital_data\",0.6875],[\"launch_mass_kg\",\"longitude_radians_of_geo\",0.0625],[\"launch_mass_kg\",\"inclination_radians\",0.625],[\"dry_mass_kg\",\"country_of_operator\",0.125],[\"dry_mass_kg\",\"operator_owner\",0.75],[\"dry_mass_kg\",\"users\",0.75],[\"dry_mass_kg\",\"purpose\",0.625],[\"dry_mass_kg\",\"class_of_orbit\",0.625],[\"dry_mass_kg\",\"type_of_orbit\",0.6875],[\"dry_mass_kg\",\"perigee_km\",0.625],[\"dry_mass_kg\",\"apogee_km\",0.625],[\"dry_mass_kg\",\"eccentricity\",0.1875],[\"dry_mass_kg\",\"period_minutes\",0.625],[\"dry_mass_kg\",\"launch_mass_kg\",1.0],[\"dry_mass_kg\",\"dry_mass_kg\",1.0],[\"dry_mass_kg\",\"power_watts\",0.9375],[\"dry_mass_kg\",\"date_of_launch\",0.75],[\"dry_mass_kg\",\"anticipated_lifetime\",0.6875],[\"dry_mass_kg\",\"contractor\",0.3125],[\"dry_mass_kg\",\"country_of_contractor\",0.125],[\"dry_mass_kg\",\"launch_site\",0.8125],[\"dry_mass_kg\",\"launch_vehicle\",0.8125],[\"dry_mass_kg\",\"source_used_for_orbital_data\",0.6875],[\"dry_mass_kg\",\"longitude_radians_of_geo\",0.0625],[\"dry_mass_kg\",\"inclination_radians\",0.625],[\"power_watts\",\"country_of_operator\",0.125],[\"power_watts\",\"operator_owner\",0.75],[\"power_watts\",\"users\",0.75],[\"power_watts\",\"purpose\",0.625],[\"power_watts\",\"class_of_orbit\",0.6875],[\"power_watts\",\"type_of_orbit\",0.6875],[\"power_watts\",\"perigee_km\",0.6875],[\"power_watts\",\"apogee_km\",0.6875],[\"power_watts\",\"eccentricity\",0.1875],[\"power_watts\",\"period_minutes\",0.6875],[\"power_watts\",\"launch_mass_kg\",0.9375],[\"power_watts\",\"dry_mass_kg\",0.9375],[\"power_watts\",\"power_watts\",1.0],[\"power_watts\",\"date_of_launch\",0.75],[\"power_watts\",\"anticipated_lifetime\",0.75],[\"power_watts\",\"contractor\",0.3125],[\"power_watts\",\"country_of_contractor\",0.125],[\"power_watts\",\"launch_site\",0.75],[\"power_watts\",\"launch_vehicle\",0.75],[\"power_watts\",\"source_used_for_orbital_data\",0.625],[\"power_watts\",\"longitude_radians_of_geo\",0.0625],[\"power_watts\",\"inclination_radians\",0.6875],[\"date_of_launch\",\"country_of_operator\",0.375],[\"date_of_launch\",\"operator_owner\",0.75],[\"date_of_launch\",\"users\",0.6875],[\"date_of_launch\",\"purpose\",0.6875],[\"date_of_launch\",\"class_of_orbit\",0.5],[\"date_of_launch\",\"type_of_orbit\",0.8125],[\"date_of_launch\",\"perigee_km\",0.5],[\"date_of_launch\",\"apogee_km\",0.5],[\"date_of_launch\",\"eccentricity\",0.25],[\"date_of_launch\",\"period_minutes\",0.5],[\"date_of_launch\",\"launch_mass_kg\",0.75],[\"date_of_launch\",\"dry_mass_kg\",0.75],[\"date_of_launch\",\"power_watts\",0.75],[\"date_of_launch\",\"date_of_launch\",1.0],[\"date_of_launch\",\"anticipated_lifetime\",0.5625],[\"date_of_launch\",\"contractor\",0.5625],[\"date_of_launch\",\"country_of_contractor\",0.375],[\"date_of_launch\",\"launch_site\",0.6875],[\"date_of_launch\",\"launch_vehicle\",0.625],[\"date_of_launch\",\"source_used_for_orbital_data\",0.5],[\"date_of_launch\",\"longitude_radians_of_geo\",0.3125],[\"date_of_launch\",\"inclination_radians\",0.625],[\"anticipated_lifetime\",\"country_of_operator\",0.125],[\"anticipated_lifetime\",\"operator_owner\",0.8125],[\"anticipated_lifetime\",\"users\",0.875],[\"anticipated_lifetime\",\"purpose\",0.75],[\"anticipated_lifetime\",\"class_of_orbit\",0.8125],[\"anticipated_lifetime\",\"type_of_orbit\",0.75],[\"anticipated_lifetime\",\"perigee_km\",0.8125],[\"anticipated_lifetime\",\"apogee_km\",0.8125],[\"anticipated_lifetime\",\"eccentricity\",0.25],[\"anticipated_lifetime\",\"period_minutes\",0.8125],[\"anticipated_lifetime\",\"launch_mass_kg\",0.6875],[\"anticipated_lifetime\",\"dry_mass_kg\",0.6875],[\"anticipated_lifetime\",\"power_watts\",0.75],[\"anticipated_lifetime\",\"date_of_launch\",0.5625],[\"anticipated_lifetime\",\"anticipated_lifetime\",1.0],[\"anticipated_lifetime\",\"contractor\",0.3125],[\"anticipated_lifetime\",\"country_of_contractor\",0.125],[\"anticipated_lifetime\",\"launch_site\",0.8125],[\"anticipated_lifetime\",\"launch_vehicle\",0.875],[\"anticipated_lifetime\",\"source_used_for_orbital_data\",0.75],[\"anticipated_lifetime\",\"longitude_radians_of_geo\",0.0625],[\"anticipated_lifetime\",\"inclination_radians\",0.8125],[\"contractor\",\"country_of_operator\",0.8125],[\"contractor\",\"operator_owner\",0.4375],[\"contractor\",\"users\",0.375],[\"contractor\",\"purpose\",0.375],[\"contractor\",\"class_of_orbit\",0.1875],[\"contractor\",\"type_of_orbit\",0.5],[\"contractor\",\"perigee_km\",0.1875],[\"contractor\",\"apogee_km\",0.1875],[\"contractor\",\"eccentricity\",0.125],[\"contractor\",\"period_minutes\",0.1875],[\"contractor\",\"launch_mass_kg\",0.3125],[\"contractor\",\"dry_mass_kg\",0.3125],[\"contractor\",\"power_watts\",0.3125],[\"contractor\",\"date_of_launch\",0.5625],[\"contractor\",\"anticipated_lifetime\",0.3125],[\"contractor\",\"contractor\",1.0],[\"contractor\",\"country_of_contractor\",0.8125],[\"contractor\",\"launch_site\",0.375],[\"contractor\",\"launch_vehicle\",0.3125],[\"contractor\",\"source_used_for_orbital_data\",0.1875],[\"contractor\",\"longitude_radians_of_geo\",0.6875],[\"contractor\",\"inclination_radians\",0.3125],[\"country_of_contractor\",\"country_of_operator\",1.0],[\"country_of_contractor\",\"operator_owner\",0.25],[\"country_of_contractor\",\"users\",0.1875],[\"country_of_contractor\",\"purpose\",0.1875],[\"country_of_contractor\",\"class_of_orbit\",0.0],[\"country_of_contractor\",\"type_of_orbit\",0.3125],[\"country_of_contractor\",\"perigee_km\",0.0],[\"country_of_contractor\",\"apogee_km\",0.0],[\"country_of_contractor\",\"eccentricity\",0.0625],[\"country_of_contractor\",\"period_minutes\",0.0],[\"country_of_contractor\",\"launch_mass_kg\",0.125],[\"country_of_contractor\",\"dry_mass_kg\",0.125],[\"country_of_contractor\",\"power_watts\",0.125],[\"country_of_contractor\",\"date_of_launch\",0.375],[\"country_of_contractor\",\"anticipated_lifetime\",0.125],[\"country_of_contractor\",\"contractor\",0.8125],[\"country_of_contractor\",\"country_of_contractor\",1.0],[\"country_of_contractor\",\"launch_site\",0.1875],[\"country_of_contractor\",\"launch_vehicle\",0.125],[\"country_of_contractor\",\"source_used_for_orbital_data\",0.0],[\"country_of_contractor\",\"longitude_radians_of_geo\",0.875],[\"country_of_contractor\",\"inclination_radians\",0.125],[\"launch_site\",\"country_of_operator\",0.1875],[\"launch_site\",\"operator_owner\",0.9375],[\"launch_site\",\"users\",0.875],[\"launch_site\",\"purpose\",0.75],[\"launch_site\",\"class_of_orbit\",0.75],[\"launch_site\",\"type_of_orbit\",0.875],[\"launch_site\",\"perigee_km\",0.75],[\"launch_site\",\"apogee_km\",0.75],[\"launch_site\",\"eccentricity\",0.25],[\"launch_site\",\"period_minutes\",0.75],[\"launch_site\",\"launch_mass_kg\",0.8125],[\"launch_site\",\"dry_mass_kg\",0.8125],[\"launch_site\",\"power_watts\",0.75],[\"launch_site\",\"date_of_launch\",0.6875],[\"launch_site\",\"anticipated_lifetime\",0.8125],[\"launch_site\",\"contractor\",0.375],[\"launch_site\",\"country_of_contractor\",0.1875],[\"launch_site\",\"launch_site\",1.0],[\"launch_site\",\"launch_vehicle\",0.9375],[\"launch_site\",\"source_used_for_orbital_data\",0.8125],[\"launch_site\",\"longitude_radians_of_geo\",0.125],[\"launch_site\",\"inclination_radians\",0.75],[\"launch_vehicle\",\"country_of_operator\",0.125],[\"launch_vehicle\",\"operator_owner\",0.875],[\"launch_vehicle\",\"users\",0.9375],[\"launch_vehicle\",\"purpose\",0.8125],[\"launch_vehicle\",\"class_of_orbit\",0.8125],[\"launch_vehicle\",\"type_of_orbit\",0.8125],[\"launch_vehicle\",\"perigee_km\",0.8125],[\"launch_vehicle\",\"apogee_km\",0.8125],[\"launch_vehicle\",\"eccentricity\",0.25],[\"launch_vehicle\",\"period_minutes\",0.8125],[\"launch_vehicle\",\"launch_mass_kg\",0.8125],[\"launch_vehicle\",\"dry_mass_kg\",0.8125],[\"launch_vehicle\",\"power_watts\",0.75],[\"launch_vehicle\",\"date_of_launch\",0.625],[\"launch_vehicle\",\"anticipated_lifetime\",0.875],[\"launch_vehicle\",\"contractor\",0.3125],[\"launch_vehicle\",\"country_of_contractor\",0.125],[\"launch_vehicle\",\"launch_site\",0.9375],[\"launch_vehicle\",\"launch_vehicle\",1.0],[\"launch_vehicle\",\"source_used_for_orbital_data\",0.875],[\"launch_vehicle\",\"longitude_radians_of_geo\",0.0625],[\"launch_vehicle\",\"inclination_radians\",0.8125],[\"source_used_for_orbital_data\",\"country_of_operator\",0.0],[\"source_used_for_orbital_data\",\"operator_owner\",0.75],[\"source_used_for_orbital_data\",\"users\",0.8125],[\"source_used_for_orbital_data\",\"purpose\",0.8125],[\"source_used_for_orbital_data\",\"class_of_orbit\",0.9375],[\"source_used_for_orbital_data\",\"type_of_orbit\",0.6875],[\"source_used_for_orbital_data\",\"perigee_km\",0.9375],[\"source_used_for_orbital_data\",\"apogee_km\",0.9375],[\"source_used_for_orbital_data\",\"eccentricity\",0.375],[\"source_used_for_orbital_data\",\"period_minutes\",0.9375],[\"source_used_for_orbital_data\",\"launch_mass_kg\",0.6875],[\"source_used_for_orbital_data\",\"dry_mass_kg\",0.6875],[\"source_used_for_orbital_data\",\"power_watts\",0.625],[\"source_used_for_orbital_data\",\"date_of_launch\",0.5],[\"source_used_for_orbital_data\",\"anticipated_lifetime\",0.75],[\"source_used_for_orbital_data\",\"contractor\",0.1875],[\"source_used_for_orbital_data\",\"country_of_contractor\",0.0],[\"source_used_for_orbital_data\",\"launch_site\",0.8125],[\"source_used_for_orbital_data\",\"launch_vehicle\",0.875],[\"source_used_for_orbital_data\",\"source_used_for_orbital_data\",1.0],[\"source_used_for_orbital_data\",\"longitude_radians_of_geo\",0.0625],[\"source_used_for_orbital_data\",\"inclination_radians\",0.8125],[\"longitude_radians_of_geo\",\"country_of_operator\",0.875],[\"longitude_radians_of_geo\",\"operator_owner\",0.1875],[\"longitude_radians_of_geo\",\"users\",0.125],[\"longitude_radians_of_geo\",\"purpose\",0.125],[\"longitude_radians_of_geo\",\"class_of_orbit\",0.0625],[\"longitude_radians_of_geo\",\"type_of_orbit\",0.25],[\"longitude_radians_of_geo\",\"perigee_km\",0.0625],[\"longitude_radians_of_geo\",\"apogee_km\",0.0625],[\"longitude_radians_of_geo\",\"eccentricity\",0.125],[\"longitude_radians_of_geo\",\"period_minutes\",0.0625],[\"longitude_radians_of_geo\",\"launch_mass_kg\",0.0625],[\"longitude_radians_of_geo\",\"dry_mass_kg\",0.0625],[\"longitude_radians_of_geo\",\"power_watts\",0.0625],[\"longitude_radians_of_geo\",\"date_of_launch\",0.3125],[\"longitude_radians_of_geo\",\"anticipated_lifetime\",0.0625],[\"longitude_radians_of_geo\",\"contractor\",0.6875],[\"longitude_radians_of_geo\",\"country_of_contractor\",0.875],[\"longitude_radians_of_geo\",\"launch_site\",0.125],[\"longitude_radians_of_geo\",\"launch_vehicle\",0.0625],[\"longitude_radians_of_geo\",\"source_used_for_orbital_data\",0.0625],[\"longitude_radians_of_geo\",\"longitude_radians_of_geo\",1.0],[\"longitude_radians_of_geo\",\"inclination_radians\",0.0625],[\"inclination_radians\",\"country_of_operator\",0.125],[\"inclination_radians\",\"operator_owner\",0.75],[\"inclination_radians\",\"users\",0.8125],[\"inclination_radians\",\"purpose\",0.8125],[\"inclination_radians\",\"class_of_orbit\",0.875],[\"inclination_radians\",\"type_of_orbit\",0.6875],[\"inclination_radians\",\"perigee_km\",0.875],[\"inclination_radians\",\"apogee_km\",0.875],[\"inclination_radians\",\"eccentricity\",0.3125],[\"inclination_radians\",\"period_minutes\",0.875],[\"inclination_radians\",\"launch_mass_kg\",0.625],[\"inclination_radians\",\"dry_mass_kg\",0.625],[\"inclination_radians\",\"power_watts\",0.6875],[\"inclination_radians\",\"date_of_launch\",0.625],[\"inclination_radians\",\"anticipated_lifetime\",0.8125],[\"inclination_radians\",\"contractor\",0.3125],[\"inclination_radians\",\"country_of_contractor\",0.125],[\"inclination_radians\",\"launch_site\",0.75],[\"inclination_radians\",\"launch_vehicle\",0.8125],[\"inclination_radians\",\"source_used_for_orbital_data\",0.8125],[\"inclination_radians\",\"longitude_radians_of_geo\",0.0625],[\"inclination_radians\",\"inclination_radians\",1.0]]},[\"source_used_for_orbital_data\", \"period_minutes\", \"perigee_km\", \"apogee_km\", \"class_of_orbit\", \"purpose\", \"anticipated_lifetime\", \"inclination_radians\", \"type_of_orbit\", \"launch_site\", \"operator_owner\", \"launch_vehicle\", \"users\", \"date_of_launch\", \"power_watts\", \"dry_mass_kg\", \"launch_mass_kg\", \"eccentricity\", \"contractor\", \"longitude_radians_of_geo\", \"country_of_contractor\", \"country_of_operator\"])"
      ],
      "text/plain": [
       "<IPython.core.display.Javascript object>"
      ]
     },
     "execution_count": 9,
     "metadata": {},
     "output_type": "execute_result"
    }
   ],
   "source": [
    "%bql .interactive_heatmap ESTIMATE DEPENDENCE PROBABILITY FROM PAIRWISE VARIABLES OF satellites;"
   ]
  },
  {
   "cell_type": "code",
   "execution_count": 10,
   "metadata": {},
   "outputs": [
    {
     "data": {
      "application/javascript": [
       "function pairplot(df, schema) {\n",
       "  var myCell = element.is('.output_subarea') ? element : element.next();\n",
       "  if (typeof VizGPMReady === 'undefined') {\n",
       "    throw new Error('VizGPM Display Library not loaded')\n",
       "  }\n",
       "\n",
       "  var container = $('<div>')\n",
       "    .appendTo(myCell);\n",
       "\n",
       "  VizGPMReady.then(function(VizGPM) {\n",
       "    const _ = VizGPM._;\n",
       "\n",
       "    const SP = VizGPM.StateProperty\n",
       "\n",
       "    for (const col of schema) {\n",
       "      if (col.stat_type == 'numerical') {\n",
       "        col.stat_type = 'realAdditive';\n",
       "      }\n",
       "\n",
       "      if (col.stat_type == 'nominal') {\n",
       "        col.stat_type = 'categorical';\n",
       "      }\n",
       "    }\n",
       "\n",
       "    function rowProxy(__key) {\n",
       "      const obj = {__key};\n",
       "      for (const column of df.columns) {\n",
       "        obj[column] = df.data[__key].shift();\n",
       "      }\n",
       "      return obj;\n",
       "    }\n",
       "\n",
       "    const rows = [];\n",
       "    for(let index = 0; index < df.data.length; index++) {\n",
       "      rows.push(rowProxy(index));\n",
       "    }\n",
       "\n",
       "    var stateManager = new VizGPM.StateManager({\n",
       "      [SP.SCHEMA]: {columns: schema},\n",
       "      [SP.SELECTED_COLUMN_NAMES]: df.columns,\n",
       "      [SP.GET_COLUMN_FUNCTION]: col =>\n",
       "        VizGPM.GpmHandler.prototype._getColumn.call(stateManager, col),\n",
       "      [SP.DISPLAYED_ROWS]: rows,\n",
       "    });\n",
       "\n",
       "    const plot = new VizGPM.PairPlot({\n",
       "      root: container[0],\n",
       "      stateManager: stateManager,\n",
       "    });\n",
       "  })\n",
       "}\n",
       ";pairplot({\"columns\":[\"class_of_orbit\",\"type_of_orbit\"],\"index\":[0,1,2,3,4,5,6,7,8,9,10,11,12,13,14,15,16,17,18,19,20,21,22,23,24,25,26,27,28,29,30,31,32,33,34,35,36,37,38,39,40,41,42,43,44,45,46,47,48,49,50,51,52,53,54,55,56,57,58,59,60,61,62,63,64,65,66,67,68,69,70,71,72,73,74,75,76,77,78,79,80,81,82,83,84,85,86,87,88,89,90,91,92,93,94,95,96,97,98,99,100,101,102,103,104,105,106,107,108,109,110,111,112,113,114,115,116,117,118,119,120,121,122,123,124,125,126,127,128,129,130,131,132,133,134,135,136,137,138,139,140,141,142,143,144,145,146,147,148,149,150,151,152,153,154,155,156,157,158,159,160,161,162,163,164,165,166,167,168,169,170,171,172,173,174,175,176,177,178,179,180,181,182,183,184,185,186,187,188,189,190,191,192,193,194,195,196,197,198,199,200,201,202,203,204,205,206,207,208,209,210,211,212,213,214,215,216,217,218,219,220,221,222,223,224,225,226,227,228,229,230,231,232,233,234,235,236,237,238,239,240,241,242,243,244,245,246,247,248,249,250,251,252,253,254,255,256,257,258,259,260,261,262,263,264,265,266,267,268,269,270,271,272,273,274,275,276,277,278,279,280,281,282,283,284,285,286,287,288,289,290,291,292,293,294,295,296,297,298,299,300,301,302,303,304,305,306,307,308,309,310,311,312,313,314,315,316,317,318,319,320,321,322,323,324,325,326,327,328,329,330,331,332,333,334,335,336,337,338,339,340,341,342,343,344,345,346,347,348,349,350,351,352,353,354,355,356,357,358,359,360,361,362,363,364,365,366,367,368,369,370,371,372,373,374,375,376,377,378,379,380,381,382,383,384,385,386,387,388,389,390,391,392,393,394,395,396,397,398,399,400,401,402,403,404,405,406,407,408,409,410,411,412,413,414,415,416,417,418,419,420,421,422,423,424,425,426,427,428,429,430,431,432,433,434,435,436,437,438,439,440,441,442,443,444,445,446,447,448,449,450,451,452,453,454,455,456,457,458,459,460,461,462,463,464,465,466,467,468,469,470,471,472,473,474,475,476,477,478,479,480,481,482,483,484,485,486,487,488,489,490,491,492,493,494,495,496,497,498,499,500,501,502,503,504,505,506,507,508,509,510,511,512,513,514,515,516,517,518,519,520,521,522,523,524,525,526,527,528,529,530,531,532,533,534,535,536,537,538,539,540,541,542,543,544,545,546,547,548,549,550,551,552,553,554,555,556,557,558,559,560,561,562,563,564,565,566,567,568,569,570,571,572,573,574,575,576,577,578,579,580,581,582,583,584,585,586,587,588,589,590,591,592,593,594,595,596,597,598,599,600,601,602,603,604,605,606,607,608,609,610,611,612,613,614,615,616,617,618,619,620,621,622,623,624,625,626,627,628,629,630,631,632,633,634,635,636,637,638,639,640,641,642,643,644,645,646,647,648,649,650,651,652,653,654,655,656,657,658,659,660,661,662,663,664,665,666,667,668,669,670,671,672,673,674,675,676,677,678,679,680,681,682,683,684,685,686,687,688,689,690,691,692,693,694,695,696,697,698,699,700,701,702,703,704,705,706,707,708,709,710,711,712,713,714,715,716,717,718,719,720,721,722,723,724,725,726,727,728,729,730,731,732,733,734,735,736,737,738,739,740,741,742,743,744,745,746,747,748,749,750,751,752,753,754,755,756,757,758,759,760,761,762,763,764,765,766,767,768,769,770,771,772,773,774,775,776,777,778,779,780,781,782,783,784,785,786,787,788,789,790,791,792,793,794,795,796,797,798,799,800,801,802,803,804,805,806,807,808,809,810,811,812,813,814,815,816,817,818,819,820,821,822,823,824,825,826,827,828,829,830,831,832,833,834,835,836,837,838,839,840,841,842,843,844,845,846,847,848,849,850,851,852,853,854,855,856,857,858,859,860,861,862,863,864,865,866,867,868,869,870,871,872,873,874,875,876,877,878,879,880,881,882,883,884,885,886,887,888,889,890,891,892,893,894,895,896,897,898,899,900,901,902,903,904,905,906,907,908,909,910,911,912,913,914,915,916,917,918,919,920,921,922,923,924,925,926,927,928,929,930,931,932,933,934,935,936,937,938,939,940,941,942,943,944,945,946,947,948,949,950,951,952,953,954,955,956,957,958,959,960,961,962,963,964,965,966,967,968,969,970,971,972,973,974,975,976,977,978,979,980,981,982,983,984,985,986,987,988,989,990,991,992,993,994,995,996,997,998,999,1000,1001,1002,1003,1004,1005,1006,1007,1008,1009,1010,1011,1012,1013,1014,1015,1016,1017,1018,1019,1020,1021,1022,1023,1024,1025,1026,1027,1028,1029,1030,1031,1032,1033,1034,1035,1036,1037,1038,1039,1040,1041,1042,1043,1044,1045,1046,1047,1048,1049,1050,1051,1052,1053,1054,1055,1056,1057,1058,1059,1060,1061,1062,1063,1064,1065,1066,1067,1068,1069,1070,1071,1072,1073,1074,1075,1076,1077,1078,1079,1080,1081,1082,1083,1084,1085,1086,1087,1088,1089,1090,1091,1092,1093,1094,1095,1096,1097,1098,1099,1100,1101,1102,1103,1104,1105,1106,1107,1108,1109,1110,1111,1112,1113,1114,1115,1116,1117,1118,1119,1120,1121,1122,1123,1124,1125,1126,1127,1128,1129,1130,1131,1132,1133,1134,1135,1136,1137,1138,1139,1140,1141,1142,1143,1144,1145,1146,1147,1148,1149,1150,1151,1152,1153,1154,1155,1156,1157,1158,1159,1160,1161,1162,1163,1164,1165,1166],\"data\":[[\"LEO\",null],[\"GEO\",null],[\"GEO\",null],[\"GEO\",null],[\"GEO\",null],[\"LEO\",\"Sun-Synchronous\"],[\"GEO\",null],[\"GEO\",null],[\"GEO\",null],[\"GEO\",null],[\"GEO\",null],[\"GEO\",null],[\"GEO\",null],[\"GEO\",null],[\"LEO\",null],[\"LEO\",null],[\"LEO\",null],[\"LEO\",null],[\"LEO\",null],[\"GEO\",null],[\"GEO\",null],[\"GEO\",null],[\"GEO\",null],[\"LEO\",null],[\"LEO\",null],[\"LEO\",\"Sun-Synchronous\"],[\"LEO\",null],[\"LEO\",null],[\"Elliptical\",null],[\"LEO\",null],[\"GEO\",null],[\"LEO\",\"Sun-Synchronous\"],[\"GEO\",null],[\"GEO\",null],[\"GEO\",null],[\"GEO\",null],[\"GEO\",null],[\"GEO\",null],[\"GEO\",null],[\"GEO\",null],[\"GEO\",null],[\"GEO\",null],[\"GEO\",null],[\"GEO\",null],[\"GEO\",null],[\"GEO\",null],[\"GEO\",null],[\"GEO\",null],[\"GEO\",null],[\"GEO\",null],[\"GEO\",null],[\"GEO\",null],[\"GEO\",null],[\"GEO\",null],[\"LEO\",\"Sun-Synchronous\"],[\"GEO\",null],[\"GEO\",null],[\"GEO\",null],[\"GEO\",null],[\"GEO\",null],[\"LEO\",\"Sun-Synchronous\"],[\"LEO\",\"Sun-Synchronous\"],[\"LEO\",\"Sun-Synchronous\"],[\"LEO\",\"Sun-Synchronous\"],[\"LEO\",\"Sun-Synchronous\"],[\"LEO\",\"Sun-Synchronous\"],[\"LEO\",\"Sun-Synchronous\"],[\"LEO\",\"Sun-Synchronous\"],[\"GEO\",null],[\"GEO\",null],[\"GEO\",null],[\"GEO\",null],[\"GEO\",null],[\"GEO\",null],[\"LEO\",\"Sun-Synchronous\"],[\"GEO\",null],[\"GEO\",null],[\"GEO\",null],[\"GEO\",null],[\"GEO\",null],[\"GEO\",null],[\"GEO\",null],[\"GEO\",null],[\"GEO\",null],[\"GEO\",null],[\"GEO\",null],[\"GEO\",null],[\"GEO\",null],[\"GEO\",null],[\"GEO\",null],[\"GEO\",null],[\"GEO\",null],[\"GEO\",null],[\"GEO\",null],[\"GEO\",null],[\"GEO\",null],[\"GEO\",null],[\"GEO\",null],[\"GEO\",null],[\"LEO\",\"Sun-Synchronous\"],[\"GEO\",null],[\"GEO\",null],[\"GEO\",null],[\"GEO\",null],[\"LEO\",\"Sun-Synchronous\"],[\"LEO\",\"Sun-Synchronous\"],[\"LEO\",\"Sun-Synchronous\"],[\"LEO\",\"Sun-Synchronous\"],[\"LEO\",\"Sun-Synchronous\"],[\"LEO\",null],[\"GEO\",null],[\"GEO\",null],[\"GEO\",null],[\"GEO\",null],[\"LEO\",\"Sun-Synchronous\"],[\"GEO\",null],[\"GEO\",null],[\"GEO\",null],[\"LEO\",null],[\"LEO\",\"Sun-Synchronous\"],[\"LEO\",\"Sun-Synchronous\"],[\"LEO\",\"Sun-Synchronous\"],[\"LEO\",\"Sun-Synchronous\"],[\"LEO\",\"Sun-Synchronous\"],[\"LEO\",\"Sun-Synchronous\"],[\"LEO\",\"Sun-Synchronous\"],[\"LEO\",\"Sun-Synchronous\"],[\"LEO\",\"Sun-Synchronous\"],[\"LEO\",\"Sun-Synchronous\"],[\"Elliptical\",null],[\"LEO\",null],[\"Elliptical\",\"Deep Highly Eccentric\"],[\"GEO\",null],[\"LEO\",\"Sun-Synchronous\"],[\"LEO\",\"Sun-Synchronous\"],[\"LEO\",\"Sun-Synchronous\"],[\"LEO\",\"Sun-Synchronous\"],[\"GEO\",null],[\"LEO\",\"Sun-Synchronous\"],[\"LEO\",\"Sun-Synchronous\"],[\"LEO\",\"Sun-Synchronous\"],[\"LEO\",\"Sun-Synchronous\"],[\"GEO\",null],[\"GEO\",null],[\"GEO\",null],[\"GEO\",null],[\"GEO\",null],[\"GEO\",null],[\"GEO\",null],[\"GEO\",null],[\"GEO\",null],[\"GEO\",null],[\"MEO\",null],[\"MEO\",null],[\"MEO\",null],[\"MEO\",null],[\"MEO\",null],[\"GEO\",null],[\"GEO\",null],[\"GEO\",null],[\"LEO\",\"Sun-Synchronous\"],[\"LEO\",\"Sun-Synchronous\"],[\"LEO\",\"Sun-Synchronous\"],[\"LEO\",\"Sun-Synchronous\"],[\"LEO\",\"Sun-Synchronous\"],[\"LEO\",\"Sun-Synchronous\"],[\"LEO\",\"Sun-Synchronous\"],[\"LEO\",\"Sun-Synchronous\"],[\"LEO\",\"Sun-Synchronous\"],[\"LEO\",\"Sun-Synchronous\"],[\"LEO\",null],[\"LEO\",\"Sun-Synchronous\"],[\"LEO\",\"Sun-Synchronous\"],[\"LEO\",\"Sun-Synchronous\"],[\"LEO\",\"Sun-Synchronous\"],[\"LEO\",null],[\"LEO\",null],[\"LEO\",\"Sun-Synchronous\"],[\"LEO\",\"Sun-Synchronous\"],[\"LEO\",null],[\"LEO\",\"Sun-Synchronous\"],[\"LEO\",\"Sun-Synchronous\"],[\"LEO\",\"Sun-Synchronous\"],[\"GEO\",null],[\"GEO\",null],[\"GEO\",null],[\"GEO\",null],[\"GEO\",null],[\"GEO\",null],[\"GEO\",null],[\"GEO\",null],[\"GEO\",null],[\"LEO\",\"Sun-Synchronous\"],[\"LEO\",\"Sun-Synchronous\"],[\"LEO\",\"Sun-Synchronous\"],[\"LEO\",\"Sun-Synchronous\"],[\"LEO\",\"Sun-Synchronous\"],[\"LEO\",\"Sun-Synchronous\"],[\"LEO\",\"Sun-Synchronous\"],[\"LEO\",\"Sun-Synchronous\"],[\"LEO\",\"Sun-Synchronous\"],[\"LEO\",\"Sun-Synchronous\"],[\"GEO\",null],[\"GEO\",null],[\"GEO\",null],[\"GEO\",null],[\"GEO\",null],[\"GEO\",null],[\"GEO\",null],[\"GEO\",null],[\"GEO\",null],[\"GEO\",null],[\"GEO\",null],[\"GEO\",null],[\"GEO\",null],[\"LEO\",\"Sun-Synchronous\"],[\"LEO\",\"Sun-Synchronous\"],[\"LEO\",\"Sun-Synchronous\"],[\"GEO\",null],[\"GEO\",null],[\"GEO\",null],[\"GEO\",null],[\"GEO\",null],[\"GEO\",null],[\"GEO\",null],[\"GEO\",null],[\"GEO\",null],[\"GEO\",null],[\"GEO\",null],[\"GEO\",null],[\"GEO\",null],[\"GEO\",null],[\"LEO\",\"Sun-Synchronous\"],[\"GEO\",null],[\"LEO\",\"Polar\"],[\"LEO\",\"Polar\"],[\"LEO\",\"Polar\"],[\"LEO\",\"Polar\"],[\"LEO\",\"Sun-Synchronous\"],[\"LEO\",\"Sun-Synchronous\"],[\"LEO\",\"Sun-Synchronous\"],[\"LEO\",\"Sun-Synchronous\"],[\"LEO\",\"Sun-Synchronous\"],[\"LEO\",\"Sun-Synchronous\"],[\"Elliptical\",null],[\"LEO\",\"Sun-Synchronous\"],[\"GEO\",null],[\"GEO\",null],[\"GEO\",null],[\"GEO\",null],[\"GEO\",null],[\"GEO\",null],[\"GEO\",null],[\"GEO\",null],[\"GEO\",null],[\"GEO\",null],[\"GEO\",null],[\"GEO\",null],[\"GEO\",null],[\"GEO\",null],[\"GEO\",null],[\"GEO\",null],[\"GEO\",null],[\"GEO\",null],[\"GEO\",null],[\"GEO\",null],[\"GEO\",null],[\"GEO\",null],[\"GEO\",null],[\"GEO\",null],[\"GEO\",null],[\"GEO\",null],[\"GEO\",null],[\"GEO\",null],[\"GEO\",null],[\"GEO\",null],[\"LEO\",\"Sun-Synchronous\"],[\"GEO\",null],[\"GEO\",null],[\"GEO\",null],[\"GEO\",null],[\"GEO\",null],[\"GEO\",null],[\"GEO\",null],[\"GEO\",null],[\"LEO\",null],[\"LEO\",\"Sun-Synchronous\"],[\"LEO\",null],[\"LEO\",null],[\"GEO\",null],[\"GEO\",null],[\"GEO\",null],[\"LEO\",\"Sun-Synchronous\"],[\"LEO\",\"Sun-Synchronous\"],[\"LEO\",null],[\"LEO\",null],[\"LEO\",null],[\"LEO\",null],[\"LEO\",null],[\"LEO\",null],[\"LEO\",null],[\"LEO\",null],[\"GEO\",null],[\"LEO\",\"Sun-Synchronous\"],[\"LEO\",\"Intermediate\"],[\"LEO\",null],[\"GEO\",null],[\"GEO\",null],[\"GEO\",null],[\"GEO\",null],[\"GEO\",null],[\"GEO\",null],[\"GEO\",null],[\"GEO\",null],[\"GEO\",null],[\"GEO\",null],[\"GEO\",null],[\"GEO\",null],[\"GEO\",null],[\"GEO\",null],[\"MEO\",null],[\"MEO\",null],[\"MEO\",null],[\"MEO\",null],[\"LEO\",null],[\"GEO\",null],[\"GEO\",null],[\"LEO\",\"Sun-Synchronous\"],[\"LEO\",null],[\"LEO\",null],[\"LEO\",\"Sun-Synchronous\"],[\"Elliptical\",\"Deep Highly Eccentric\"],[\"LEO\",\"Sun-Synchronous\"],[\"LEO\",\"Intermediate\"],[\"LEO\",\"Intermediate\"],[\"LEO\",\"Intermediate\"],[\"LEO\",\"Intermediate\"],[\"LEO\",\"Intermediate\"],[\"LEO\",\"Intermediate\"],[\"LEO\",\"Intermediate\"],[\"LEO\",\"Intermediate\"],[\"LEO\",\"Intermediate\"],[\"LEO\",\"Intermediate\"],[\"LEO\",\"Intermediate\"],[\"LEO\",\"Intermediate\"],[\"LEO\",\"Intermediate\"],[\"LEO\",\"Intermediate\"],[\"LEO\",\"Intermediate\"],[\"LEO\",\"Intermediate\"],[\"LEO\",\"Intermediate\"],[\"LEO\",\"Intermediate\"],[\"LEO\",\"Intermediate\"],[\"LEO\",\"Intermediate\"],[\"LEO\",\"Intermediate\"],[\"LEO\",\"Intermediate\"],[\"LEO\",\"Intermediate\"],[\"LEO\",\"Intermediate\"],[\"LEO\",\"Intermediate\"],[\"LEO\",\"Intermediate\"],[\"LEO\",\"Intermediate\"],[\"LEO\",\"Intermediate\"],[\"LEO\",\"Intermediate\"],[\"LEO\",\"Intermediate\"],[\"LEO\",\"Intermediate\"],[\"LEO\",\"Intermediate\"],[\"LEO\",\"Intermediate\"],[\"LEO\",\"Intermediate\"],[\"LEO\",\"Intermediate\"],[\"LEO\",\"Intermediate\"],[\"LEO\",\"Intermediate\"],[\"LEO\",\"Intermediate\"],[\"LEO\",\"Intermediate\"],[\"LEO\",\"Intermediate\"],[\"LEO\",\"Intermediate\"],[\"LEO\",\"Intermediate\"],[\"LEO\",\"Intermediate\"],[\"LEO\",\"Intermediate\"],[\"LEO\",\"Intermediate\"],[\"LEO\",\"Intermediate\"],[\"LEO\",\"Intermediate\"],[\"MEO\",null],[\"MEO\",null],[\"MEO\",null],[\"MEO\",null],[\"MEO\",null],[\"MEO\",null],[\"MEO\",null],[\"MEO\",null],[\"MEO\",null],[\"MEO\",null],[\"MEO\",null],[\"MEO\",null],[\"MEO\",null],[\"MEO\",null],[\"MEO\",null],[\"MEO\",null],[\"MEO\",null],[\"MEO\",null],[\"MEO\",null],[\"MEO\",null],[\"MEO\",null],[\"MEO\",null],[\"MEO\",null],[\"MEO\",null],[\"MEO\",null],[\"MEO\",null],[\"MEO\",null],[\"MEO\",null],[\"MEO\",null],[\"MEO\",null],[\"MEO\",null],[\"GEO\",null],[\"GEO\",null],[\"GEO\",null],[\"GEO\",null],[\"LEO\",\"Sun-Synchronous\"],[\"LEO\",\"Intermediate\"],[\"LEO\",\"Intermediate\"],[\"LEO\",\"Intermediate\"],[\"LEO\",\"Intermediate\"],[\"LEO\",\"Intermediate\"],[\"LEO\",null],[\"LEO\",\"Intermediate\"],[\"LEO\",null],[\"LEO\",null],[\"LEO\",\"Polar\"],[\"LEO\",\"Polar\"],[\"LEO\",\"Sun-Synchronous\"],[\"GEO\",null],[\"GEO\",null],[\"GEO\",null],[\"GEO\",null],[\"GEO\",null],[\"GEO\",null],[\"LEO\",null],[\"LEO\",null],[\"LEO\",\"Sun-Synchronous\"],[\"LEO\",\"Sun-Synchronous\"],[\"LEO\",\"Sun-Synchronous\"],[\"GEO\",null],[\"LEO\",\"Intermediate\"],[\"LEO\",null],[\"Elliptical\",null],[\"GEO\",null],[\"GEO\",null],[\"GEO\",null],[\"LEO\",\"Polar\"],[\"LEO\",\"Polar\"],[\"LEO\",null],[\"LEO\",null],[\"GEO\",null],[\"LEO\",\"Sun-Synchronous\"],[\"LEO\",\"Intermediate\"],[\"LEO\",\"Sun-Synchronous\"],[\"GEO\",null],[\"GEO\",null],[\"LEO\",\"Sun-Synchronous\"],[\"LEO\",\"Sun-Synchronous\"],[\"LEO\",\"Sun-Synchronous\"],[\"LEO\",\"Sun-Synchronous\"],[\"LEO\",\"Sun-Synchronous\"],[\"LEO\",\"Sun-Synchronous\"],[\"LEO\",\"Sun-Synchronous\"],[\"LEO\",\"Sun-Synchronous\"],[\"LEO\",\"Sun-Synchronous\"],[\"Elliptical\",\"Molniya\"],[\"Elliptical\",\"Molniya\"],[\"LEO\",\"Sun-Synchronous\"],[\"GEO\",null],[\"GEO\",null],[\"GEO\",null],[\"GEO\",null],[\"GEO\",null],[\"GEO\",null],[\"GEO\",null],[\"GEO\",null],[\"GEO\",null],[\"GEO\",null],[\"GEO\",null],[\"GEO\",null],[\"GEO\",null],[\"GEO\",null],[\"GEO\",null],[\"Elliptical\",\"Deep Highly Eccentric\"],[\"GEO\",null],[\"GEO\",null],[\"GEO\",null],[\"GEO\",null],[\"GEO\",null],[\"GEO\",null],[\"GEO\",null],[\"GEO\",null],[\"GEO\",null],[\"GEO\",null],[\"GEO\",null],[\"GEO\",null],[\"GEO\",null],[\"GEO\",null],[\"GEO\",null],[\"GEO\",null],[\"GEO\",null],[\"GEO\",null],[\"GEO\",null],[\"GEO\",null],[\"GEO\",null],[\"GEO\",null],[\"GEO\",null],[\"GEO\",null],[\"GEO\",null],[\"GEO\",null],[\"GEO\",null],[\"GEO\",null],[\"GEO\",null],[\"GEO\",null],[\"GEO\",null],[\"GEO\",null],[\"GEO\",null],[\"GEO\",null],[\"LEO\",\"Intermediate\"],[\"Elliptical\",\"Deep Highly Eccentric\"],[\"LEO\",null],[\"LEO\",\"Polar\"],[\"LEO\",\"Polar\"],[\"LEO\",\"Polar\"],[\"LEO\",\"Polar\"],[\"LEO\",\"Polar\"],[\"LEO\",\"Polar\"],[\"LEO\",\"Polar\"],[\"LEO\",\"Polar\"],[\"LEO\",\"Polar\"],[\"LEO\",\"Polar\"],[\"LEO\",\"Polar\"],[\"LEO\",\"Polar\"],[\"LEO\",\"Polar\"],[\"LEO\",\"Polar\"],[\"LEO\",\"Polar\"],[\"LEO\",\"Polar\"],[\"LEO\",\"Polar\"],[\"LEO\",\"Polar\"],[\"LEO\",\"Polar\"],[\"LEO\",\"Polar\"],[\"LEO\",\"Polar\"],[\"LEO\",\"Polar\"],[\"LEO\",\"Polar\"],[\"LEO\",\"Polar\"],[\"LEO\",\"Polar\"],[\"LEO\",\"Polar\"],[\"LEO\",\"Polar\"],[\"LEO\",\"Polar\"],[\"LEO\",\"Polar\"],[\"LEO\",\"Polar\"],[\"LEO\",\"Polar\"],[\"LEO\",\"Polar\"],[\"LEO\",\"Polar\"],[\"LEO\",\"Polar\"],[\"LEO\",\"Polar\"],[\"LEO\",\"Polar\"],[\"LEO\",\"Polar\"],[\"LEO\",\"Polar\"],[\"LEO\",\"Polar\"],[\"LEO\",\"Polar\"],[\"LEO\",\"Polar\"],[\"LEO\",\"Polar\"],[\"LEO\",\"Polar\"],[\"LEO\",\"Polar\"],[\"LEO\",\"Polar\"],[\"LEO\",\"Polar\"],[\"LEO\",\"Polar\"],[\"LEO\",\"Polar\"],[\"LEO\",\"Polar\"],[\"LEO\",\"Polar\"],[\"LEO\",\"Polar\"],[\"LEO\",\"Polar\"],[\"LEO\",\"Polar\"],[\"LEO\",\"Polar\"],[\"LEO\",\"Polar\"],[\"LEO\",\"Polar\"],[\"LEO\",\"Polar\"],[\"LEO\",\"Polar\"],[\"LEO\",\"Polar\"],[\"LEO\",\"Polar\"],[\"LEO\",\"Polar\"],[\"LEO\",\"Polar\"],[\"LEO\",\"Polar\"],[\"LEO\",\"Polar\"],[\"LEO\",\"Polar\"],[\"LEO\",\"Polar\"],[\"LEO\",\"Polar\"],[\"LEO\",\"Polar\"],[\"LEO\",\"Polar\"],[\"LEO\",\"Polar\"],[\"LEO\",\"Polar\"],[\"LEO\",\"Sun-Synchronous\"],[\"GEO\",null],[\"LEO\",\"Sun-Synchronous\"],[\"LEO\",\"Sun-Synchronous\"],[\"LEO\",\"Intermediate\"],[\"GEO\",null],[\"GEO\",null],[\"GEO\",null],[\"GEO\",null],[\"GEO\",null],[\"GEO\",null],[\"GEO\",null],[\"GEO\",null],[\"LEO\",null],[\"GEO\",null],[\"GEO\",null],[\"LEO\",\"Sun-Synchronous\"],[\"LEO\",\"Sun-Synchronous\"],[\"LEO\",\"Sun-Synchronous\"],[\"LEO\",\"Sun-Synchronous\"],[\"LEO\",\"Sun-Synchronous\"],[\"GEO\",null],[\"GEO\",null],[\"LEO\",null],[\"LEO\",\"Sun-Synchronous\"],[\"LEO\",\"Sun-Synchronous\"],[\"LEO\",\"Sun-Synchronous\"],[\"LEO\",null],[\"GEO\",null],[\"GEO\",null],[\"LEO\",null],[\"LEO\",null],[\"LEO\",\"Intermediate\"],[\"LEO\",\"Intermediate\"],[\"LEO\",\"Intermediate\"],[\"LEO\",\"Sun-Synchronous\"],[\"LEO\",\"Sun-Synchronous\"],[\"LEO\",\"Sun-Synchronous\"],[\"LEO\",\"Intermediate\"],[\"LEO\",\"Intermediate\"],[\"GEO\",null],[\"LEO\",\"Sun-Synchronous\"],[\"GEO\",null],[\"GEO\",null],[\"LEO\",\"Sun-Synchronous\"],[\"LEO\",null],[\"LEO\",null],[\"LEO\",null],[\"GEO\",null],[\"GEO\",null],[\"GEO\",null],[\"LEO\",null],[\"GEO\",null],[\"GEO\",null],[\"Elliptical\",\"Molniya\"],[\"Elliptical\",\"Molniya\"],[\"Elliptical\",\"Molniya\"],[\"LEO\",\"Polar\"],[\"GEO\",null],[\"GEO\",null],[\"GEO\",null],[\"GEO\",null],[\"LEO\",\"Polar\"],[\"LEO\",\"Polar\"],[\"GEO\",null],[\"GEO\",null],[\"GEO\",null],[\"GEO\",null],[\"GEO\",null],[\"GEO\",null],[\"LEO\",null],[\"LEO\",\"Sun-Synchronous\"],[\"LEO\",\"Sun-Synchronous\"],[\"LEO\",\"Sun-Synchronous\"],[\"GEO\",null],[\"GEO\",null],[\"LEO\",\"Sun-Synchronous\"],[\"GEO\",null],[\"GEO\",null],[\"GEO\",null],[\"GEO\",null],[\"LEO\",\"Polar\"],[\"LEO\",\"Polar\"],[\"GEO\",null],[\"MEO\",null],[\"MEO\",null],[\"MEO\",null],[\"MEO\",null],[\"MEO\",null],[\"MEO\",null],[\"MEO\",null],[\"MEO\",null],[\"MEO\",null],[\"MEO\",null],[\"MEO\",null],[\"MEO\",null],[\"MEO\",null],[\"MEO\",null],[\"MEO\",null],[\"MEO\",null],[\"MEO\",null],[\"MEO\",null],[\"MEO\",null],[\"MEO\",null],[\"MEO\",null],[\"MEO\",null],[\"MEO\",null],[\"MEO\",null],[\"MEO\",null],[\"MEO\",null],[\"MEO\",null],[\"MEO\",null],[\"MEO\",null],[\"MEO\",null],[\"MEO\",null],[\"MEO\",null],[\"LEO\",\"Sun-Synchronous\"],[\"LEO\",null],[\"GEO\",null],[\"LEO\",\"Sun-Synchronous\"],[\"LEO\",\"Sun-Synchronous\"],[\"GEO\",null],[\"GEO\",null],[\"GEO\",null],[\"GEO\",null],[\"GEO\",null],[\"GEO\",null],[\"LEO\",\"Sun-Synchronous\"],[\"LEO\",\"Sun-Synchronous\"],[\"LEO\",\"Sun-Synchronous\"],[\"LEO\",\"Sun-Synchronous\"],[\"LEO\",\"Polar\"],[\"LEO\",\"Sun-Synchronous\"],[\"GEO\",null],[\"GEO\",null],[\"GEO\",null],[\"GEO\",null],[\"GEO\",null],[\"GEO\",null],[\"GEO\",null],[\"GEO\",null],[\"GEO\",null],[\"GEO\",null],[\"LEO\",null],[\"LEO\",\"Sun-Synchronous\"],[\"MEO\",null],[\"MEO\",null],[\"MEO\",null],[\"MEO\",null],[\"LEO\",\"Sun-Synchronous\"],[\"LEO\",\"Sun-Synchronous\"],[\"LEO\",\"Retrograde\"],[\"LEO\",null],[\"LEO\",null],[\"LEO\",\"Sun-Synchronous\"],[\"GEO\",null],[\"GEO\",null],[\"GEO\",null],[\"GEO\",null],[\"GEO\",null],[\"LEO\",\"Intermediate\"],[\"LEO\",\"Intermediate\"],[\"LEO\",\"Intermediate\"],[\"LEO\",\"Intermediate\"],[\"LEO\",\"Intermediate\"],[\"LEO\",\"Intermediate\"],[\"LEO\",\"Intermediate\"],[\"LEO\",\"Intermediate\"],[\"LEO\",\"Intermediate\"],[\"LEO\",\"Intermediate\"],[\"LEO\",\"Intermediate\"],[\"LEO\",\"Intermediate\"],[\"LEO\",\"Intermediate\"],[\"LEO\",\"Intermediate\"],[\"LEO\",\"Intermediate\"],[\"LEO\",\"Intermediate\"],[\"LEO\",\"Intermediate\"],[\"LEO\",\"Intermediate\"],[\"LEO\",\"Intermediate\"],[\"LEO\",\"Intermediate\"],[\"LEO\",\"Intermediate\"],[\"LEO\",\"Intermediate\"],[\"LEO\",\"Intermediate\"],[\"LEO\",\"Intermediate\"],[\"LEO\",\"Intermediate\"],[\"LEO\",\"Intermediate\"],[\"LEO\",\"Sun-Synchronous\"],[\"LEO\",\"Sun-Synchronous\"],[\"LEO\",null],[\"LEO\",\"Sun-Synchronous\"],[\"LEO\",\"Sun-Synchronous\"],[\"GEO\",null],[\"GEO\",null],[\"GEO\",null],[\"GEO\",null],[\"LEO\",\"Sun-Synchronous\"],[\"LEO\",\"Intermediate\"],[\"LEO\",\"Intermediate\"],[\"LEO\",\"Intermediate\"],[\"LEO\",\"Intermediate\"],[\"LEO\",\"Intermediate\"],[\"LEO\",\"Intermediate\"],[\"LEO\",\"Intermediate\"],[\"LEO\",\"Intermediate\"],[\"LEO\",\"Intermediate\"],[\"LEO\",\"Intermediate\"],[\"LEO\",\"Intermediate\"],[\"LEO\",\"Sun-Synchronous\"],[\"LEO\",\"Sun-Synchronous\"],[\"LEO\",\"Sun-Synchronous\"],[\"LEO\",\"Sun-Synchronous\"],[\"LEO\",\"Sun-Synchronous\"],[\"LEO\",\"Sun-Synchronous\"],[\"LEO\",\"Sun-Synchronous\"],[\"LEO\",\"Sun-Synchronous\"],[\"LEO\",\"Sun-Synchronous\"],[\"LEO\",\"Sun-Synchronous\"],[\"LEO\",\"Sun-Synchronous\"],[\"LEO\",\"Sun-Synchronous\"],[\"LEO\",\"Sun-Synchronous\"],[\"LEO\",\"Sun-Synchronous\"],[\"LEO\",\"Sun-Synchronous\"],[\"LEO\",\"Sun-Synchronous\"],[\"LEO\",\"Sun-Synchronous\"],[\"LEO\",\"Sun-Synchronous\"],[\"LEO\",\"Sun-Synchronous\"],[\"GEO\",\"Sun-Synchronous\"],[\"LEO\",\"Sun-Synchronous\"],[\"GEO\",null],[\"LEO\",\"Sun-Synchronous\"],[\"MEO\",null],[\"GEO\",null],[\"GEO\",null],[\"GEO\",null],[\"LEO\",\"Polar\"],[\"LEO\",null],[\"LEO\",null],[\"LEO\",null],[\"LEO\",null],[\"LEO\",null],[\"LEO\",\"Sun-Synchronous\"],[\"GEO\",null],[\"LEO\",\"Intermediate\"],[\"LEO\",\"Sun-Synchronous\"],[\"LEO\",\"Sun-Synchronous\"],[\"LEO\",null],[\"LEO\",null],[\"LEO\",\"Sun-Synchronous\"],[\"LEO\",null],[\"LEO\",\"Intermediate\"],[\"LEO\",\"Intermediate\"],[\"LEO\",\"Intermediate\"],[\"LEO\",\"Intermediate\"],[\"LEO\",\"Intermediate\"],[\"LEO\",\"Intermediate\"],[\"LEO\",\"Intermediate\"],[\"LEO\",\"Intermediate\"],[\"LEO\",\"Intermediate\"],[\"LEO\",\"Intermediate\"],[\"LEO\",\"Intermediate\"],[\"LEO\",\"Intermediate\"],[\"LEO\",\"Intermediate\"],[\"LEO\",\"Intermediate\"],[\"LEO\",\"Intermediate\"],[\"LEO\",\"Intermediate\"],[\"Elliptical\",\"Deep Highly Eccentric\"],[\"LEO\",\"Sun-Synchronous\"],[\"LEO\",\"Sun-Synchronous\"],[\"Elliptical\",\"Deep Highly Eccentric\"],[\"Elliptical\",\"Deep Highly Eccentric\"],[\"LEO\",\"Sun-Synchronous\"],[\"LEO\",\"Sun-Synchronous\"],[\"LEO\",null],[\"LEO\",null],[\"LEO\",null],[\"LEO\",null],[\"LEO\",null],[\"GEO\",null],[\"GEO\",null],[\"GEO\",null],[\"GEO\",null],[\"LEO\",\"Sun-Synchronous\"],[\"LEO\",\"Sun-Synchronous\"],[\"LEO\",\"Sun-Synchronous\"],[\"LEO\",\"Sun-Synchronous\"],[\"LEO\",\"Sun-Synchronous\"],[\"LEO\",\"Sun-Synchronous\"],[\"LEO\",\"Sun-Synchronous\"],[\"LEO\",\"Intermediate\"],[\"LEO\",\"Sun-Synchronous\"],[\"LEO\",null],[\"GEO\",null],[\"GEO\",null],[\"LEO\",null],[\"LEO\",\"Intermediate\"],[\"LEO\",\"Intermediate\"],[\"LEO\",\"Intermediate\"],[\"LEO\",\"Intermediate\"],[\"LEO\",\"Intermediate\"],[\"LEO\",\"Intermediate\"],[\"LEO\",\"Intermediate\"],[\"LEO\",\"Intermediate\"],[\"LEO\",\"Intermediate\"],[\"LEO\",\"Intermediate\"],[\"LEO\",null],[\"LEO\",null],[\"LEO\",\"Intermediate\"],[\"LEO\",\"Intermediate\"],[\"LEO\",\"Intermediate\"],[\"GEO\",null],[\"GEO\",null],[\"GEO\",null],[\"Elliptical\",\"Molniya\"],[\"Elliptical\",\"Molniya\"],[\"GEO\",null],[\"GEO\",null],[\"LEO\",\"Sun-Synchronous\"],[\"LEO\",\"Sun-Synchronous\"],[\"GEO\",null],[\"GEO\",null],[\"GEO\",null],[\"GEO\",null],[\"GEO\",null],[\"GEO\",null],[\"GEO\",null],[\"GEO\",null],[\"LEO\",\"Sun-Synchronous\"],[\"LEO\",\"Sun-Synchronous\"],[\"LEO\",\"Sun-Synchronous\"],[\"LEO\",\"Sun-Synchronous\"],[\"LEO\",\"Sun-Synchronous\"],[\"LEO\",\"Sun-Synchronous\"],[\"LEO\",\"Sun-Synchronous\"],[\"LEO\",\"Sun-Synchronous\"],[\"LEO\",\"Sun-Synchronous\"],[\"LEO\",\"Sun-Synchronous\"],[\"LEO\",\"Sun-Synchronous\"],[\"LEO\",\"Sun-Synchronous\"],[\"LEO\",\"Sun-Synchronous\"],[\"LEO\",\"Sun-Synchronous\"],[\"LEO\",\"Sun-Synchronous\"],[\"LEO\",\"Sun-Synchronous\"],[\"LEO\",null],[\"LEO\",null],[\"LEO\",\"Sun-Synchronous\"],[\"LEO\",\"Sun-Synchronous\"],[\"LEO\",\"Sun-Synchronous\"],[\"LEO\",null],[\"LEO\",\"Sun-Synchronous\"],[\"LEO\",\"Sun-Synchronous\"],[\"GEO\",null],[\"GEO\",null],[\"LEO\",\"Sun-Synchronous\"],[\"GEO\",null],[\"Elliptical\",null],[\"Elliptical\",null],[\"Elliptical\",null],[\"GEO\",null],[\"GEO\",null],[\"GEO\",null],[\"GEO\",null],[\"GEO\",null],[\"GEO\",null],[\"GEO\",null],[\"GEO\",null],[\"GEO\",null],[\"GEO\",null],[\"GEO\",null],[\"LEO\",null],[\"GEO\",null],[\"Elliptical\",null],[\"LEO\",null],[\"LEO\",null],[\"LEO\",null],[\"LEO\",null],[\"LEO\",\"Sun-Synchronous\"],[\"LEO\",null],[\"LEO\",\"Sun-Synchronous\"],[\"LEO\",\"Intermediate\"],[\"GEO\",null],[\"GEO\",null],[\"GEO\",null],[\"GEO\",null],[\"Elliptical\",null],[\"Elliptical\",null],[\"Elliptical\",null],[\"LEO\",\"Sun-Synchronous\"],[\"LEO\",\"Sun-Synchronous\"],[\"LEO\",null],[\"LEO\",null],[\"GEO\",null],[\"GEO\",null],[\"GEO\",null],[\"GEO\",null],[\"LEO\",null],[\"LEO\",\"Sun-Synchronous\"],[\"LEO\",null],[\"LEO\",\"Sun-Synchronous\"],[\"LEO\",\"Intermediate\"],[\"LEO\",\"Intermediate\"],[\"LEO\",\"Intermediate\"],[\"LEO\",\"Intermediate\"],[\"LEO\",\"Intermediate\"],[\"LEO\",\"Intermediate\"],[\"LEO\",\"Intermediate\"],[\"LEO\",\"Intermediate\"],[\"LEO\",\"Intermediate\"],[\"LEO\",null],[\"LEO\",null],[\"LEO\",\"Sun-Synchronous\"],[\"LEO\",null],[\"LEO\",null],[\"LEO\",\"Sun-Synchronous\"],[\"GEO\",null],[\"GEO\",null],[\"GEO\",null],[\"LEO\",\"Intermediate\"],[\"LEO\",\"Polar\"],[\"LEO\",\"Polar\"],[\"LEO\",\"Polar\"],[\"LEO\",\"Intermediate\"],[\"LEO\",\"Sun-Synchronous\"],[\"GEO\",null],[\"GEO\",null],[\"Elliptical\",null],[\"LEO\",null],[\"LEO\",\"Sun-Synchronous\"],[\"Elliptical\",\"Deep Highly Eccentric\"],[\"GEO\",null],[\"GEO\",null],[\"GEO\",null],[\"GEO\",null],[\"GEO\",null],[\"GEO\",null],[\"GEO\",null],[\"GEO\",null],[\"GEO\",null],[\"LEO\",null],[\"GEO\",null],[\"GEO\",null],[\"GEO\",null],[\"GEO\",null],[\"GEO\",null],[\"GEO\",null],[\"LEO\",null],[\"GEO\",null],[\"LEO\",null],[\"LEO\",\"Sun-Synchronous\"],[\"GEO\",null],[\"GEO\",null],[\"GEO\",null],[\"Elliptical\",null],[\"Elliptical\",null],[\"Elliptical\",null],[\"LEO\",\"Sun-Synchronous\"],[\"GEO\",null],[\"GEO\",null],[\"GEO\",null],[\"GEO\",null],[\"GEO\",null],[\"LEO\",null],[\"LEO\",null],[\"LEO\",null],[\"LEO\",null],[\"GEO\",null],[\"GEO\",null],[\"GEO\",null],[\"LEO\",\"Sun-Synchronous\"],[\"LEO\",\"Intermediate\"],[\"LEO\",\"Sun-Synchronous\"],[\"GEO\",null],[\"LEO\",\"Sun-Synchronous\"],[\"LEO\",\"Sun-Synchronous\"],[\"LEO\",\"Intermediate\"],[\"Elliptical\",\"Molniya\"],[\"LEO\",\"Intermediate\"],[\"LEO\",\"Sun-Synchronous\"],[\"GEO\",null],[\"GEO\",null],[\"GEO\",null],[\"GEO\",null],[\"GEO\",null],[\"GEO\",null],[\"GEO\",null],[\"GEO\",null],[\"LEO\",\"Sun-Synchronous\"],[\"LEO\",\"Sun-Synchronous\"],[\"LEO\",\"Sun-Synchronous\"],[\"GEO\",null],[\"Elliptical\",\"Molniya\"],[\"Elliptical\",\"Molniya\"],[\"Elliptical\",\"Molniya\"],[\"LEO\",null],[\"Elliptical\",null],[\"Elliptical\",null],[\"LEO\",null],[\"GEO\",null],[\"LEO\",\"Sun-Synchronous\"],[\"LEO\",\"Sun-Synchronous\"],[\"LEO\",\"Sun-Synchronous\"],[\"GEO\",null],[\"GEO\",null],[\"GEO\",null],[\"LEO\",null],[\"LEO\",null],[\"GEO\",null],[\"GEO\",null],[\"GEO\",null],[\"GEO\",null],[\"GEO\",null],[\"GEO\",null],[\"GEO\",null],[\"Elliptical\",\"Cislunar\"],[\"LEO\",\"Sun-Synchronous\"],[\"LEO\",\"Sun-Synchronous\"],[\"LEO\",\"Sun-Synchronous\"],[\"LEO\",\"Sun-Synchronous\"],[\"LEO\",null],[\"LEO\",null],[\"LEO\",null],[\"GEO\",null],[\"GEO\",null],[\"GEO\",null],[\"GEO\",null],[\"Elliptical\",\"Deep Highly Eccentric\"],[\"LEO\",\"Sun-Synchronous\"],[\"GEO\",null],[\"LEO\",\"Sun-Synchronous\"],[\"GEO\",null],[\"GEO\",null],[\"GEO\",null],[\"GEO\",null],[\"GEO\",null],[\"GEO\",null],[\"LEO\",\"Sun-Synchronous\"],[\"LEO\",\"Sun-Synchronous\"],[\"LEO\",\"Sun-Synchronous\"],[\"LEO\",\"Sun-Synchronous\"],[\"LEO\",\"Sun-Synchronous\"],[\"LEO\",\"Sun-Synchronous\"],[\"LEO\",\"Sun-Synchronous\"],[\"LEO\",\"Sun-Synchronous\"],[\"LEO\",\"Sun-Synchronous\"],[\"LEO\",\"Sun-Synchronous\"],[\"LEO\",\"Sun-Synchronous\"],[\"LEO\",\"Sun-Synchronous\"],[\"LEO\",\"Sun-Synchronous\"],[\"LEO\",\"Sun-Synchronous\"],[\"LEO\",\"Sun-Synchronous\"],[\"LEO\",\"Sun-Synchronous\"],[\"LEO\",\"Sun-Synchronous\"],[\"LEO\",\"Sun-Synchronous\"],[\"LEO\",\"Sun-Synchronous\"],[\"LEO\",\"Sun-Synchronous\"],[\"LEO\",\"Sun-Synchronous\"],[\"LEO\",\"Sun-Synchronous\"],[\"LEO\",\"Sun-Synchronous\"],[\"LEO\",\"Sun-Synchronous\"],[\"LEO\",\"Sun-Synchronous\"],[\"LEO\",\"Intermediate\"],[\"LEO\",\"Sun-Synchronous\"],[\"LEO\",\"Sun-Synchronous\"],[\"LEO\",\"Sun-Synchronous\"],[\"LEO\",\"Sun-Synchronous\"],[\"LEO\",\"Sun-Synchronous\"],[\"GEO\",null],[\"GEO\",null],[\"GEO\",null],[\"GEO\",null],[\"GEO\",null],[\"GEO\",null],[\"GEO\",null],[\"GEO\",null],[\"LEO\",\"Sun-Synchronous\"],[\"LEO\",\"Sun-Synchronous\"]]},[{\"stat_type\": \"categorical\", \"name\": \"country_of_operator\", \"unique_values\": [\"Denmark\", \"International\", \"China (PR)\", \"USA\", \"Multinational\", \"Malaysia\", \"Italy\", \"Norway\", \"Russia\", \"Japan\", \"UK/ESA\", \"Algeria\", \"Brazil\", \"Spain\", \"Israel\", \"Canada\", \"Argentina\", \"USA/Argentina\", \"ESA\", \"Luxembourg\", \"Azerbaijan\", \"Pakistan\", \"Germany\", \"Belarus\", \"France/USA\", \"India\", \"South Korea\", \"Taiwan/USA\", \"Netherlands\", \"UAE\", \"Mexico\", \"France\", \"USA/Canada/Japan\", \"USA/Japan/Brazil\", \"Estonia\", \"Turkey/France\", \"Russia/Multinational\", \"Taiwan\", \"USA/Japan\", \"Indonesia/Philippines/Thailand\", \"Turkey\", \"Germany/USA\", \"France/Italy/Belgium/Spain/Greece\", \"Greece\", \"ESA/USA\", \"United Kingdom\", \"ESA/USA/Russia\", \"USA/France\", \"Kazakhstan\", \"Indonesia\", \"USA/Australia\", \"Morocco/Germany\", \"Hungary\", \"India/France\", \"USA/Canada\", \"Nigeria\", \"Egypt\", \"Sweden\", \"Australia\", \"Vietnam\", \"France/Italy\", \"Peru\", \"Argentina/USA\", \"Saudi Arabia\", \"Ukraine\", \"Iran\", \"France/Belgium/Sweden\", \"Chile\", \"Singapore/Taiwan\", \"Japan/USA\", \"USA/United Kingdom/Italy\", \"Switzerland\", \"Thailand\", \"United Arab Emirates\", \"Bolivia\", \"Austria\", \"Singapore\", \"Venezuela\", \"South Africa\"]}, {\"stat_type\": \"categorical\", \"name\": \"operator_owner\", \"unique_values\": [\"Aalborg University\", \"Asia Broadcasting Satellite\", \"Asia Broadcast Satellite\", \"NASA Goddard Space Flight Center, Jet Propulsion Laboratory\", \"National Reconnaissance Office (NRO)\", \"US Air Force\", \"Department of Homeland Security\", \"Aerospace Corporation\", \"European Telecommunications Satellite Consortium (EUTELSAT)\", \"MEASAT Satellite Systems Sdn. Bhd.\", \"1Worldspace\", \"Italian Space Agency\", \"Center for Atmospheric Sciences, Hampton University/NASA\", \"Kongsberg Satellite Services (KSAT)\", \"Samara State Aerospace University, SGAU\", \"Institute of Space and Aeronautical Science, University of Tokyo\", \"US Air Force Institute of Technology\", \"INMARSAT, Ltd./European Space Agency\", \"Centre National des Techniques Spatiales (CNTS)\", \"Hispamar (subsidiary of Hispasat - Spain)\", \"Hispasat\", \"SES (Soci\\u008et\\u008e Europ\\u008eenne des Satellites (SES))\", \"Israel Aircraft Industries\", \"Space-Communication Ltd\", \"Amsat-NA\", \"Telesat Canada Ltd. (BCE, Inc.)\", \"Aprize Satellites Argentina\", \"Aprize Satellite/Latin Trade Satellite\", \"APT Satellite Holdings Ltd.\", \"Arab Satellite Communications Org. (ASCO)\", \"NanoSatisfi Inc.\", \"European Space Agency\", \"Asia Satellite Telecommunications Co. Ltd. (SES [Soci\\u008et\\u008e Europ\\u008eenne des Satellites (SES)])\", \"Ministry of Communications and Information Technologies\", \"Pakistan Space and Upper Atmosphere Research Commission (SUPARCO)\", \"Institut f\\u009fr Luft- und Raumfahrt\", \"Beijing Landview Mapping Information Technology Co. Ltd (BLMIT)\", \"Institute of Space Sensor Technology and Planetary Exploration\", \"National Academy of Sciences\", \"Russian Satellite Communications Company (Intersputnik)\", \"Star One (SES [Soci\\u008et\\u008e Europ\\u008eenne des Satellites (SES)])\", \"BRITE-PL Consortium\", \"Broadcasting Satellite System Corp.\", \"Broadcasting Satellite System Corp./Sky Perfect JSAT Corporation\", \"Centre National d'Etudes Spatiales (CNES)/NASA\", \"Scientific Production Corporation (joint stock creation of Russian Space Agency)\", \"University of Toronto Institute for Aerospace Studies\", \"University of Toronto Institute for Aerospace Studies/Com Development International Ltd.\", \"University of Louisiana at Lafayette\", \"Indian Space Research Organization (ISRO)\", \"Canadian Space Agency\", \"Los Alamos National Labs (LANL)\", \"NASA Goddard Space Flight Center\", \"China Satellite Communication Corp. (China Satcom)\", \"Chinese Academy of Sciences\", \"Ciel Satellite Group\", \"University of California-Berkeley/Imperial College-London\", \"NASA/Colorado State University\", \"Chinese Defense Ministry\", \"Korea Aerospace Research Institute (KARI)\", \"Armed Forces\", \"US Air Force/ US Navy/NASA\", \"National Space Program Office (NSPO)/University Corporation for Atmospheric Research (UCAR) Boulder, CO\", \"Italian Space Agency/Ministry of Defense\", \"European Space Agency (ESA)\", \"Argentinian Ministry of Science, Technology and Productive Innovation/Radio Club Bariloche\", \"Department of Astronautics, University of Tokyo\", \"City University of New York\", \"Space Systems Design Studio, Cornell University\", \"Tokyo Institute of Technology\", \"University of Colorado, Boulder\", \"Deimos Imaging/DMC International Imaging (DMCII)\", \"Technical University, Delft\", \"DirecTV, Inc.\", \"Russian Satellite Communications Co.\", \"Deutsches Zentrum f\\u009fr Luft- und Raumfahrt\", \"DoD/NOAA\", \"Planet Labs, Inc.\", \"National Space Development Agency\", \"Air Force\", \"Emirates Institution for Advanced Science & Technology (EIAST)\", \"Morehead State University\", \"QuetzSat, S. de R.L. de C.V. (leased from Echostar Technologies, LLC)\", \"Echostar Technologies, LLC\", \"Echostar Technologies, LLC/Intelsat\", \"Dish Network\", \"School of Aerospace Engineering - University of Rome\", \"Roshydromet - Planeta\", \"DGA (Arms Procurement Agency)/Centre National d'Etudes Spatiales (CNES)\", \"NASA Earth Science Office\", \"Earth Sciences Enterprise (NASA)\", \"Goddard Space Flight Center/EOS Data and Operations System\", \"NASA - Earth Science Enterprise/Japan Meteorological Agency/Brazilian Space Agency\", \"ImageSat International, NV/Ministry of Defense\", \"Politecnico di Torino\", \"University of Tartu\", \"Eurasiasat SAM/Alcatel Space\", \"Europe*Star (Altacel Loral Global Alliance)\", \"European Telecommunications Satellite Consortium (EUTELSAT)/Es'hailSat\", \"Eutelsat (leased from Chinasat)\", \"European Telecommunications Satellite Cosorrtium (EUTELSAT)\", \"European Telecommunications Satellite Consoritum (EUTELSAT)/Nilesat\", \"exactEarth\", \"Russian Satellite Communications Company (Intersputnik)/EUTELSAT\", \"US Air Force Academy\", \"University of Texas - Austin\", \"Chinese Academy of Space Technology (CAST)\", \"China Meteorological Administration\", \"NASA/GSFC\", \"Firebird Consortium (Montana State Univ., Univ. of New Hampshire, Aerospace Corp., Los Alamos National Laboratory)\", \"NASA/Sienna College/Univ. of Maryland\", \"US Navy\", \"National Space Program Office (NSPO)\", \"Los Alamos National Labs/DOE\", \"AMSAT-UK\", \"PanAmSat (Intelsat, Ltd.)\", \"PanAmSat (Intelsat, Ltd.)/Sky Perfect JSAT Corp.\", \"Intelsat, Ltd.\", \"Shanghai Academy of Spaceflight Technology (SAST)\", \"Ministry of Defense\", \"Asia Cellular Satellite\", \"GomSpace ApS\", \"Bigelow Aerospace\", \"GeoEye\", \"Institute of Space and Astronautical Science (ISAS)/NASA/ESA\", \"Japan Aerospace Exploration Agency (JAXA)\", \"Globalstar\", \"NOAA (National Oceanographic and Atmospheric Administration)\", \"University of Miami, Rosenstiel School of Marine and Atmospheric Science (RSMAS) (loaned by NOAA)\", \"Turkish Ministry of National Defense\", \"Gonets Satcom\", \"GeoForschungsZentrum (GFZ)/Center for Space Research, University of Texas\", \"Indian National Satellite System\", \"State Oceanic Administration (SOA)\", \"Centre National d'Etudes Spatiales (CNES)/D\\u008el\\u008egation G\\u008en\\u008erale de l'Armement (DGA)\", \"Hellas-Sat Consortium Ltd.\", \"Space Sciences Laboratory, UC Berkeley/NASA\", \"Institute of Space and Aeronautical Science/NASA\", \"National Remote Sensing Center (NRSCC)\", \"National Committee for Disaster Reduction and State Environmental Protection\", \"University of Hawaii\", \"Horizons 2 Satellite, LLC (Intelsat, Sky Perfect JSAT Corporation)\", \"Kyushu Institute of Technology (KIT)\", \"European Space Agency/NASA\", \"University of Vigo\", \"Avanti Communications, PLC\", \"Institute of Space Technology\", \"Cabinet Satellite Intelligence Center (CSIC)\", \"INMARSAT, Ltd.\", \"European Space Operations Centre (ESOC)/NASA/Russia\", \"Intelsat, Ltd./Sky Perfect JSAT Corp.\", \"Intelsat, Ltd./New Skies Satellites N.V. [SES] (shared capacity)\", \"NASA/Multinational\", \"NASA/Goddard Space Flight Center\", \"Iridium Satellite LLC\", \"National Aeronautics and Space Administration (NASA)\", \"ITU Space Systems Design & Test Laboratory\", \"NASA/Centre National d'Etudes Spatiales (CNES)/NOAA/EUMETSAT\", \"Sky Perfect JSAT Corporation\", \"Indian Institute of Technology Kanpur\", \"JSC KazSat\", \"National Institute of Information and Communications Technology (NICT)\", \"Tokyo Metropolitan College of Industrial Technology\", \"KT Corporation/Korean Agency for Defense Development (ADD)\", \"KT Corporation\", \"Kentucky Space\", \"NASA/US Geological Survey\", \"Indonesian National Aeronautics and  Space Agency (Lembaga Penerbangan dan Antariksa Nasional - LAPAN)\", \"US DoD/Royal Australian Navy/Panamsat (owner)\", \"Russian Federal Space Agency\", \"CTRS Morocco/Institut f\\u009fr Luft-und Raumfahrttechnik (Berlin)\", \"Budapest University of Technology and Economics\", \"University of Michigan/Montana University\", \"University of Michigan Exploratory Lab\", \"Indian Space Research Organization (ISRO)/Centre National d'Etudes Spatiales (CNES)\", \"National Reconnaissance Office (NRO)/USAF\", \"Military Space Forces (VKS)\", \"Russian Federal Service For Hydrometeorology and Environmental Monitoring (ROSHYDROMET)\", \"EUMETSAT (European Organization for the Exploitation of Meteorological Satellites)\", \"ESA/EUMETSAT (European Organization for the Exploitation of Meterological Satellites)\", \"Secretaria de Comunicaciones y Transportes (SCT)\", \"Joint Stock Company-Information Satellite Systems\", \"Lavochkin Research and Production Association (Lavochkin NPO)\", \"Mozhaisky Space Engineering Academy\", \"Mobile Satellite Ventures\", \"US Department of Energy/Office of Nonproliferation and National Security\", \"Japanese Ministry of Transport/Japan Meteorological Agency\", \"Japan Meteorological Agency/Meteorological Satellite Center (MSC)\", \"DoD/US Navy\", \"Instituto Nacional de T\\u008ecnia Aeroespacial (INTA)\", \"Ministry of Defense/Paradigm Secure Communications (wholly owned by EADS Astrium)\", \"DoD/US Air Force\", \"Missile Defense Agency\", \"NigComSat\", \"National Space Research and Development Agency (NASRDA)\", \"Egyptian Radio and TV Union\", \"Echostar Corporation (entire payload leased from Telesat Canada Ltd.)\", \"National Oceanographic and Atmospheric Administration (NOAA) (part of international program)\", \"National Oceanographic and Atmospheric Administration (NOAA)/NASA\", \"Naval Post-Graduate School\", \"SES World Skies/Intelsat [SES] (shared capacity)\", \"SES (Soci\\u008et\\u008e Europ\\u008eenne des Satellites (SES))/Intelsat (shared capacity)\", \"SES/Intelsat (SES [Soci\\u008et\\u008e Europ\\u008eenne des Satellites (SES)]) (shared capacity)\", \"NASA-Ames Research Center/Stanford University\", \"O3b Networks Ltd.\", \"Swedish National Space Board\", \"Spanish Space Agency\", \"Optus Communications (Parent: Singapore Telecom)/Australian Ministry of Defence\", \"Optus Communications (Parent: Signapore Telecom)\", \"Optus Communications (Parent: Singapore Telecom)\", \"ORBCOMM Inc.\", \"US Army\", \"U.S. Air Force/ DoD\", \"Danish Meteorological Institute (DMI)\", \"Pakistan Space and Upper Atmosphere Research Commission (SUPARCO)/PakSat International\", \"PT Indosat\", \"Unknown US agency\", \"Centre National d'Etudes Spatiales (CNES)\", \"US Naval Academy\", \"Vietnam National Satellite Center\", \"Ministry of Defense/Centre National d'Etudes Spatiales (CNES) - cooperation with Austria, Belgium, Spain, Sweden\", \"University of Tokyo\", \"Los Alamos National Laboratory\", \"Institute for Radio Astronomy at Pontificia Universidad Cat\\u0097lica del Per\\u009c (PUCP)\", \"SES World Skies (SES [Soci\\u008et\\u008e Europ\\u008eenne des Satellites (SES)]) -- total capacity leased to subsidiary of EchoStar Corp.\", \"DigitalGlobe Corporation\", \"Radarsat International\", \"RS3A Control Station\", \"RapidEye AG\", \"Space Technologies Research Institute\", \"Regional African Satellite Communications Organization (RASCOM)\", \"Malaysian National Space Agency\", \"Institute of Space and Astronautical Science (ISAS)/Japan Aerospace Exploration Agency (JAXA)\", \"TsSKB Progress (State Research & Production Space Rocket Center)\", \"Russian Space Agency (RKA)/Ministry of Defense\", \"Russian Defense Ministry\", \"European Space Agency (and 250 international scientific investigators)\", \"National Commission of Space Activities (CONAE) (with NASA, Denmark, Italy, Spain, France, Brazil)\", \"National Space of Activities Commission - Argentina/NASA\", \"Department of National Defense\", \"German Federal Armed Forces\", \"Satellites Mexicanos S.A. de C.V. (SatMex  Loral Global Alliance)\", \"Riyadh Space Research Institute\", \"Space Research Institute, King Abdulaziz City for Science and Technology\", \"Strategic Space Command/Space Surveillance Network\", \"National Reconnaissance Office/US Navy\", \"Instituto Nacional de Pesquisas Espaciais (INPE)\", \"National Reconnaissance Office (NRO)/US Air Force\", \"Nihon University\", \"SES World Skies (SES [Soci\\u008et\\u008e Europ\\u008eenne des Satellites (SES)])\", \"State Space Agency of Ukraine (NKAU)\", \"Italian Defense Ministry\", \"Italian Defense Ministry/Telespazio\", \"Iranian Research Organization for Science and Technology (IROST)\", \"China Direct Broadcast Satellite co.\", \"Sirius Satellite Radio\", \"SES Sirius AB\", \"Sirius XM Radio, Inc.\", \"Intelsat/Paradigm Secure Communications (wholly owned by EADS Astrium)\", \"Ministry of Defence\", \"Ministry of Defence/Paradigm Secure Communications (wholly owned by EADS Astrium)\", \"Skybox Imaging\", \"LightSquared\", \"U.S.Army Space and Missile Defense Command\", \"U.S. Army Space and Missile Defense Command\", \"Centre National d'Etudes Spatiales (CNES)/European Space Agency\", \"U.S. Southern Command\", \"Astrotech SOHLA\", \"NASA Earth Science Office/Laboratory for Atmospheric and Space Physics, Univ. of Colorado\", \"Hughes Network Systems\", \"Hisdesat/Ministry of Defense\", \"Astro Space Center of Moscow/Russian Academy of Sciences\", \"Ministry of Defense/General Delegation for Ordnance (DGA)\", \"Spot Image\", \"SRM University\", \"Chilean Air Force\", \"Singapore Telecommunications Ltd. (SingTel)/Chunghwa Telecom Co. Ltd.\", \"National Reconaissance Office\", \"USAF Space Test Program\", \"Surrey Satellite Technology Limited (SSTL)\", \"Missile Defense Agency (MDA)\", \"TeamStudSat - Nitte Meenakshi Institute of Technology (ground station)\", \"Japan Aerospace Exploration Agency (JAXA)/NASA\", \"Goddard Space Flight Center/Penn State University\", \"Ecole Polytechnique F\\u008ed\\u008erale de Lausanne (EPFL)\", \"Defense Ministry\", \"Naval Research Laboratory\", \"Operational Responsive Space (ORS) Office\", \"German Aerospace Center (DLR)/Astrium\", \"National Aeronautics and Space Administration (NASA)/Goddard Space Flight Center\", \"SES Americom (SES [Soci\\u008et\\u008e Europ\\u008eenne des Satellites (SES)])\", \"NASA/SES Americom (SES [Soci\\u008et\\u008e Europ\\u008eenne des Satellites (SES)])\", \"PT Telkomunikasi\", \"Eutelsat -- leased from Loral Skynet Satellite Services (Loral Global Alliance)\", \"Loral Skynet Satellite Services (Loral Global Alliance)/APT Satellite Holdings Ltd.\", \"German Aerospace Center (DLR)/Infoterra\", \"TerraStar Corporation\", \"Indian Space Research Organization\", \"German Aerospace Center\", \"Thaicom Public Company Ltd.\", \"NASA/University of California, Berkeley (in partnership with Germany, France, Austria, Canada)\", \"Geo-Informatics and Space Technology Development Agency (GISTDA)\", \"Telenor Satellite Broadcasting\", \"Thuraya Satellite Communications\", \"Nanjing\\u00caUniversity\\u00caof\\u00caAeronautics\\u00caand\\u00caAstronautics\", \"Beijing Aerospace Flight Control Center\", \"China Aerospace Science and Technology Corporation (CASTC)\", \"National University of Defense Technology\", \"NASA/Applied Physics Laboratory, Johns Hopkins\", \"Scuola Universitaria Professionale della Svizzera Italiana - Dipartimento Tecnologie Innovative\", \"Bolivia Aerospace Bureau\", \"Ministry of Defence/British National Space Centre\", \"ISIS - Innovative Solutions In Space B.V.\", \"National Space Development Agency(NASA)/Japan Aerospace Exploration Agency (JAXA)\", \"Technical University of Graz\", \"Turksat\", \"UK/DMC International Imaging (DMCII)\", \"La Sapienza University of Rome\", \"University of W\\u009frzburg\", \"NASA/Johns Hopkins University Applied Physics Laboratory\", \"Nanyang Technological University\", \"Ministry of Science and Technology\", \"Vermont Technical College/University of Vermont\", \"ViaSat, Inc.\", \"Vietnamese Posts and Telecommunications Group (VNPT)\", \"Space Technology Institute-Vietnam Academy of Science and Technology (STI-VAST)\", \"Bolivarian Agency for Space Activities\", \"Military Satellite Communications - US Air Force\", \"WildBlue Communications\", \"Weathernews, Inc.\", \"StaKoDo UG\", \"DFH Satellite\", \"XM Satellite Radio USA\", \"European Space Operations Centre (ESOC)\", \"Centre for Research in Satellite Technology (CREST)\", \"Ministry of Defense/XTAR\", \"DFH Satellite/AMSAT-China\", \"Al Yah Satellite Communications Company (YAHSAT)\", \"Gazprom Space Systems\", \"Gaxprom Space Systems\", \"People's Liberation Army (C41)\", \"Research Laboratory of Aerospace Technology (NILAKT ROSTO)\", \"Cape Peninsula University of Technology\", \"Chinese Academy of Space Technology\", \"Zhejiang University\", \"China Centre for Resources Satellite Data and Application (CRESDA)\"]}, {\"stat_type\": \"categorical\", \"name\": \"users\", \"unique_values\": [\"Civil\", \"Commercial\", \"Government\", \"Military\", \"Commercial/Government\", \"Military/Commercial\", \"Government/Military\", \"Government/Civil\", \"Civil/Commercial\", \"Civil/Military\", \"Military/Government\", \"Civil/Government\", \"Commerical\", \"Commercial/Government/Government\", \"Commercial/Gov/Mil\", \"Government/Commercial\", \"Governmnet\", \"Commecial\"]}, {\"stat_type\": \"categorical\", \"name\": \"purpose\", \"unique_values\": [\"Technology Development\", \"Communications\", \"Solar Physics\", \"Electronic Surveillance\", \"Scientific Research\", \"Earth Science\", \"Maritime Tracking/Technology Development\", \"Space Physics\", \"Communications/Technology Development\", \"Earth Observation\", \"Amateur Radio\", \"Communications (experimental)\", \"Communications/Maritime Tracking\", \"Communications/Research\", \"Remote Sensing/Technology Development\", \"Remote Sensing\", \"Space Science\", \"Astrophysics\", \"Navigation/Global Positioning\", \"Earth Observation/Meteorology/Communications\", \"Earth/Space Science\", \"Remote Sensing/Imaging\", \"Earth Science/Meteorology\", \"Early Warning\", \"Meteorology\", \"Electronic Intelligence/Technology Development\", \"Earth Observation/Research\", \"Maritime Tracking\", \"Reconnaissance\", \"Communications/Navigation\", \"Radar Calibration\", \"Astrophysics/Planetary Science\", \"Communications/Earth Science\", \"Navigation\", \"Earth Observation/Technology Development\", \"Surveillance\", \"Remote Sensing/Earth Science\", \"Meteorology/Navigation\", \"Space Observation\", \"Astrophysics/Earth Science\", \"Remote Sensing/Reconnaissance\", \"Technology Development/Communications\", \"Technology Demonstration\", \"Remote Sensing/Research\", \"Electronic Surveillance/Ocean\", \"Meteorology/Earth Observation\"]}, {\"stat_type\": \"categorical\", \"name\": \"class_of_orbit\", \"unique_values\": [\"LEO\", \"GEO\", \"Elliptical\", \"MEO\"]}, {\"stat_type\": \"categorical\", \"name\": \"type_of_orbit\", \"unique_values\": [\"Sun-Synchronous\", \"Deep Highly Eccentric\", \"Polar\", \"Intermediate\", \"Molniya\", \"Retrograde\", \"Cislunar\"]}, {\"stat_type\": \"realAdditive\", \"name\": \"perigee_km\"}, {\"stat_type\": \"realAdditive\", \"name\": \"apogee_km\"}, {\"stat_type\": \"realAdditive\", \"name\": \"eccentricity\"}, {\"stat_type\": \"realAdditive\", \"name\": \"period_minutes\"}, {\"stat_type\": \"realAdditive\", \"name\": \"launch_mass_kg\"}, {\"stat_type\": \"realAdditive\", \"name\": \"dry_mass_kg\"}, {\"stat_type\": \"realAdditive\", \"name\": \"power_watts\"}, {\"stat_type\": \"realAdditive\", \"name\": \"date_of_launch\"}, {\"stat_type\": \"realAdditive\", \"name\": \"anticipated_lifetime\"}, {\"stat_type\": \"categorical\", \"name\": \"contractor\", \"unique_values\": [\"Aalborg University\", \"Lockheed Martin\", \"Lockheed Martin Astro Space\", \"Space Systems/Loral\", \"Orbital Sciences Corp.\", \"TRW Space and Electronics\", \"National Reconnaissance Laboratory (?)\", \"National Reconnaissance Laboratory(?)\", \"Lockheed Martin Space Systems\", \"University of Southern California\", \"Aerospace Corporation\", \"EADS Astrium\", \"Boeing Satellite Systems\", \"Matra Marconi Space-France\", \"Carlo\\u00caGavazzi\\u00caSpace\", \"Kongsberg Seatex AS/University of Toronto Institute for Aerospace Studies\", \"TsSKB Progress\", \"Samara State Aerospace University, SGAU\", \"Institute of Space and Aeronautical Science, University of Tokyo\", \"US Air Force Institute of Technology\", \"Astrium\", \"Lockheed Martin Commercial Space Systems\", \"Lockheed Martin Missiles and Space\", \"Alcatel Space Industries\", \"Israel Aircraft Industries (IAI)\", \"OAO ISS\", \"Amsat-NA\", \"Aprize Satellite\", \"SpaceQuest\", \"Hughes\", \"Thales Alenia Space\", \"Astrium/Thales Alenia Space\", \"Lockheed Martin/Spar Aerospace\", \"NanoSatisfi, Inc.\", \"Alenia Spazio\", \"Pakistan Space and Upper Atmosphere Research Commission (SUPARCO)\", \"Technische\\u00caUniversit\\u008at\\u00caBerlin\", \"Tsinghua University/University of Surrey\", \"Deutsches Zentrum f\\u009fr Luft- und Raumfahrt\", \"NPO VNIIEM\", \"Hughes Space and Communications\", \"University of Toronto Institute for Aerospace Studies\", \"General Dynamics\", \"Alcatel Alenia Space\", \"All-Russia Research Institute of Electromechanics (NPP VNIIEM)\", \"University of Toronto Institute for Aerospace Studies/Com Development International Ltd.\", \"University of Louisiana at Lafayette\", \"Indian Space Research Organization (ISRO)\", \"Canadian Space Agency\", \"Surrey Satellite Technologies Ltd.\", \"China Academy of Sciences\", \"Space Sciences Laboratory (SSL) of the University of California Berkeley;  Kyung Hee University (KHU), Imperial College London\", \"NASA Jet Propulsion Laboratory\", \"Space Technology Research Institute (part of CASC)\", \"EADS Astrium/Electronics and Telecommunications Research Institute (ETRI)\", \"Spectrum Astro, Inc.\", \"Thales\\u00caAlenia\\u00caSpace\", \"Argentinian Ministry of Science, Technology and Productive Innovation\", \"Department of Astronautics, University of Tokyo\", \"City University of New York\", \"Space Systems Design Studio, Cornell University\", \"Tokyo Institute of Technology\", \"University of Colorado, Boulder\", \"Technical University of Delft\", \"Boeing Space and Intelligence Systems\", \"Boeing Satellite Development Center\", \"Boeing Space Systems\", \"Hughes Electronics Corp.\", \"Institute of Aeronautics and Astronautics, Technical University of Berlin\", \"General Electric Astro Space\", \"Planet Labs, Inc.\", \"Mitsubishi Electric\", \"TRW and Aerojet Electronics Systems\", \"Northrup Grumman (formerly TRW)\", \"Satrec Initiative\", \"Morehead State University\", \"Aerospace Engineering School, University of Rome\", \"Lavochkin\", \"Swales Aerospace\", \"TRW Space\", \"TRW\", \"NASA/Jet Propulsion Laboratory/Japan Aerospace Exploration Agency/Equatorial Systems (Brazil)\", \"Politecnico di Torino\", \"University of Tartu\", \"Matra Marconi Space (Astrium)\", \"Alcatel Space/NPO PM (Applied Mechanics)\", \"Chinese Academy of Space Technology (CAST)\", \"EADS Space\", \"NPO-PM/Alcatel\", \"NPO-PM/Thales Alenia Space\", \"OAO-ISS\", \"US Air Force Academy\", \"University of Texas - Austin\", \"China Aerospace Corporation\", \"Shanghai Academy of Space Flight Technology\", \"National Reconnaissance Office (NRO)\", \"Montana State University\", \"National Science Foundation\", \"TRW, Defense and Space Systems Group\", \"Astrium/NSPO\", \"Los Alamos National Lab/Sandia National Lab\", \"AMSAT/UK-AMSAT/NL\", \"ISS Reshetnev\", \"GomSpace/University of Aalborg\", \"Bigelow Aerospace\", \"NASA/Goddard Space Flight Center\", \"Japan Aerospace Exploration Agency (JAXA)\", \"Space Systems/Loral/Alenia Aerospazio\", \"NPO-PM\", \"Hughes Aircraft\", \"T\\u0086B_TAK Space Technologies Research Institute/Turkish Aerospace Industries\", \"NPO PM\", \"M.F.\\u00caReshetnev Information Satellite Systems\", \"Jet Propulsion Laboratory (NASA)/Space Systems/Loral/Astrium GmBH\", \"Dongfanghong Satellite Corporation Ltd.\", \"China Academy of Space Technology (CAST)\", \"Institute of Space and Aeronautical Science, University of Tokyo/NASA\", \"NEC Corporation\", \"Aerospatiale (Alcatel Space Industries)\", \"Chinese Academy of Space Technology (CAST)/DFH Satellite\", \"University of Hawaii, Honlulu\", \"Kyushu Institute of Technology (KIT)\", \"European Space Agency/NASA\", \"University of Vigo\", \"Institute of Space Technology\", \"Mitsubishi\", \"Mitsubishi/Toshiba\", \"Lockheed Martin Missiles & Space\", \"National Reconnaissance Laboratory\", \"Boeing\", \"ISRO Satellite Center\", \"Alenia Aerospazio (and 28 subcontractors)\", \"Boeing Space & Intelligence Systems\", \"Hughes Space and Communications Group\", \"Loral Space Systems\", \"Aerospatiale\", \"Boeing Satellite Systems (prime)/Multinational\", \"California Polytechnic University\", \"Motorola Satellite Communications Group\", \"Lockheed Martin Space Systems Advanced Technology Center (ATC)\", \"ITU Space Systems Design & Test Laboratory\", \"Indian Institute of Technology Kanpur\", \"Khrunichev\", \"JAXA/National Institute of Information and Communications Technology (NICT)\", \"Tokyo Metropolitan College of Industrial Technology\", \"Korea Aerospace Research Institute (KARI)/ EADS Astrium\", \"Korea Aerospace Research Institute (KARI)\", \"NPO Mashinostroyeniya\", \"Harbin Institute of Technology\", \"Kentucky Space Consortium\", \"Lockheed Martin Astronautics\", \"Technical University of Berlin\", \"TsSKB-Progress Samara Space Center and KB Arsenal\", \"ISS Reshetnev/Thales Alenia Space\", \"OAO\\u00caISS\", \"CRTS Morocco/Institut f\\u009fr Luft-und Raumfahrttechnik\", \"Budapest University of Technology and Economics\", \"University of Michigan/Montana University/Montana Space Grant Consortium\", \"University of Michigan\", \"PO Polyot\", \"VNIIEM\", \"Alcatel\", \"Alcatel/Alenia Space\", \"EADS-Astrium\", \"Joint Stock Company-Information Satellite Systems/Siberian State Aerospace University (SibSAU)\", \"Lavochkin NPO\", \"Dynacon Inc./University of Toronto Institute for Aerospace Studies/University of British Columbia\", \"Mozhaiskiy Space Engineering Academy\", \"Spar Aerospace\", \"Hughes Communications Inc.\", \"Ball Aerospace/TRW/Raytheon\", \"Mitsubishi Electric/Boeing/Alcatel\", \"Instituto Nacional de T\\u008ecnia Aeroespacial (INTA)\", \"Matra Marconi\", \"Rockwell International\", \"Microsat Systems Canada Inc.\", \"Surrey Satellite Technology Ltd. (SSTL)\", \"Ball Aerospace\", \"Naval Post-Graduate School\", \"Lockheed Martin Commercial Space Systems/Orbital Sciences\", \"NASA/Ames Research Center\", \"Swedish Space Corporation/Canadian Space Agency/National Technology Agency of Finland/Centre National d'Etudes Spatiales\", \"Israel Aircraft Industries (IAI), Missiles and Space Group\", \"Israel Aerospace Industries (IAI)\", \"Instituto Nacional de Tecnica Aerospacial (INTA)\", \"Johns Hopkins University Applied Physics Laboratory\", \"Goodrich/ATK\", \"Miltec Corporation\", \"Computer Resources International (CRI)\", \"China Aerospace Science and Technology Corp. (CASC)\", \"Centre National d'Etudes Spatiales (CNES)\", \"Information Satellite Systems (formerly NPO-PM)\", \"US Naval Academy\", \"Vietnam National Satellite Center\", \"University of Tokyo\", \"Verhaert Design and Development NV (leading a European consortium)\", \"QinetiQ Space Belgium\", \"Los Alamos National Laboratory\", \"Institute for Radio Astronomy at Pontificia Universidad Cat\\u0097lica del Per\\u009c (PUCP)\", \"MacDonald, Dettwiler/Thales Alenia Spazio\", \"Nilakt Posto and radio amateurs\", \"Applied Mechanics (NPO)\", \"OAO Resetneva\", \"Surrey Satellite Technology, Ltd.\", \"Space Technologies Research Institute\", \"Astronautic Technology (M) Sdn Bhd\", \"Institute of Space and Astronautical Science (ISAS)\", \"TsSKB Progress (State Research & Production Space Rocket Center)\", \"OAO - ISS\", \"Dornier Systems (Astrium) and 35 subcontractors\", \"INVAP SE\", \"Surrey Satellite Technology Ltd/MacDonald, Dettwiler and Associates\", \"OHB System-AG\", \"OHB-System AG\", \"Hughes Space and Communications Company\", \"Space Research Institute, King Abdulaziz City for Science and Technology\", \"Riyadh Space Research Institute\", \"King Abdulaziz City for Science and Technology\", \"Boeing/Ball Aerospace\", \"National Reconnaissance Laboratory (NRL)\", \"Instituto Nacional de Pesquisas Espaciais (INPE)\", \"Bristol Aerospace Ltd.\", \"Goddard Space Flight Center\", \"Nihon University\", \"Chinese Academy of Space Technology (CAST)/ DFH Satellite\", \"Chinese Academy of Space Technology (CAST/DFH Satellite\", \"Shanghai Academy of Space Flight Technology/Dongfanghong Satellite Co.\", \"Chinese Research Institute of Space Technology/Changchun Photomechanical Institute (CAS)\", \"CAST/DFH Satellite/HIT\", \"Yuzhnoye\", \"Thales Alenia Space Italia\", \"Polyot\", \"Skybox Imaging\", \"Miltec\", \"Space Oriented Higashiosaka Leading Association\", \"SRM University\", \"Mitsubishi Electric Corporation\", \"Lawrence Livermore National Laboratory\", \"Surrey Satellite Technology Limited (SSTL)\", \"NPO/PM - Scientific Research Institute for Precision Instruments (NII-TP)\", \"Korea Advanced Institute of Science and Technology (KAIST)\", \"Northrop Grumman\", \"Indian Space Research Organization (ISRO)/seven academic institutions\", \"Spectrum Astro (General Dynamics)\", \"Ecole Polytechnique F\\u008ed\\u008erale de Lausanne (EPFL)\", \"Naval Research Laboratory/Johns Hopkins University Applied Physics Laboratory\", \"Air Force Research Laboratory (AFRL)\", \"TRW Defense and Space Systems Group\", \"Kayser-Threde GmbH\", \"Nanjing\\u00caUniversity\\u00caof\\u00caAeronautics\\u00caand\\u00caAstronautics\", \"DFH\\u00caSatellite\\u00caCo.\\u00caLtd.\", \"DFH Satellite Co. Ltd.\", \"National University of Defense Technology\", \"Applied Physics Laboratory, Johns Hopkins\", \"Scuola Universitaria Professionale della Svizzera Italiana - Dipartimento Tecnologie Innovative\", \"QinetiQ/Surrey Satellite Technology Ltd.\", \"ISIS - Innovative Solutions In Space B.V.\", \"KB Yuznoye\", \"University of Toronto Institute for Aerospace Studies (UTIAS)\", \"La Sapienza University of Rome\", \"NPO Lovochkin\", \"University of W\\u009frzburg\", \"Nanyang Technological University\", \"Great Wall Industry Corp.\", \"Vermont Technical College/University of Vermont\", \"LuxSpace Sarl\", \"Boeing Integrated Defense Systems\", \"Martin Marietta Astrospace\", \"Axelspace\", \"StaKoDo UG\", \"Dornier Systems (and 46 subcontractors)\", \"Centre for Research in Satellite Technology (CREST)\", \"DFH Satellite\", \"Rocket-Space Corporation Energia/Alcatel\", \"OAO Reseteneva\", \"Thales\", \"Shanghai Academy of Satellite Technology (SAST)\", \"Chinese Aerospace Science and Technology Corp.\", \"China Aerospace Science and Technology Corp.\", \"Cape Peninsula University of Technology (CPUT)\", \"Zhejiang University\", \"China Great Wall Industry Corporation (CGWIC)\"]}, {\"stat_type\": \"categorical\", \"name\": \"country_of_contractor\", \"unique_values\": [\"Denmark\", \"USA\", \"France\", \"Italy\", \"Canada\", \"Russia\", \"Japan\", \"France/UK/Germany/Spain\", \"Israel\", \"Argentina\", \"France/Italy\", \"USA/Canada\", \"France/UK/Germany\", \"Pakistan\", \"Germany\", \"China (PR)/United Kingdom\", \"India\", \"United Kingdom\", \"China (PR)\", \"South Korea\", \"Netherlands\", \"USA/Japan/Brazil\", \"Estonia\", \"France/Russia\", \"Russia/France\", \"France/UK/Germany/Taiwan\", \"UK/Netherlands\", \"Germany/UK/Italy\", \"USA/Italy\", \"Turkey\", \"Germany/USA\", \"Japan/USA/UK/Germany\", \"International\", \"Spain\", \"Italy/International\", \"UK/France/Germany/Spain\", \"Multinational\", \"South Korea/France/UK/Germany\", \"Morocco/Germany\", \"Hungary\", \"Sweden/Canada/Finland/France\", \"Vietnam\", \"Belgium\", \"Peru\", \"Canada/Italy\", \"Malaysia\", \"UK/Canada\", \"Saudi Arabia\", \"Brazil\", \"Ukraine\", \"Switzerland\", \"Singapore\", \"Luxembourg\", \"South Africa\"]}, {\"stat_type\": \"categorical\", \"name\": \"launch_site\", \"unique_values\": [\"Satish Dhawan Space Center\", \"Baikonur Cosmodrome\", \"Cape Canaveral\", \"Guiana Space Center\", \"Vandenberg AFB\", \"Xichang Satellite Launch Center\", \"Sriharikota Launch Station\", \"Plesetsk Cosmodrome\", \"Uchinoura Space Center\", \"Dombarovsky Launch Facility\", \"ISS\", \"L-1011 Aircraft\", \"Wallops Island Flight Facility\", \"Taiyuan Launch Center\", \"Jiuquan Satellite Launch Center\", \"Sea Launch (Odyssey)\", \"Sea Launch\", \"Tanegashima Space Center\", \"Svobodny Cosmodrome\", \"Kodiak Launch Complex\", \"Yasny Cosmodrome\", \"Kwajalein Island\", \"Kennedy Space Center\", \"Palmachim Launch Complex\", \"Naro Space Center\"]}, {\"stat_type\": \"categorical\", \"name\": \"launch_vehicle\", \"unique_values\": [\"PSLV\", \"Proton\", \"Delta 2\", \"Atlas 3\", \"Ariane\", \"Taurus\", \"Titan IVA\", \"Titan IV\", \"Delta 4 Heavy\", \"Atlas 5\", \"Ariane 5\", \"Ariane 44L\", \"Long March CZ3B\", \"PSLV C8\", \"Pegasus XL\", \"Soyuz 2-1B\", \"Soyuz 2-1A\", \"Mu 3S2\", \"Ariane 5 ECA\", \"Proton M\", \"Atlas 2A\", \"Atlas 2 AS\", \"Ariane 44LP\", \"Proton K\", \"Ariane 5G\", \"Soyuz-Fregat\", \"Zenit 3SLB\", \"Zenit 2SB\", \"Delta 2310\", \"Dnepr 1\", \"Dnepr\", \"Long March 3\", \"Long March 3B\", \"Proton D\", \"JSSOD\", \"Atlas 3B\", \"Breeze M\", \"Ariane 42P\", \"Ariane 42L\", \"Zenit 2\", \"Kosmos 3M\", \"PSLV C3\", \"Pegasus\", \"PSLV C9\", \"Minotaur\", \"PSLV C6\", \"PSLV C7\", \"Falcon 9\", \"Space Shuttle (STS 93)\", \"Long March 2D\", \"Long March 2C\", \"Long March 3C\", \"Long March 3A\", \"Titan 2\", \"Delta 7000\", \"Delta 7420\", \"Chang Zheng 2D\", \"Zenit 3SL\", \"Proton M/Breeze M\", \"PSLV C2\", \"Atlas E\", \"Delta 4\", \"H-2A\", \"Atlas 2\", \"Titan IVB\", \"Titan 4B\", \"Long March 2E\", \"Zenit\", \"Soyuz 2/Fregat\", \"Delta\", \"Start 1\", \"Vega\", \"Ariane 4\", \"Atlas 3A\", \"Minotaur 4\", \"Long March 4C\", \"Minotaur 1\", \"Atlas Centaur\", \"Taurus XL\", \"Zenit 3\", \"H-II2\", \"Soyuz U\", \"Soyuz 2-1A/Fregat\", \"Soyuz 2\", \"Delta 2914\", \"Tsyklon 3\", \"Rokot\", \"PSLV C17\", \"GSLV\", \"GSLV D2\", \"Long March 4B\", \"JAXA M-V\", \"Epsilon\", \"Space Shuttle (STS 31)\", \"Athena 2\", \"GSLV F04\", \"Atlas\", \"Delta 2 7920\", \"Rokot/BrizKM\", \"L1011\", \"PSLV C5\", \"Polar Satellite Launch Vehicle (PSLV)\", \"Strela\", \"Kuaizhou\", \"Dnepr LV\", \"Space Shuttle (STS 32R)\", \"Delta 7920\", \"Soyuz-Fregat (Soyuz 2)\", \"Atlas 5 ECA\", \"Titan 4A\", \"Soyuz-ST\", \"Shavit\", \"Long March CZ2E\", \"Kosmos C\", \"Athena 1\", \"Soyuz STA/Fregat\", \"Breeze KM\", \"Soyuz\", \"Falcon 1\", \"PSLV C16\", \"PSLV XL\", \"PSLV C12\", \"Zenit 3SLBF/Fregat SB\", \"Naro-1\", \"M5\", \"Delta 7320\", \"Space Shuttle (STS 26)\", \"Space Shuttle (STS 43)\", \"Space Shuttle (STS 54)\", \"Space Shuttle (STS 70)\", \"PSLV C10\", \"Ariane 44P\", \"Long March 2F\", \"H2\", \"Zenit 2M\", \"Molniya M\", \"Chang Zheng 3B\", \"Long March CZ2D\", \"Long March\", \"Long March CZ4B\", \"Chang Zheng 4B\"]}, {\"stat_type\": \"categorical\", \"name\": \"source_used_for_orbital_data\", \"unique_values\": [\"SC - ASCR\", \"JM/12_08\", \"www.satellitedebris.net 12/12\", \"CalSky\", \"ZARYA\", \"JMSatcat304\", \"ZARYA estimated\", \"JM/12_09\", \"JM/1_12\", \"JM/10/09\", \"SC - ASCR 1/09\", \"SC - ASCR 9/11\", \"SC - ASCR 4/10\", \"SC-ASCR\", \"JM/5_11\", \"GS\", \"Astronomy News\", \"JM/7_09\", \"JM/5_12\", \"JM/2_09\", \"JM/4_10\", \"JM/9_11\", \"JM/10_09\", \"JMSatcat1006\", \"oosa\", \"JMSR\", \"JM/304\", \"JMSatcat10_06\", \"JMSatcat1104\", \"Estimated\", \"ZARYA (estimated)\", \"SC - ASCR 2/09\", \"SC - ASCR 12/13\", \"ZARYA/ASCR\", \"SC  - ASCR\", \"JM/8_12\", \"www.spacedebris.net 12/12\", \"JM/7_12\"]}, {\"stat_type\": \"realAdditive\", \"name\": \"longitude_radians_of_geo\"}, {\"stat_type\": \"realAdditive\", \"name\": \"inclination_radians\"}])"
      ],
      "text/plain": [
       "<IPython.core.display.Javascript object>"
      ]
     },
     "execution_count": 10,
     "metadata": {},
     "output_type": "execute_result"
    }
   ],
   "source": [
    "%%bql\n",
    ".interactive_pairplot --population=satellites \n",
    "SELECT class_of_orbit, type_of_orbit\n",
    "FROM satellites_t;"
   ]
  },
  {
   "cell_type": "code",
   "execution_count": 11,
   "metadata": {},
   "outputs": [
    {
     "data": {
      "text/html": [
       "<div>\n",
       "<table border=\"1\" class=\"dataframe\">\n",
       "  <thead>\n",
       "    <tr style=\"text-align: right;\">\n",
       "      <th></th>\n",
       "    </tr>\n",
       "  </thead>\n",
       "  <tbody>\n",
       "  </tbody>\n",
       "</table>\n",
       "</div>"
      ],
      "text/plain": [
       "Empty DataFrame\n",
       "Columns: []\n",
       "Index: []"
      ]
     },
     "execution_count": 11,
     "metadata": {},
     "output_type": "execute_result"
    }
   ],
   "source": [
    "%mml DROP METAMODEL satellites_m;"
   ]
  },
  {
   "cell_type": "code",
   "execution_count": 12,
   "metadata": {},
   "outputs": [
    {
     "data": {
      "application/javascript": [
       "//   Copyright (c) 2010-2016, MIT Probabilistic Computing Project\n",
       "//\n",
       "//   Licensed under the Apache License, Version 2.0 (the \"License\");\n",
       "//   you may not use this file except in compliance with the License.\n",
       "//   You may obtain a copy of the License at\n",
       "//\n",
       "//       http://www.apache.org/licenses/LICENSE-2.0\n",
       "//\n",
       "//   Unless required by applicable law or agreed to in writing, software\n",
       "//   distributed under the License is distributed on an \"AS IS\" BASIS,\n",
       "//   WITHOUT WARRANTIES OR CONDITIONS OF ANY KIND, either express or implied.\n",
       "//   See the License for the specific language governing permissions and\n",
       "//   limitations under the License.\n",
       "\n",
       "function bar(df) {\n",
       "  var myCell = element.is('.output_subarea') ? element : element.next();\n",
       "\n",
       "  // Validate input format.  It should be a pandas dataframe in \"split\" format:\n",
       "  // df.to_json(orient=\"split\")\n",
       "\n",
       "  if (!(df.columns && df.index && df.data)) {\n",
       "    throw new Error(\"Incorrect data format\");\n",
       "  }\n",
       "\n",
       "  if (df.columns.length !== 2) {\n",
       "    throw new Error(\"There must be exactly two columns\");\n",
       "  }\n",
       "\n",
       "  // restrict data to only numeric data\n",
       "  const rows = df.data.filter( ([,number]) => typeof number === 'number' );\n",
       "\n",
       "  if (!rows.length) {\n",
       "    throw new Error(\"No rows contain numbers in the second column\");\n",
       "  }\n",
       "\n",
       "  const [ xName, yName ] = df.columns;\n",
       "\n",
       "  const container = $(\"<div>\").css({ display: 'flex', flexDiection: 'row' }).appendTo(myCell.empty());\n",
       "\n",
       "  function $s(elem) {\n",
       "    return $(document.createElementNS('http://www.w3.org/2000/svg', elem));\n",
       "  }\n",
       "  const svg = $s('svg').attr({ width: 15, height: 500 })\n",
       "    .append($s('text').attr({transform: \"rotate(270) translate(-250 12)\", size:\"12\", style: \"fill: #000000\", 'text-anchor': \"middle\", 'font-weight': 'bold'}).text(yName));\n",
       "\n",
       "  $('<div style=\"flex: 0 0 15px\">').append(svg).appendTo(container);\n",
       "\n",
       "  const middleContainer = $('<div style=\"display: flex; flex-direction: column\">').appendTo(container);\n",
       "  middleContainer.append($('<div style=\"text-align: center; font-weight: bold\">').text(xName));\n",
       "\n",
       "  VizGPMReady\n",
       "  .then(VizGPM => {\n",
       "    const _ = VizGPM._;\n",
       "    const root = $(\"<div>\").prependTo(middleContainer)[0];\n",
       "\n",
       "    const xValue = d => d[0];\n",
       "    const yValue = d => d[1];\n",
       "\n",
       "    class CustomBarChart extends VizGPM.Charts.Histogram {\n",
       "      _calculateData() {\n",
       "        if (!this._.aesthetics) return;\n",
       "        if (this.hasChanged('rows', 'scales')) {\n",
       "          const {\n",
       "            rows,\n",
       "            scales: {x: xScale, y: yScale},\n",
       "            aesthetics: [\n",
       "              {value, name: axisName, bins},\n",
       "              {value: yValue} = {},\n",
       "            ],\n",
       "            width,\n",
       "          } = this._;\n",
       "\n",
       "          // the histogram chart works as a bar, but it's internal represntation\n",
       "          // has \"x\" and \"value\" so needs a little customization\n",
       "          this._.chartData = rows.map(row => ({\n",
       "            x: value(row),\n",
       "            value: yValue(row),\n",
       "            rows: new Set([ row ]),\n",
       "            query: { [axisName]: { $in: [value(row)] } },\n",
       "          }))\n",
       "\n",
       "          xScale.domain(this._.chartData.map( d => d.x ));\n",
       "          yScale.domain([0, _.max(this._.chartData.map(d => d.value))]).nice();\n",
       "        }\n",
       "      }\n",
       "    }\n",
       "\n",
       "    const size = 500;\n",
       "\n",
       "    var bar = new CustomBarChart({\n",
       "      root,\n",
       "      rows,\n",
       "      size,\n",
       "      margin: {\n",
       "        bottom: Math.max(size/6, 35),\n",
       "        left: Math.max(size/12, 35),\n",
       "        top: 0,\n",
       "        right: 0,\n",
       "      },\n",
       "      aesthetics: [{\n",
       "        name: xName,\n",
       "        value: xValue,\n",
       "      }, {\n",
       "        name: yName,\n",
       "        value: yValue,\n",
       "      }],\n",
       "      scales: {\n",
       "        x: VizGPM.Charts.Scales.SCALE_METHOD.band(),\n",
       "        y: VizGPM.Charts.Scales.SCALE_METHOD.linear(),\n",
       "      },\n",
       "    });\n",
       "\n",
       "    bar.render();\n",
       "  })\n",
       "  .catch(e => {\n",
       "    const stack = $(\"<code>\")\n",
       "      .css({ whiteSpace: \"pre\", display: \"block\", color: \"red\", overflow: \"auto\" })\n",
       "      .text(e.stack);\n",
       "    debugger;\n",
       "    myCell.append(\"Error initializing chart:\", stack);\n",
       "  })\n",
       "}\n",
       ";bar({\"columns\":[\"country_of_operator\",\"\\\"AVG\\\"(\\\"power_watts\\\")\"],\"index\":[0,1,2,3,4,5,6,7,8,9],\"data\":[[\"Australia\",5440.0],[\"Austria\",5.4],[\"Belarus\",300.0],[\"Brazil\",3648.5714285714],[\"Canada\",9983.1818181818],[\"China (PR)\",6150.0],[\"Denmark\",54.0],[\"ESA\",949.2666666667],[\"ESA\\/USA\",2400.0],[\"ESA\\/USA\\/Russia\",2000.0]]})"
      ],
      "text/plain": [
       "<IPython.core.display.Javascript object>"
      ]
     },
     "execution_count": 12,
     "metadata": {},
     "output_type": "execute_result"
    }
   ],
   "source": [
    "%%bql\n",
    ".interactive_bar \n",
    "SELECT country_of_operator, AVG(power_watts)\n",
    "FROM satellites_t\n",
    "WHERE power_watts IS NOT NULL\n",
    "GROUP BY country_of_operator\n",
    "LIMIT 10;"
   ]
  },
  {
   "cell_type": "code",
   "execution_count": 5,
   "metadata": {},
   "outputs": [
    {
     "data": {
      "application/javascript": [
       "//   Copyright (c) 2010-2016, MIT Probabilistic Computing Project\n",
       "//\n",
       "//   Licensed under the Apache License, Version 2.0 (the \"License\");\n",
       "//   you may not use this file except in compliance with the License.\n",
       "//   You may obtain a copy of the License at\n",
       "//\n",
       "//       http://www.apache.org/licenses/LICENSE-2.0\n",
       "//\n",
       "//   Unless required by applicable law or agreed to in writing, software\n",
       "//   distributed under the License is distributed on an \"AS IS\" BASIS,\n",
       "//   WITHOUT WARRANTIES OR CONDITIONS OF ANY KIND, either express or implied.\n",
       "//   See the License for the specific language governing permissions and\n",
       "//   limitations under the License.\n",
       "\n",
       "function scatter(df) {\n",
       "  var myCell = element.is('.output_subarea') ? element : element.next();\n",
       "\n",
       "  // Validate input format.  It should be a pandas dataframe in \"split\" format:\n",
       "  // df.to_json(orient=\"split\")\n",
       "\n",
       "  if (!(df.columns && df.index && df.data)) {\n",
       "    throw new Error(\"Incorrect data format\");\n",
       "  }\n",
       "\n",
       "  if (df.columns.length < 2 || df.columns.length > 3) {\n",
       "    debugger;\n",
       "    throw new Error(\"There must be two or three columns\");\n",
       "  }\n",
       "\n",
       "  if (!df.data.length) {\n",
       "    throw new Error(\"No data in the table\");\n",
       "  }\n",
       "\n",
       "  if (typeof df.data[0][1] !== 'number') {\n",
       "    throw new Error(\"Expected second column to contain a number\");\n",
       "  }\n",
       "\n",
       "  const [ xName, yName, colorName ] = df.columns;\n",
       "  const container = $(\"<div>\").css({ display: 'flex', flexDiection: 'row' }).appendTo(myCell.empty());\n",
       "\n",
       "\n",
       "  function $s(elem) {\n",
       "    return $(document.createElementNS('http://www.w3.org/2000/svg', elem));\n",
       "  }\n",
       "  const svg = $s('svg').attr({ width: 15, height: 500 })\n",
       "    .append($s('text').attr({transform: \"rotate(270) translate(-250 12)\", size:\"12\", style: \"fill: #000000\", 'text-anchor': \"middle\", 'font-weight': 'bold'}).text(yName));\n",
       "\n",
       "  $('<div style=\"flex: 0 0 15px\">').append(svg).appendTo(container);\n",
       "\n",
       "  const middleContainer = $('<div style=\"display: flex; flex-direction: column\">').appendTo(container);\n",
       "  middleContainer.append($('<div style=\"text-align: center; font-weight: bold\">').text(xName));\n",
       "\n",
       "  VizGPMReady\n",
       "  .then(VizGPM => {\n",
       "    const _ = VizGPM._;\n",
       "    const root = $(\"<div>\").css({ display: 'inline-block', width: 500, verticalAlign: 'top' }).prependTo(middleContainer)[0];\n",
       "\n",
       "    const xValue = d => d[0];\n",
       "    const yValue = d => d[1];\n",
       "\n",
       "    const colorValue = d => d[2];\n",
       "\n",
       "    const rows = df.data\n",
       "\n",
       "    const size = 500;\n",
       "\n",
       "    // TODO: when we are compiling this, we should be able to use d3 here...\n",
       "    const categories = new Set(rows.map(colorValue));\n",
       "    const isCategory = Boolean(colorName);\n",
       "    // http://colorbrewer2.org/?type=qualitative&scheme=Set3&n=12\n",
       "    const colors = [\n",
       "      'rgba(141,211,199,0.9)',\n",
       "      'rgba(251,128,114,0.9)',\n",
       "      'rgba(128,177,211,0.9)',\n",
       "      'rgba(253,180,98,0.9)',\n",
       "      'rgba(179,222,105,0.9)',\n",
       "      'rgba(252,205,229,0.9)',\n",
       "      'rgba(217,217,217,0.9)',\n",
       "      'rgba(188,128,189,0.9)',\n",
       "      'rgba(204,235,197,0.9)',\n",
       "      'rgba(255,237,111,0.9)',\n",
       "      'rgba(190,186,218,0.9)',\n",
       "      'rgba(255,255,179,0.9)',\n",
       "    ];\n",
       "\n",
       "    const colorMap = new Map([...categories].map((value, index) => [value, colors[index]]));\n",
       "\n",
       "    if (isCategory) {\n",
       "      const legend = $(\"<ul>\").css({ margin: 0, padding: 0, listStyle: 'none' }).appendTo(container);\n",
       "      $(\"<span style='margin: 0.25em; font-weight: bold'>\").text(df.columns[2]).wrap(\"<li>\").parent().appendTo(legend);\n",
       "      for(const [category, color] of colorMap.entries()) {\n",
       "        const item = $(\"<li>\").appendTo(legend);\n",
       "        $(\"<div>\")\n",
       "          .css({ width: '20px', height: '20px', display: 'inline-block', background: color, border: '1px solid #000', verticalAlign: 'middle', margin: '0.25em 0.75em'})\n",
       "          .appendTo(item);\n",
       "        $(\"<span>\").text(category).appendTo(item);\n",
       "      }\n",
       "\n",
       "    }\n",
       "    const colorBy = isCategory ?\n",
       "      d => colorMap.get(colorValue(d)) || '#000000' :\n",
       "      undefined;\n",
       "\n",
       "    var scatter = new VizGPM.Charts.ScatterPlot({\n",
       "      root,\n",
       "      rows,\n",
       "      size,\n",
       "      pointRadius: 3,\n",
       "      margin: {\n",
       "        bottom: Math.floor(Math.max(size/6, 35)),\n",
       "        left: Math.floor(Math.max(size/12, 35)),\n",
       "        top: 0,\n",
       "        right: 0,\n",
       "      },\n",
       "      aesthetics: [{\n",
       "        name: xName,\n",
       "        value: xValue,\n",
       "      }, {\n",
       "        name: yName,\n",
       "        value: yValue,\n",
       "      }],\n",
       "      // This is currently a custom-hack in the built vizgpm we are using\n",
       "      colorBy,\n",
       "      scales: {\n",
       "        x: VizGPM.Charts.Scales.SCALE_METHOD.linear(),\n",
       "        y: VizGPM.Charts.Scales.SCALE_METHOD.linear(),\n",
       "      },\n",
       "    });\n",
       "\n",
       "    scatter.render();\n",
       "  })\n",
       "  .catch(e => {\n",
       "    const stack = $(\"<code>\")\n",
       "      .css({ whiteSpace: \"pre\", display: \"block\", color: \"red\", overflow: \"auto\" })\n",
       "      .text(e.stack);\n",
       "    debugger;\n",
       "    myCell.append(\"Error initializing chart:\", stack);\n",
       "  })\n",
       "}\n",
       ";scatter({\"columns\":[\"apogee_km\",\"perigee_km\",\"class_of_orbit\"],\"index\":[0,1,2,3,4,5,6,7,8,9,10,11,12,13,14,15,16,17,18,19,20,21,22,23,24,25,26,27,28,29,30,31,32,33,34,35,36,37,38,39,40,41,42,43,44,45,46,47,48,49,50,51,52,53,54,55,56,57,58,59,60,61,62,63,64,65,66,67,68,69,70,71,72,73,74,75,76,77,78,79,80,81,82,83,84,85,86,87,88,89,90,91,92,93,94,95,96,97,98,99,100,101,102,103,104,105,106,107,108,109,110,111,112,113,114,115,116,117,118,119,120,121,122,123,124,125,126,127,128,129,130,131,132,133,134,135,136,137,138,139,140,141,142,143,144,145,146,147,148,149,150,151,152,153,154,155,156,157,158,159,160,161,162,163,164,165,166,167,168,169,170,171,172,173,174,175,176,177,178,179,180,181,182,183,184,185,186,187,188,189,190,191,192,193,194,195,196,197,198,199,200,201,202,203,204,205,206,207,208,209,210,211,212,213,214,215,216,217,218,219,220,221,222,223,224,225,226,227,228,229,230,231,232,233,234,235,236,237,238,239,240,241,242,243,244,245,246,247,248,249,250,251,252,253,254,255,256,257,258,259,260,261,262,263,264,265,266,267,268,269,270,271,272,273,274,275,276,277,278,279,280,281,282,283,284,285,286,287,288,289,290,291,292,293,294,295,296,297,298,299,300,301,302,303,304,305,306,307,308,309,310,311,312,313,314,315,316,317,318,319,320,321,322,323,324,325,326,327,328,329,330,331,332,333,334,335,336,337,338,339,340,341,342,343,344,345,346,347,348,349,350,351,352,353,354,355,356,357,358,359,360,361,362,363,364,365,366,367,368,369,370,371,372,373,374,375,376,377,378,379,380,381,382,383,384,385,386,387,388,389,390,391,392,393,394,395,396,397,398,399,400,401,402,403,404,405,406,407,408,409,410,411,412,413,414,415,416,417,418,419,420,421,422,423,424,425,426,427,428,429,430,431,432,433,434,435,436,437,438,439,440,441,442,443,444,445,446,447,448,449,450,451,452,453,454,455,456,457,458,459,460,461,462,463,464,465,466,467,468,469,470,471,472,473,474,475,476,477,478,479,480,481,482,483,484,485,486,487,488,489,490,491,492,493,494,495,496,497,498,499,500,501,502,503,504,505,506,507,508,509,510,511,512,513,514,515,516,517,518,519,520,521,522,523,524,525,526,527,528,529,530,531,532,533,534,535,536,537,538,539,540,541,542,543,544,545,546,547,548,549,550,551,552,553,554,555,556,557,558,559,560,561,562,563,564,565,566,567,568,569,570,571,572,573,574,575,576,577,578,579,580,581,582,583,584,585,586,587,588,589,590,591,592,593,594,595,596,597,598,599,600,601,602,603,604,605,606,607,608,609,610,611,612,613,614,615,616,617,618,619,620,621,622,623,624,625,626,627,628,629,630,631,632,633,634,635,636,637,638,639,640,641,642,643,644,645,646,647,648,649,650,651,652,653,654,655,656,657,658,659,660,661,662,663,664,665,666,667,668,669,670,671,672,673,674,675,676,677,678,679,680,681,682,683,684,685,686,687,688,689,690,691,692,693,694,695,696,697,698,699,700,701,702,703,704,705,706,707,708,709,710,711,712,713,714,715,716,717,718,719,720,721,722,723,724,725,726,727,728,729,730,731,732,733,734,735,736,737,738,739,740,741,742,743,744,745,746,747,748,749,750,751,752,753,754,755,756,757,758,759,760,761,762,763,764,765,766,767,768,769,770,771,772,773,774,775,776,777,778,779,780,781,782,783,784,785,786,787,788,789,790,791,792,793,794,795,796,797,798,799,800,801,802,803,804,805,806,807,808,809,810,811,812,813,814,815,816,817,818,819,820,821,822,823,824,825,826,827,828,829,830,831,832,833,834,835,836,837,838,839,840,841,842,843,844,845,846,847,848,849,850,851,852,853,854,855,856,857,858,859,860,861,862,863,864,865,866,867,868,869,870,871,872,873,874,875,876,877,878,879,880,881,882,883,884,885,886,887,888,889,890,891,892,893,894,895,896,897,898,899,900,901,902,903,904,905,906,907,908,909,910,911,912,913,914,915,916,917,918,919,920,921,922,923,924,925,926,927,928,929,930,931,932,933,934,935,936,937,938,939,940,941,942,943,944,945,946,947,948,949,950,951,952,953,954,955,956,957,958,959,960,961,962,963,964,965,966,967,968,969,970,971,972,973,974,975,976,977,978,979,980,981,982,983,984,985,986,987,988,989,990,991,992,993,994,995,996,997,998,999,1000,1001,1002,1003,1004,1005,1006,1007,1008,1009,1010,1011,1012,1013,1014,1015,1016,1017,1018,1019,1020,1021,1022,1023,1024,1025,1026,1027,1028,1029,1030,1031,1032,1033,1034,1035,1036,1037,1038,1039,1040,1041,1042,1043,1044,1045,1046,1047,1048,1049,1050,1051,1052,1053,1054,1055,1056,1057,1058,1059,1060,1061,1062,1063,1064,1065,1066,1067,1068,1069,1070,1071,1072,1073,1074,1075,1076,1077,1078,1079,1080,1081,1082,1083,1084,1085,1086,1087,1088,1089,1090,1091,1092,1093,1094,1095,1096,1097,1098,1099,1100,1101,1102,1103,1104,1105,1106,1107,1108,1109,1110,1111,1112,1113,1114,1115,1116,1117,1118,1119,1120,1121,1122,1123,1124,1125,1126,1127,1128,1129,1130,1131,1132,1133,1134,1135,1136,1137,1138,1139,1140,1141,1142,1143,1144,1145,1146,1147,1148,1149,1150,1151,1152,1153,1154,1155,1156,1157,1158,1159,1160,1161,1162,1163,1164,1165,1166],\"data\":[[787.0,770.0,\"LEO\"],[35794.0,35777.0,\"GEO\"],[35789.0,35785.0,\"GEO\"],[35793.0,35780.0,\"GEO\"],[35791.0,35780.0,\"GEO\"],[710.0,670.0,\"LEO\"],[36013.0,35560.0,\"GEO\"],[35984.0,35589.0,\"GEO\"],[35937.0,35714.0,\"GEO\"],[35500.0,35500.0,\"GEO\"],[35805.0,35771.0,\"GEO\"],[36103.0,35872.0,\"GEO\"],[35700.0,35700.0,\"GEO\"],[35700.0,35700.0,\"GEO\"],[790.0,480.0,\"LEO\"],[791.0,495.0,\"LEO\"],[792.0,499.0,\"LEO\"],[886.0,443.0,\"LEO\"],[886.0,443.0,\"LEO\"],[35808.0,35764.0,\"GEO\"],[35787.0,35784.0,\"GEO\"],[35802.0,35770.0,\"GEO\"],[35802.0,35769.0,\"GEO\"],[534.0,510.0,\"LEO\"],[583.0,570.0,\"LEO\"],[632.0,615.0,\"LEO\"],[626.0,599.0,\"LEO\"],[582.0,558.0,\"LEO\"],[5732.0,264.0,\"Elliptical\"],[886.0,443.0,\"LEO\"],[35787.0,35786.0,\"GEO\"],[674.0,672.0,\"LEO\"],[35797.0,35776.0,\"GEO\"],[35805.0,35767.0,\"GEO\"],[35791.0,35781.0,\"GEO\"],[35800.0,35772.0,\"GEO\"],[35797.0,35775.0,\"GEO\"],[35797.0,35774.0,\"GEO\"],[35795.0,35777.0,\"GEO\"],[35793.0,35780.0,\"GEO\"],[35800.0,35773.0,\"GEO\"],[35798.0,35774.0,\"GEO\"],[35793.0,35778.0,\"GEO\"],[35795.0,35777.0,\"GEO\"],[35791.0,35781.0,\"GEO\"],[35796.0,35777.0,\"GEO\"],[35795.0,35778.0,\"GEO\"],[35798.0,35773.0,\"GEO\"],[35798.0,35773.0,\"GEO\"],[35798.0,35773.0,\"GEO\"],[35794.0,35778.0,\"GEO\"],[35789.0,35783.0,\"GEO\"],[35796.0,35633.0,\"GEO\"],[36007.0,35595.0,\"GEO\"],[1459.0,1440.0,\"LEO\"],[35793.0,35778.0,\"GEO\"],[35795.0,35777.0,\"GEO\"],[35790.0,35781.0,\"GEO\"],[35794.0,35778.0,\"GEO\"],[35799.0,35773.0,\"GEO\"],[764.0,696.0,\"LEO\"],[850.0,694.0,\"LEO\"],[572.0,563.0,\"LEO\"],[674.0,604.0,\"LEO\"],[694.0,610.0,\"LEO\"],[694.0,627.0,\"LEO\"],[653.0,594.0,\"LEO\"],[669.0,594.0,\"LEO\"],[35795.0,35782.0,\"GEO\"],[35790.0,35779.0,\"GEO\"],[35794.0,35778.0,\"GEO\"],[35874.0,35864.0,\"GEO\"],[35805.0,35766.0,\"GEO\"],[35794.0,35778.0,\"GEO\"],[415.0,410.0,\"LEO\"],[35803.0,35771.0,\"GEO\"],[35792.0,35780.0,\"GEO\"],[35789.0,35784.0,\"GEO\"],[35795.0,35778.0,\"GEO\"],[35793.0,35782.0,\"GEO\"],[35801.0,35773.0,\"GEO\"],[35795.0,35776.0,\"GEO\"],[35799.0,35774.0,\"GEO\"],[35797.0,35778.0,\"GEO\"],[35791.0,35780.0,\"GEO\"],[35794.0,35776.0,\"GEO\"],[35807.0,35766.0,\"GEO\"],[35798.0,35772.0,\"GEO\"],[35852.0,35804.0,\"GEO\"],[35780.0,35715.0,\"GEO\"],[35797.0,35776.0,\"GEO\"],[35801.0,35772.0,\"GEO\"],[35804.0,35768.0,\"GEO\"],[35802.0,35770.0,\"GEO\"],[35793.0,35781.0,\"GEO\"],[35795.0,35777.0,\"GEO\"],[35804.0,35770.0,\"GEO\"],[35806.0,35768.0,\"GEO\"],[35794.0,35778.0,\"GEO\"],[1014.0,984.0,\"LEO\"],[35791.0,35780.0,\"GEO\"],[35883.0,35834.0,\"GEO\"],[35623.0,35605.0,\"GEO\"],[35805.0,35768.0,\"GEO\"],[718.0,709.0,\"LEO\"],[579.0,555.0,\"LEO\"],[581.0,554.0,\"LEO\"],[703.0,681.0,\"LEO\"],[521.0,500.0,\"LEO\"],[507.0,503.0,\"LEO\"],[35795.0,35777.0,\"GEO\"],[35797.0,35776.0,\"GEO\"],[35803.0,35769.0,\"GEO\"],[35800.0,35772.0,\"GEO\"],[886.0,594.0,\"LEO\"],[35794.0,35778.0,\"GEO\"],[35725.0,33066.0,\"GEO\"],[35787.0,35784.0,\"GEO\"],[813.0,403.0,\"LEO\"],[703.0,702.0,\"LEO\"],[505.0,501.0,\"LEO\"],[629.0,609.0,\"LEO\"],[783.0,771.0,\"LEO\"],[631.0,611.0,\"LEO\"],[506.0,500.0,\"LEO\"],[619.0,618.0,\"LEO\"],[635.0,632.0,\"LEO\"],[643.0,624.0,\"LEO\"],[645.0,622.0,\"LEO\"],[1486.0,325.0,\"Elliptical\"],[544.0,538.0,\"LEO\"],[138825.0,9999.0,\"Elliptical\"],[35797.0,35777.0,\"GEO\"],[748.0,729.0,\"LEO\"],[804.0,785.0,\"LEO\"],[804.0,784.0,\"LEO\"],[611.0,564.0,\"LEO\"],[35788.0,35782.0,\"GEO\"],[791.0,484.0,\"LEO\"],[731.0,594.0,\"LEO\"],[747.0,594.0,\"LEO\"],[703.0,702.0,\"LEO\"],[35803.0,35768.0,\"GEO\"],[35864.0,35708.0,\"GEO\"],[35799.0,35776.0,\"GEO\"],[35797.0,35774.0,\"GEO\"],[35809.0,35764.0,\"GEO\"],[35893.0,35670.0,\"GEO\"],[35799.0,35775.0,\"GEO\"],[35817.0,35717.0,\"GEO\"],[37872.0,35693.0,\"GEO\"],[35879.0,35708.0,\"GEO\"],[21545.0,21519.0,\"MEO\"],[21595.0,21460.0,\"MEO\"],[21603.0,21452.0,\"MEO\"],[21591.0,21462.0,\"MEO\"],[21574.0,21477.0,\"MEO\"],[35791.0,35783.0,\"GEO\"],[35799.0,35773.0,\"GEO\"],[35794.0,35780.0,\"GEO\"],[841.0,820.0,\"LEO\"],[836.0,764.0,\"LEO\"],[831.0,769.0,\"LEO\"],[746.0,669.0,\"LEO\"],[849.0,751.0,\"LEO\"],[828.0,772.0,\"LEO\"],[623.0,622.0,\"LEO\"],[623.0,622.0,\"LEO\"],[623.0,622.0,\"LEO\"],[623.0,622.0,\"LEO\"],[724.0,713.0,\"LEO\"],[653.0,630.0,\"LEO\"],[715.0,594.0,\"LEO\"],[830.0,815.0,\"LEO\"],[703.0,678.0,\"LEO\"],[886.0,443.0,\"LEO\"],[1465.0,326.0,\"LEO\"],[829.0,814.0,\"LEO\"],[628.0,609.0,\"LEO\"],[1475.0,326.0,\"LEO\"],[662.0,661.0,\"LEO\"],[616.0,598.0,\"LEO\"],[780.0,594.0,\"LEO\"],[35788.0,35785.0,\"GEO\"],[35786.0,35786.0,\"GEO\"],[35786.0,35785.0,\"GEO\"],[35795.0,35778.0,\"GEO\"],[35792.0,35780.0,\"GEO\"],[35799.0,35773.0,\"GEO\"],[35797.0,35774.0,\"GEO\"],[35796.0,35777.0,\"GEO\"],[35798.0,35774.0,\"GEO\"],[732.0,712.0,\"LEO\"],[855.0,845.0,\"LEO\"],[855.0,842.0,\"LEO\"],[851.0,837.0,\"LEO\"],[852.0,843.0,\"LEO\"],[855.0,842.0,\"LEO\"],[859.0,842.0,\"LEO\"],[582.0,559.0,\"LEO\"],[815.0,594.0,\"LEO\"],[815.0,594.0,\"LEO\"],[35799.0,35775.0,\"GEO\"],[35802.0,35771.0,\"GEO\"],[35814.0,35760.0,\"GEO\"],[35817.0,35757.0,\"GEO\"],[35868.0,35706.0,\"GEO\"],[35799.0,35774.0,\"GEO\"],[35855.0,35718.0,\"GEO\"],[35817.0,35756.0,\"GEO\"],[35784.0,35784.0,\"GEO\"],[35800.0,35780.0,\"GEO\"],[35909.0,35897.0,\"GEO\"],[35810.0,35765.0,\"GEO\"],[35832.0,35741.0,\"GEO\"],[680.0,662.0,\"LEO\"],[603.0,585.0,\"LEO\"],[639.0,596.0,\"LEO\"],[35795.0,35776.0,\"GEO\"],[35792.0,35780.0,\"GEO\"],[35793.0,35778.0,\"GEO\"],[35791.0,35782.0,\"GEO\"],[35789.0,35785.0,\"GEO\"],[35803.0,35789.0,\"GEO\"],[35796.0,35776.0,\"GEO\"],[35794.0,35781.0,\"GEO\"],[35790.0,35783.0,\"GEO\"],[35798.0,35775.0,\"GEO\"],[35789.0,35782.0,\"GEO\"],[35789.0,35783.0,\"GEO\"],[35797.0,35775.0,\"GEO\"],[35799.0,35773.0,\"GEO\"],[694.0,639.0,\"LEO\"],[35750.0,35323.0,\"GEO\"],[692.0,675.0,\"LEO\"],[692.0,677.0,\"LEO\"],[692.0,675.0,\"LEO\"],[692.0,677.0,\"LEO\"],[690.0,678.0,\"LEO\"],[703.0,702.0,\"LEO\"],[703.0,702.0,\"LEO\"],[704.0,701.0,\"LEO\"],[547.0,530.0,\"LEO\"],[514.0,508.0,\"LEO\"],[1313.0,306.0,\"Elliptical\"],[671.0,658.0,\"LEO\"],[35810.0,35761.0,\"GEO\"],[35796.0,35776.0,\"GEO\"],[35822.0,35781.0,\"GEO\"],[35805.0,35768.0,\"GEO\"],[35795.0,35779.0,\"GEO\"],[35810.0,35762.0,\"GEO\"],[35817.0,35754.0,\"GEO\"],[35799.0,35772.0,\"GEO\"],[35802.0,35770.0,\"GEO\"],[35767.0,35725.0,\"GEO\"],[35790.0,35780.0,\"GEO\"],[35794.0,35788.0,\"GEO\"],[35790.0,35781.0,\"GEO\"],[35806.0,35766.0,\"GEO\"],[35787.0,35786.0,\"GEO\"],[35793.0,35778.0,\"GEO\"],[35806.0,35766.0,\"GEO\"],[35794.0,35784.0,\"GEO\"],[35815.0,35757.0,\"GEO\"],[35797.0,35777.0,\"GEO\"],[35805.0,35769.0,\"GEO\"],[35799.0,35774.0,\"GEO\"],[35800.0,35780.0,\"GEO\"],[35802.0,35769.0,\"GEO\"],[35806.0,35766.0,\"GEO\"],[35799.0,35775.0,\"GEO\"],[35815.0,35756.0,\"GEO\"],[35812.0,35759.0,\"GEO\"],[35787.0,35786.0,\"GEO\"],[35856.0,35714.0,\"GEO\"],[821.0,806.0,\"LEO\"],[35790.0,35781.0,\"GEO\"],[35790.0,35783.0,\"GEO\"],[35798.0,35774.0,\"GEO\"],[35788.0,35785.0,\"GEO\"],[35795.0,35777.0,\"GEO\"],[35791.0,35782.0,\"GEO\"],[35995.0,35987.0,\"GEO\"],[35940.0,35420.0,\"GEO\"],[540.0,538.0,\"LEO\"],[654.0,627.0,\"LEO\"],[500.0,488.0,\"LEO\"],[500.0,488.0,\"LEO\"],[35791.0,35777.0,\"GEO\"],[35803.0,35767.0,\"GEO\"],[35816.0,35760.0,\"GEO\"],[835.0,820.0,\"LEO\"],[828.0,827.0,\"LEO\"],[828.0,827.0,\"LEO\"],[556.0,537.0,\"LEO\"],[1107.0,1101.0,\"LEO\"],[1107.0,1068.0,\"LEO\"],[1081.0,1066.0,\"LEO\"],[886.0,443.0,\"LEO\"],[886.0,443.0,\"LEO\"],[506.0,500.0,\"LEO\"],[35829.0,35745.0,\"GEO\"],[893.0,890.0,\"LEO\"],[823.0,790.0,\"LEO\"],[683.0,594.0,\"LEO\"],[35795.0,35785.0,\"GEO\"],[35796.0,35775.0,\"GEO\"],[35790.0,35781.0,\"GEO\"],[35795.0,35776.0,\"GEO\"],[35795.0,35776.0,\"GEO\"],[35798.0,35775.0,\"GEO\"],[35799.0,35774.0,\"GEO\"],[35798.0,35774.0,\"GEO\"],[35796.0,35776.0,\"GEO\"],[35801.0,35771.0,\"GEO\"],[35795.0,35778.0,\"GEO\"],[35794.0,35776.0,\"GEO\"],[35798.0,35775.0,\"GEO\"],[35788.0,35784.0,\"GEO\"],[23307.0,23242.0,\"MEO\"],[23306.0,23240.0,\"MEO\"],[23233.0,23214.0,\"MEO\"],[23227.0,23217.0,\"MEO\"],[654.0,630.0,\"LEO\"],[35790.0,35782.0,\"GEO\"],[35801.0,35774.0,\"GEO\"],[819.0,593.0,\"LEO\"],[569.0,522.0,\"LEO\"],[586.0,508.0,\"LEO\"],[686.0,671.0,\"LEO\"],[104552.0,3905.0,\"Elliptical\"],[704.0,701.0,\"LEO\"],[1412.0,1407.0,\"LEO\"],[1415.0,1413.0,\"LEO\"],[1422.0,1406.0,\"LEO\"],[1415.0,1412.0,\"LEO\"],[1415.0,1412.0,\"LEO\"],[1416.0,1412.0,\"LEO\"],[1413.0,900.0,\"LEO\"],[1478.0,1477.0,\"LEO\"],[1417.0,1411.0,\"LEO\"],[1416.0,1411.0,\"LEO\"],[1416.0,1415.0,\"LEO\"],[1415.0,1412.0,\"LEO\"],[1414.0,1413.0,\"LEO\"],[1415.0,1413.0,\"LEO\"],[1414.0,1413.0,\"LEO\"],[1416.0,1411.0,\"LEO\"],[1415.0,1412.0,\"LEO\"],[1414.0,1413.0,\"LEO\"],[1414.0,1411.0,\"LEO\"],[1416.0,1411.0,\"LEO\"],[1415.0,1412.0,\"LEO\"],[1415.0,1412.0,\"LEO\"],[1416.0,1412.0,\"LEO\"],[1414.0,1413.0,\"LEO\"],[1415.0,1413.0,\"LEO\"],[1415.0,1413.0,\"LEO\"],[1415.0,1412.0,\"LEO\"],[1414.0,1413.0,\"LEO\"],[1415.0,1412.0,\"LEO\"],[1414.0,1413.0,\"LEO\"],[1414.0,1413.0,\"LEO\"],[1415.0,1412.0,\"LEO\"],[1414.0,1413.0,\"LEO\"],[1414.0,1413.0,\"LEO\"],[1414.0,1413.0,\"LEO\"],[1415.0,1413.0,\"LEO\"],[1414.0,1413.0,\"LEO\"],[1415.0,1412.0,\"LEO\"],[1739.0,1459.0,\"LEO\"],[1414.0,1413.0,\"LEO\"],[1415.0,1413.0,\"LEO\"],[1414.0,1413.0,\"LEO\"],[1400.0,1360.0,\"LEO\"],[927.0,915.0,\"LEO\"],[1418.0,1409.0,\"LEO\"],[928.0,918.0,\"LEO\"],[1391.0,1370.0,\"LEO\"],[19146.0,19116.0,\"MEO\"],[19141.0,19134.0,\"MEO\"],[19125.0,19118.0,\"MEO\"],[19130.0,19130.0,\"MEO\"],[19130.0,19130.0,\"MEO\"],[19130.0,19130.0,\"MEO\"],[19171.0,19094.0,\"MEO\"],[19133.0,19124.0,\"MEO\"],[19378.0,19142.0,\"MEO\"],[19126.0,18981.0,\"MEO\"],[19365.0,19147.0,\"MEO\"],[19141.0,19092.0,\"MEO\"],[19145.0,19134.0,\"MEO\"],[19141.0,19136.0,\"MEO\"],[19142.0,19112.0,\"MEO\"],[19135.0,18922.0,\"MEO\"],[19419.0,19132.0,\"MEO\"],[19146.0,19119.0,\"MEO\"],[19133.0,19131.0,\"MEO\"],[19130.0,18864.0,\"MEO\"],[19129.0,19098.0,\"MEO\"],[19135.0,19128.0,\"MEO\"],[19123.0,18909.0,\"MEO\"],[19380.0,19116.0,\"MEO\"],[19175.0,19079.0,\"MEO\"],[19158.0,19126.0,\"MEO\"],[19204.0,19142.0,\"MEO\"],[19199.0,19150.0,\"MEO\"],[19212.0,19139.0,\"MEO\"],[19162.0,19130.0,\"MEO\"],[19173.0,19087.0,\"MEO\"],[35801.0,35768.0,\"GEO\"],[35170.0,35170.0,\"GEO\"],[35788.0,35786.0,\"GEO\"],[35800.0,35772.0,\"GEO\"],[690.0,669.0,\"LEO\"],[1415.0,1398.0,\"LEO\"],[1415.0,1405.0,\"LEO\"],[1417.0,1408.0,\"LEO\"],[1510.0,1497.0,\"LEO\"],[1510.0,1478.0,\"LEO\"],[1507.0,1482.0,\"LEO\"],[1511.0,1480.0,\"LEO\"],[1508.0,1493.0,\"LEO\"],[1509.0,1494.0,\"LEO\"],[450.0,435.0,\"LEO\"],[451.0,434.0,\"LEO\"],[670.0,668.0,\"LEO\"],[35795.0,35777.0,\"GEO\"],[35811.0,35761.0,\"GEO\"],[35810.0,35763.0,\"GEO\"],[35796.0,35776.0,\"GEO\"],[35814.0,35757.0,\"GEO\"],[35796.0,35782.0,\"GEO\"],[803.0,782.0,\"LEO\"],[967.0,965.0,\"LEO\"],[636.0,601.0,\"LEO\"],[683.0,681.0,\"LEO\"],[682.0,679.0,\"LEO\"],[35803.0,35769.0,\"GEO\"],[551.0,535.0,\"LEO\"],[696.0,670.0,\"LEO\"],[1155.0,952.0,\"Elliptical\"],[35808.0,35764.0,\"GEO\"],[35809.0,35764.0,\"GEO\"],[35786.0,35782.0,\"GEO\"],[665.0,628.0,\"LEO\"],[673.0,621.0,\"LEO\"],[503.0,489.0,\"LEO\"],[504.0,499.0,\"LEO\"],[35796.0,35777.0,\"GEO\"],[669.0,650.0,\"LEO\"],[559.0,555.0,\"LEO\"],[640.0,590.0,\"LEO\"],[35803.0,35770.0,\"GEO\"],[35799.0,35775.0,\"GEO\"],[639.0,590.0,\"LEO\"],[491.0,485.0,\"LEO\"],[492.0,484.0,\"LEO\"],[492.0,484.0,\"LEO\"],[591.0,588.0,\"LEO\"],[514.0,512.0,\"LEO\"],[514.0,509.0,\"LEO\"],[null,null,\"LEO\"],[680.0,678.0,\"LEO\"],[37564.0,1111.0,\"Elliptical\"],[37580.0,1112.0,\"Elliptical\"],[637.0,620.0,\"LEO\"],[35808.0,35764.0,\"GEO\"],[35809.0,35763.0,\"GEO\"],[35642.0,35609.0,\"GEO\"],[35803.0,35769.0,\"GEO\"],[35799.0,35772.0,\"GEO\"],[35800.0,35773.0,\"GEO\"],[35798.0,35775.0,\"GEO\"],[35790.0,35784.0,\"GEO\"],[35793.0,35780.0,\"GEO\"],[35809.0,35764.0,\"GEO\"],[35791.0,35782.0,\"GEO\"],[35807.0,35765.0,\"GEO\"],[35796.0,35777.0,\"GEO\"],[35811.0,35760.0,\"GEO\"],[37791.0,37782.0,\"GEO\"],[152812.0,2284.0,\"Elliptical\"],[35796.0,35776.0,\"GEO\"],[35789.0,35783.0,\"GEO\"],[35795.0,35778.0,\"GEO\"],[35800.0,35771.0,\"GEO\"],[35798.0,35776.0,\"GEO\"],[35791.0,35783.0,\"GEO\"],[35804.0,35770.0,\"GEO\"],[35797.0,35775.0,\"GEO\"],[35801.0,35768.0,\"GEO\"],[35788.0,35785.0,\"GEO\"],[35790.0,35780.0,\"GEO\"],[35811.0,35774.0,\"GEO\"],[35792.0,35781.0,\"GEO\"],[35797.0,35781.0,\"GEO\"],[35793.0,35778.0,\"GEO\"],[35794.0,35779.0,\"GEO\"],[35798.0,35774.0,\"GEO\"],[35795.0,35778.0,\"GEO\"],[35797.0,35775.0,\"GEO\"],[35797.0,35775.0,\"GEO\"],[35796.0,35776.0,\"GEO\"],[35795.0,35776.0,\"GEO\"],[35798.0,35774.0,\"GEO\"],[35797.0,35775.0,\"GEO\"],[35792.0,35782.0,\"GEO\"],[35798.0,35775.0,\"GEO\"],[35797.0,35775.0,\"GEO\"],[358802.0,35773.0,\"GEO\"],[35789.0,35782.0,\"GEO\"],[35805.0,35768.0,\"GEO\"],[35796.0,35775.0,\"GEO\"],[35803.0,35770.0,\"GEO\"],[35804.0,35769.0,\"GEO\"],[35892.0,35800.0,\"GEO\"],[422.0,401.0,\"LEO\"],[320000.0,7000.0,\"Elliptical\"],[890.0,469.0,\"LEO\"],[779.0,776.0,\"LEO\"],[779.0,776.0,\"LEO\"],[779.0,776.0,\"LEO\"],[780.0,776.0,\"LEO\"],[711.0,708.0,\"LEO\"],[779.0,776.0,\"LEO\"],[779.0,776.0,\"LEO\"],[779.0,776.0,\"LEO\"],[779.0,776.0,\"LEO\"],[780.0,775.0,\"LEO\"],[779.0,776.0,\"LEO\"],[779.0,776.0,\"LEO\"],[779.0,776.0,\"LEO\"],[779.0,776.0,\"LEO\"],[780.0,776.0,\"LEO\"],[779.0,776.0,\"LEO\"],[779.0,776.0,\"LEO\"],[779.0,776.0,\"LEO\"],[779.0,776.0,\"LEO\"],[779.0,776.0,\"LEO\"],[779.0,776.0,\"LEO\"],[779.0,776.0,\"LEO\"],[779.0,776.0,\"LEO\"],[779.0,776.0,\"LEO\"],[779.0,776.0,\"LEO\"],[779.0,776.0,\"LEO\"],[779.0,776.0,\"LEO\"],[780.0,776.0,\"LEO\"],[779.0,776.0,\"LEO\"],[779.0,776.0,\"LEO\"],[780.0,776.0,\"LEO\"],[779.0,776.0,\"LEO\"],[779.0,776.0,\"LEO\"],[779.0,776.0,\"LEO\"],[779.0,776.0,\"LEO\"],[779.0,776.0,\"LEO\"],[779.0,776.0,\"LEO\"],[779.0,776.0,\"LEO\"],[779.0,776.0,\"LEO\"],[780.0,776.0,\"LEO\"],[780.0,776.0,\"LEO\"],[779.0,776.0,\"LEO\"],[779.0,776.0,\"LEO\"],[779.0,776.0,\"LEO\"],[779.0,776.0,\"LEO\"],[779.0,776.0,\"LEO\"],[779.0,776.0,\"LEO\"],[779.0,776.0,\"LEO\"],[779.0,776.0,\"LEO\"],[779.0,776.0,\"LEO\"],[779.0,776.0,\"LEO\"],[779.0,776.0,\"LEO\"],[779.0,776.0,\"LEO\"],[751.0,747.0,\"LEO\"],[779.0,776.0,\"LEO\"],[780.0,776.0,\"LEO\"],[780.0,776.0,\"LEO\"],[779.0,776.0,\"LEO\"],[779.0,776.0,\"LEO\"],[779.0,776.0,\"LEO\"],[779.0,776.0,\"LEO\"],[779.0,776.0,\"LEO\"],[779.0,776.0,\"LEO\"],[780.0,776.0,\"LEO\"],[753.0,744.0,\"LEO\"],[778.0,777.0,\"LEO\"],[782.0,773.0,\"LEO\"],[779.0,776.0,\"LEO\"],[754.0,745.0,\"LEO\"],[778.0,777.0,\"LEO\"],[750.0,748.0,\"LEO\"],[664.0,620.0,\"LEO\"],[35872.0,35712.0,\"GEO\"],[823.0,817.0,\"LEO\"],[721.0,710.0,\"LEO\"],[1344.0,1332.0,\"LEO\"],[35801.0,35772.0,\"GEO\"],[35789.0,35784.0,\"GEO\"],[35791.0,35780.0,\"GEO\"],[35794.0,35778.0,\"GEO\"],[35794.0,35788.0,\"GEO\"],[37768.0,33782.0,\"GEO\"],[35797.0,35776.0,\"GEO\"],[35794.0,35780.0,\"GEO\"],[866.0,839.0,\"LEO\"],[35789.0,35783.0,\"GEO\"],[35788.0,35786.0,\"GEO\"],[800.0,800.0,\"LEO\"],[1041.0,202.0,\"LEO\"],[1050.0,264.0,\"LEO\"],[1000.0,200.0,\"LEO\"],[997.0,257.0,\"LEO\"],[35792.0,35778.0,\"GEO\"],[35796.0,35776.0,\"GEO\"],[667.0,651.0,\"LEO\"],[698.0,676.0,\"LEO\"],[696.0,679.0,\"LEO\"],[552.0,535.0,\"LEO\"],[501.0,497.0,\"LEO\"],[35792.0,35780.0,\"GEO\"],[35794.0,35780.0,\"GEO\"],[317.0,291.0,\"LEO\"],[499.0,498.0,\"LEO\"],[675.0,671.0,\"LEO\"],[676.0,574.0,\"LEO\"],[716.0,713.0,\"LEO\"],[703.0,702.0,\"LEO\"],[705.0,700.0,\"LEO\"],[637.0,617.0,\"LEO\"],[668.0,610.0,\"LEO\"],[717.0,603.0,\"LEO\"],[35812.0,35760.0,\"GEO\"],[911.0,900.0,\"LEO\"],[35793.0,35778.0,\"GEO\"],[35801.0,35772.0,\"GEO\"],[1014.0,984.0,\"LEO\"],[1297.0,305.0,\"LEO\"],[816.0,457.0,\"LEO\"],[886.0,443.0,\"LEO\"],[35791.0,35782.0,\"GEO\"],[35794.0,35778.0,\"GEO\"],[35788.0,35728.0,\"GEO\"],[868.0,853.0,\"LEO\"],[35976.0,35598.0,\"GEO\"],[37900.0,33674.0,\"GEO\"],[39388.0,961.0,\"Elliptical\"],[39396.0,964.0,\"Elliptical\"],[39362.0,1006.0,\"Elliptical\"],[820.0,818.0,\"LEO\"],[35791.0,35784.0,\"GEO\"],[35797.0,35770.0,\"GEO\"],[35793.0,35781.0,\"GEO\"],[35795.0,35775.0,\"GEO\"],[821.0,820.0,\"LEO\"],[822.0,819.0,\"LEO\"],[35791.0,35784.0,\"GEO\"],[35819.0,35754.0,\"GEO\"],[35809.0,35765.0,\"GEO\"],[35768.0,35764.0,\"GEO\"],[35820.0,35753.0,\"GEO\"],[35806.0,35768.0,\"GEO\"],[1510.0,1481.0,\"LEO\"],[821.0,805.0,\"LEO\"],[832.0,817.0,\"LEO\"],[690.0,669.0,\"LEO\"],[35809.0,35763.0,\"GEO\"],[35796.0,35776.0,\"GEO\"],[525.0,500.0,\"LEO\"],[35796.0,35778.0,\"GEO\"],[35797.0,35776.0,\"GEO\"],[35800.0,35800.0,\"GEO\"],[35900.0,35800.0,\"GEO\"],[659.0,654.0,\"LEO\"],[672.0,583.0,\"LEO\"],[35795.0,35775.0,\"GEO\"],[20582.0,19781.0,\"MEO\"],[20403.0,19959.0,\"MEO\"],[20244.0,20120.0,\"MEO\"],[20260.0,20104.0,\"MEO\"],[20315.0,19986.0,\"MEO\"],[20284.0,20080.0,\"MEO\"],[20227.0,20134.0,\"MEO\"],[20449.0,19912.0,\"MEO\"],[20257.0,20109.0,\"MEO\"],[20224.0,20188.0,\"MEO\"],[20464.0,20451.0,\"MEO\"],[20191.0,20174.0,\"MEO\"],[20247.0,20184.0,\"MEO\"],[20327.0,19963.0,\"MEO\"],[20276.0,20089.0,\"MEO\"],[20292.0,20072.0,\"MEO\"],[20426.0,19938.0,\"MEO\"],[20247.0,20123.0,\"MEO\"],[20268.0,20096.0,\"MEO\"],[20234.0,20133.0,\"MEO\"],[20427.0,20184.0,\"MEO\"],[20498.0,20177.0,\"MEO\"],[20266.0,20104.0,\"MEO\"],[20344.0,20155.0,\"MEO\"],[20433.0,20063.0,\"MEO\"],[20221.0,20142.0,\"MEO\"],[20342.0,20020.0,\"MEO\"],[20366.0,20206.0,\"MEO\"],[20213.0,20149.0,\"MEO\"],[20311.0,20150.0,\"MEO\"],[20152.0,20135.0,\"MEO\"],[20209.0,20160.0,\"MEO\"],[786.0,772.0,\"LEO\"],[405.0,398.0,\"LEO\"],[35795.0,35793.0,\"GEO\"],[705.0,691.0,\"LEO\"],[696.0,661.0,\"LEO\"],[35808.0,35764.0,\"GEO\"],[35813.0,35795.0,\"GEO\"],[35793.0,35779.0,\"GEO\"],[35794.0,35779.0,\"GEO\"],[35700.0,35700.0,\"GEO\"],[35809.0,35764.0,\"GEO\"],[816.0,800.0,\"LEO\"],[857.0,842.0,\"LEO\"],[864.0,843.0,\"LEO\"],[864.0,845.0,\"LEO\"],[827.0,827.0,\"LEO\"],[502.0,499.0,\"LEO\"],[35795.0,35778.0,\"GEO\"],[35798.0,35776.0,\"GEO\"],[35793.0,35779.0,\"GEO\"],[35796.0,35776.0,\"GEO\"],[35797.0,35776.0,\"GEO\"],[35798.0,35775.0,\"GEO\"],[35798.0,35773.0,\"GEO\"],[35794.0,35779.0,\"GEO\"],[35792.0,35784.0,\"GEO\"],[35799.0,35772.0,\"GEO\"],[632.0,613.0,\"LEO\"],[654.0,624.0,\"LEO\"],[8069.0,8063.0,\"MEO\"],[8069.0,8062.0,\"MEO\"],[8068.0,8064.0,\"MEO\"],[8069.0,8063.0,\"MEO\"],[724.0,722.0,\"LEO\"],[573.0,569.0,\"LEO\"],[764.0,367.0,\"LEO\"],[576.0,340.0,\"LEO\"],[589.0,343.0,\"LEO\"],[797.0,594.0,\"LEO\"],[35799.0,35773.0,\"GEO\"],[35796.0,35778.0,\"GEO\"],[35797.0,35774.0,\"GEO\"],[35799.0,35774.0,\"GEO\"],[35795.0,35775.0,\"GEO\"],[776.0,770.0,\"LEO\"],[777.0,769.0,\"LEO\"],[776.0,770.0,\"LEO\"],[795.0,788.0,\"LEO\"],[794.0,789.0,\"LEO\"],[795.0,788.0,\"LEO\"],[794.0,789.0,\"LEO\"],[796.0,787.0,\"LEO\"],[795.0,788.0,\"LEO\"],[792.0,791.0,\"LEO\"],[793.0,789.0,\"LEO\"],[794.0,788.0,\"LEO\"],[794.0,788.0,\"LEO\"],[792.0,790.0,\"LEO\"],[796.0,788.0,\"LEO\"],[795.0,788.0,\"LEO\"],[796.0,786.0,\"LEO\"],[796.0,787.0,\"LEO\"],[795.0,788.0,\"LEO\"],[795.0,788.0,\"LEO\"],[838.0,768.0,\"LEO\"],[774.0,772.0,\"LEO\"],[774.0,772.0,\"LEO\"],[774.0,771.0,\"LEO\"],[778.0,768.0,\"LEO\"],[777.0,769.0,\"LEO\"],[504.0,499.0,\"LEO\"],[504.0,499.0,\"LEO\"],[410.0,396.0,\"LEO\"],[504.0,499.0,\"LEO\"],[839.0,635.0,\"LEO\"],[35800.0,35786.0,\"GEO\"],[35789.0,35784.0,\"GEO\"],[35792.0,35780.0,\"GEO\"],[35787.0,35786.0,\"GEO\"],[694.0,692.0,\"LEO\"],[1016.0,949.0,\"LEO\"],[1016.0,969.0,\"LEO\"],[1013.0,967.0,\"LEO\"],[1008.0,960.0,\"LEO\"],[1011.0,961.0,\"LEO\"],[1008.0,949.0,\"LEO\"],[968.0,907.0,\"LEO\"],[1011.0,954.0,\"LEO\"],[945.0,916.0,\"LEO\"],[1022.0,968.0,\"LEO\"],[796.0,789.0,\"LEO\"],[733.0,714.0,\"LEO\"],[507.0,499.0,\"LEO\"],[729.0,725.0,\"LEO\"],[414.0,410.0,\"LEO\"],[699.0,697.0,\"LEO\"],[691.0,678.0,\"LEO\"],[627.0,600.0,\"LEO\"],[676.0,553.0,\"LEO\"],[728.0,708.0,\"LEO\"],[820.0,813.0,\"LEO\"],[506.0,500.0,\"LEO\"],[502.0,498.0,\"LEO\"],[502.0,498.0,\"LEO\"],[502.0,498.0,\"LEO\"],[502.0,498.0,\"LEO\"],[502.0,498.0,\"LEO\"],[502.0,498.0,\"LEO\"],[502.0,498.0,\"LEO\"],[640.0,589.0,\"LEO\"],[35798.0,35774.0,\"GEO\"],[450.0,448.0,\"LEO\"],[38950.0,32618.0,\"GEO\"],[793.0,791.0,\"LEO\"],[2165.0,1885.0,\"MEO\"],[35949.0,35612.0,\"GEO\"],[35788.0,35784.0,\"GEO\"],[35797.0,35777.0,\"GEO\"],[1202.0,1199.0,\"LEO\"],[646.0,613.0,\"LEO\"],[638.0,621.0,\"LEO\"],[637.0,621.0,\"LEO\"],[638.0,621.0,\"LEO\"],[642.0,617.0,\"LEO\"],[697.0,667.0,\"LEO\"],[35787.0,35786.0,\"GEO\"],[688.0,663.0,\"LEO\"],[638.0,595.0,\"LEO\"],[823.0,817.0,\"LEO\"],[571.0,564.0,\"LEO\"],[472.0,459.0,\"LEO\"],[541.0,538.0,\"LEO\"],[427.0,415.0,\"LEO\"],[1448.0,1436.0,\"LEO\"],[1511.0,1480.0,\"LEO\"],[1509.0,1477.0,\"LEO\"],[1510.0,1478.0,\"LEO\"],[1509.0,1498.0,\"LEO\"],[1507.0,1482.0,\"LEO\"],[1506.0,1495.0,\"LEO\"],[1496.0,1493.0,\"LEO\"],[1505.0,1484.0,\"LEO\"],[1512.0,1481.0,\"LEO\"],[1516.0,1473.0,\"LEO\"],[1516.0,1473.0,\"LEO\"],[1514.0,1475.0,\"LEO\"],[1509.0,1478.0,\"LEO\"],[1507.0,1477.0,\"LEO\"],[1511.0,1482.0,\"LEO\"],[120715.0,17240.0,\"Elliptical\"],[704.0,702.0,\"LEO\"],[655.0,653.0,\"LEO\"],[120768.0,16809.0,\"Elliptical\"],[120923.0,17007.0,\"Elliptical\"],[787.0,772.0,\"LEO\"],[785.0,782.0,\"LEO\"],[505.0,468.0,\"LEO\"],[503.0,470.0,\"LEO\"],[496.0,473.0,\"LEO\"],[486.0,448.0,\"LEO\"],[502.0,474.0,\"LEO\"],[35794.0,35777.0,\"GEO\"],[35792.0,35779.0,\"GEO\"],[35796.0,35776.0,\"GEO\"],[35795.0,35779.0,\"GEO\"],[747.0,697.0,\"LEO\"],[780.0,696.0,\"LEO\"],[714.0,652.0,\"LEO\"],[746.0,649.0,\"LEO\"],[725.0,651.0,\"LEO\"],[758.0,648.0,\"LEO\"],[736.0,650.0,\"LEO\"],[702.0,603.0,\"LEO\"],[734.0,696.0,\"LEO\"],[677.0,656.0,\"LEO\"],[35795.0,35778.0,\"GEO\"],[35790.0,35770.0,\"GEO\"],[541.0,538.0,\"LEO\"],[1100.0,1100.0,\"LEO\"],[1100.0,1100.0,\"LEO\"],[1200.0,1013.0,\"LEO\"],[1202.0,1011.0,\"LEO\"],[1203.0,1016.0,\"LEO\"],[1203.0,1017.0,\"LEO\"],[1200.0,1015.0,\"LEO\"],[1201.0,1016.0,\"LEO\"],[1201.0,1014.0,\"LEO\"],[1205.0,1019.0,\"LEO\"],[1203.0,1012.0,\"LEO\"],[1203.0,1012.0,\"LEO\"],[776.0,716.0,\"LEO\"],[760.0,735.0,\"LEO\"],[649.0,638.0,\"LEO\"],[35791.0,35779.0,\"GEO\"],[35815.0,35758.0,\"GEO\"],[35812.0,35761.0,\"GEO\"],[39850.0,500.0,\"Elliptical\"],[39966.0,400.0,\"Elliptical\"],[35803.0,35770.0,\"GEO\"],[35805.0,35771.0,\"GEO\"],[673.0,661.0,\"LEO\"],[627.0,607.0,\"LEO\"],[35793.0,35781.0,\"GEO\"],[35798.0,35778.0,\"GEO\"],[35852.0,35850.0,\"GEO\"],[35792.0,35781.0,\"GEO\"],[35791.0,35783.0,\"GEO\"],[35816.0,35757.0,\"GEO\"],[35790.0,35783.0,\"GEO\"],[35795.0,35777.0,\"GEO\"],[703.0,686.0,\"LEO\"],[704.0,686.0,\"LEO\"],[703.0,688.0,\"LEO\"],[704.0,689.0,\"LEO\"],[601.0,583.0,\"LEO\"],[673.0,661.0,\"LEO\"],[616.0,599.0,\"LEO\"],[606.0,579.0,\"LEO\"],[598.0,587.0,\"LEO\"],[594.0,591.0,\"LEO\"],[595.0,594.0,\"LEO\"],[607.0,581.0,\"LEO\"],[603.0,578.0,\"LEO\"],[603.0,584.0,\"LEO\"],[602.0,586.0,\"LEO\"],[591.0,534.0,\"LEO\"],[650.0,623.0,\"LEO\"],[651.0,624.0,\"LEO\"],[601.0,586.0,\"LEO\"],[803.0,785.0,\"LEO\"],[802.0,784.0,\"LEO\"],[755.0,739.0,\"LEO\"],[672.0,668.0,\"LEO\"],[701.0,684.0,\"LEO\"],[35802.0,35769.0,\"GEO\"],[35802.0,35788.0,\"GEO\"],[703.0,681.0,\"LEO\"],[35796.0,35794.0,\"GEO\"],[47100.0,23783.0,\"Elliptical\"],[47048.0,12849.0,\"Elliptical\"],[47086.0,6179.0,\"Elliptical\"],[35795.0,35776.0,\"GEO\"],[35798.0,35774.0,\"GEO\"],[35791.0,35785.0,\"GEO\"],[35795.0,35779.0,\"GEO\"],[35797.0,35775.0,\"GEO\"],[35797.0,35774.0,\"GEO\"],[35801.0,35773.0,\"GEO\"],[35802.0,35771.0,\"GEO\"],[35803.0,35700.0,\"GEO\"],[35803.0,35770.0,\"GEO\"],[35793.0,35786.0,\"GEO\"],[599.0,567.0,\"LEO\"],[35791.0,35782.0,\"GEO\"],[11600.0,1200.0,\"Elliptical\"],[791.0,495.0,\"LEO\"],[789.0,483.0,\"LEO\"],[886.0,443.0,\"LEO\"],[886.0,443.0,\"LEO\"],[760.0,759.0,\"LEO\"],[886.0,443.0,\"LEO\"],[665.0,657.0,\"LEO\"],[633.0,600.0,\"LEO\"],[35787.0,35785.0,\"GEO\"],[35787.0,35785.0,\"GEO\"],[35787.0,35785.0,\"GEO\"],[35826.0,35745.0,\"GEO\"],[330000.0,1000.0,\"Elliptical\"],[35717.0,608.0,\"Elliptical\"],[35697.0,627.0,\"Elliptical\"],[826.0,824.0,\"LEO\"],[699.0,696.0,\"LEO\"],[868.0,850.0,\"LEO\"],[624.0,622.0,\"LEO\"],[35791.0,35783.0,\"GEO\"],[35778.0,35703.0,\"GEO\"],[35796.0,35776.0,\"GEO\"],[35848.0,35791.0,\"GEO\"],[506.0,500.0,\"LEO\"],[650.0,650.0,\"LEO\"],[507.0,497.0,\"LEO\"],[783.0,772.0,\"LEO\"],[1431.0,1417.0,\"LEO\"],[1425.0,1417.0,\"LEO\"],[1419.0,1415.0,\"LEO\"],[1506.0,1468.0,\"LEO\"],[1506.0,1466.0,\"LEO\"],[1503.0,1467.0,\"LEO\"],[1502.0,1465.0,\"LEO\"],[1495.0,1471.0,\"LEO\"],[1495.0,1474.0,\"LEO\"],[1482.0,298.0,\"LEO\"],[626.0,593.0,\"LEO\"],[879.0,867.0,\"LEO\"],[1352.0,1347.0,\"LEO\"],[1351.0,1339.0,\"LEO\"],[634.0,614.0,\"LEO\"],[35794.0,35778.0,\"GEO\"],[35793.0,35779.0,\"GEO\"],[35792.0,35781.0,\"GEO\"],[558.0,548.0,\"LEO\"],[476.0,473.0,\"LEO\"],[476.0,473.0,\"LEO\"],[496.0,486.0,\"LEO\"],[590.0,571.0,\"LEO\"],[720.0,710.0,\"LEO\"],[35792.0,35778.0,\"GEO\"],[35801.0,35772.0,\"GEO\"],[11836.0,658.0,\"Elliptical\"],[886.0,443.0,\"LEO\"],[510.0,507.0,\"LEO\"],[120961.0,17313.0,\"Elliptical\"],[35802.0,35768.0,\"GEO\"],[35844.0,35732.0,\"GEO\"],[35785.0,35780.0,\"GEO\"],[35878.0,35693.0,\"GEO\"],[35796.0,35773.0,\"GEO\"],[35787.0,35773.0,\"GEO\"],[35803.0,35767.0,\"GEO\"],[35808.0,35768.0,\"GEO\"],[35809.0,35768.0,\"GEO\"],[580.0,405.0,\"LEO\"],[35796.0,35778.0,\"GEO\"],[35793.0,35781.0,\"GEO\"],[35801.0,35774.0,\"GEO\"],[35799.0,35773.0,\"GEO\"],[35791.0,35783.0,\"GEO\"],[35795.0,35778.0,\"GEO\"],[509.0,507.0,\"LEO\"],[35791.0,35783.0,\"GEO\"],[598.0,529.0,\"LEO\"],[505.0,501.0,\"LEO\"],[35798.0,35775.0,\"GEO\"],[35796.0,35777.0,\"GEO\"],[35796.0,35786.0,\"GEO\"],[87304.0,461.0,\"Elliptical\"],[87260.0,467.0,\"Elliptical\"],[87526.0,474.0,\"Elliptical\"],[826.0,824.0,\"LEO\"],[35795.0,35777.0,\"GEO\"],[35798.0,35773.0,\"GEO\"],[35794.0,35779.0,\"GEO\"],[35807.0,35764.0,\"GEO\"],[35807.0,35766.0,\"GEO\"],[475.0,464.0,\"LEO\"],[361.0,360.0,\"LEO\"],[504.0,488.0,\"LEO\"],[505.0,485.0,\"LEO\"],[35813.0,35769.0,\"GEO\"],[37794.0,37778.0,\"GEO\"],[35802.0,35768.0,\"GEO\"],[459.0,456.0,\"LEO\"],[613.0,612.0,\"LEO\"],[631.0,611.0,\"LEO\"],[35799.0,35773.0,\"GEO\"],[704.0,681.0,\"LEO\"],[764.0,594.0,\"LEO\"],[400.0,400.0,\"LEO\"],[38740.0,1210.0,\"Elliptical\"],[858.0,844.0,\"LEO\"],[784.0,770.0,\"LEO\"],[35793.0,35778.0,\"GEO\"],[35834.0,35738.0,\"GEO\"],[35787.0,35786.0,\"GEO\"],[35807.0,35766.0,\"GEO\"],[35775.0,35763.0,\"GEO\"],[35829.0,35744.0,\"GEO\"],[35835.0,35738.0,\"GEO\"],[35794.0,35772.0,\"GEO\"],[662.0,660.0,\"LEO\"],[795.0,696.0,\"LEO\"],[640.0,504.0,\"LEO\"],[35904.0,35696.0,\"GEO\"],[39807.0,542.0,\"Elliptical\"],[39697.0,667.0,\"Elliptical\"],[39128.0,563.0,\"Elliptical\"],[700.0,593.0,\"LEO\"],[30534.0,591.0,\"Elliptical\"],[30657.0,595.0,\"Elliptical\"],[699.0,594.0,\"LEO\"],[35796.0,35777.0,\"GEO\"],[504.0,494.0,\"LEO\"],[867.0,847.0,\"LEO\"],[490.0,479.0,\"LEO\"],[35796.0,35775.0,\"GEO\"],[35791.0,35782.0,\"GEO\"],[35776.0,35742.0,\"GEO\"],[685.0,682.0,\"LEO\"],[654.0,622.0,\"LEO\"],[35790.0,35783.0,\"GEO\"],[35787.0,35786.0,\"GEO\"],[35786.0,35785.0,\"GEO\"],[35786.0,35785.0,\"GEO\"],[35786.0,35785.0,\"GEO\"],[35786.0,35785.0,\"GEO\"],[35796.0,35776.0,\"GEO\"],[470310.0,186.0,\"Elliptical\"],[849.0,594.0,\"LEO\"],[494.0,491.0,\"LEO\"],[767.0,765.0,\"LEO\"],[640.0,593.0,\"LEO\"],[358.0,342.0,\"LEO\"],[1261.0,306.0,\"LEO\"],[501.0,489.0,\"LEO\"],[35790.0,35782.0,\"GEO\"],[35787.0,35784.0,\"GEO\"],[35789.0,35784.0,\"GEO\"],[35788.0,35785.0,\"GEO\"],[114027.0,7079.0,\"Elliptical\"],[823.0,801.0,\"LEO\"],[35792.0,35778.0,\"GEO\"],[1205.0,1193.0,\"LEO\"],[35823.0,35743.0,\"GEO\"],[35791.0,35780.0,\"GEO\"],[35800.0,35773.0,\"GEO\"],[35796.0,35774.0,\"GEO\"],[35866.0,35694.0,\"GEO\"],[35789.0,35784.0,\"GEO\"],[628.0,625.0,\"LEO\"],[668.0,626.0,\"LEO\"],[496.0,487.0,\"LEO\"],[507.0,506.0,\"LEO\"],[481.0,469.0,\"LEO\"],[1207.0,1201.0,\"LEO\"],[1089.0,1080.0,\"LEO\"],[1090.0,1079.0,\"LEO\"],[1081.0,1032.0,\"LEO\"],[1111.0,1076.0,\"LEO\"],[1111.0,1080.0,\"LEO\"],[1112.0,890.0,\"LEO\"],[513.0,509.0,\"LEO\"],[1207.0,1201.0,\"LEO\"],[661.0,633.0,\"LEO\"],[627.0,625.0,\"LEO\"],[658.0,635.0,\"LEO\"],[450.0,440.0,\"LEO\"],[512.0,511.0,\"LEO\"],[665.0,628.0,\"LEO\"],[1205.0,1192.0,\"LEO\"],[1164.0,1017.0,\"LEO\"],[1164.0,1017.0,\"LEO\"],[1164.0,1017.0,\"LEO\"],[824.0,802.0,\"LEO\"],[1508.0,1479.0,\"LEO\"],[683.0,594.0,\"LEO\"],[454.0,444.0,\"LEO\"],[606.0,555.0,\"LEO\"],[653.0,619.0,\"LEO\"],[653.0,620.0,\"LEO\"],[35797.0,35775.0,\"GEO\"],[35803.0,35775.0,\"GEO\"],[35807.0,35759.0,\"GEO\"],[35796.0,35778.0,\"GEO\"],[35799.0,35773.0,\"GEO\"],[35807.0,35767.0,\"GEO\"],[35792.0,35781.0,\"GEO\"],[35812.0,35759.0,\"GEO\"],[773.0,763.0,\"LEO\"],[504.0,500.0,\"LEO\"]]})"
      ],
      "text/plain": [
       "<IPython.core.display.Javascript object>"
      ]
     },
     "execution_count": 5,
     "metadata": {},
     "output_type": "execute_result"
    }
   ],
   "source": [
    "%bql .interactive_scatter SELECT apogee_km, perigee_km, class_of_orbit FROM satellites_t;"
   ]
  },
  {
   "cell_type": "code",
   "execution_count": null,
   "metadata": {
    "collapsed": true
   },
   "outputs": [],
   "source": []
  }
 ],
 "metadata": {
  "anaconda-cloud": {},
  "kernelspec": {
   "display_name": "Python 2",
   "language": "python",
   "name": "python2"
  },
  "language_info": {
   "codemirror_mode": {
    "name": "ipython",
    "version": 2
   },
   "file_extension": ".py",
   "mimetype": "text/x-python",
   "name": "python",
   "nbconvert_exporter": "python",
   "pygments_lexer": "ipython2",
   "version": "2.7.12"
  }
 },
 "nbformat": 4,
 "nbformat_minor": 1
}
